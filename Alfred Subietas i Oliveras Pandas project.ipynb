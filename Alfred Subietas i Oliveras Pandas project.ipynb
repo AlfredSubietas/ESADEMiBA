{
 "cells": [
  {
   "cell_type": "markdown",
   "metadata": {},
   "source": [
    "# Toolbox for Data Scientists"
   ]
  },
  {
   "cell_type": "markdown",
   "metadata": {},
   "source": [
    "ETL Extract, Transform, Load\n",
    "============================\n",
    "\n",
    "Is the first Data Analysis Phase.\n",
    "\n",
    "* First of all we need to get data from any source. The more immediate is to get from an structured digital source:\n",
    "\n",
    "    * Delimeted Files ([CSV](https://en.wikipedia.org/wiki/Comma-separated_values#Example))\n",
    "    * [XML Files](http://www.comptechdoc.org/independent/web/xml/guide/xmlexample.html) \n",
    "    * [JSON Files](https://en.wikipedia.org/wiki/JSON#Example)\n",
    "    * Excel Files\n",
    "    * Data Base\n",
    "    \n",
    "* Second step is to transform this data in order to help to do the further analysis step. This transformation can imply different actions:\n",
    "    * Converting values\n",
    "    * Filling missing values\n",
    "    * Selecting a reduced subset of data\n",
    "    * Selecting data of interest by applying regular expressions\n",
    "    * Sorting data\n",
    "    * Merging data\n",
    "    * Aggregating data\n",
    "    \n",
    "    \n",
    "* Finally this the data is loaded into the end target that may be any kind of database, NoSQL or SQL.\n",
    "\n",
    "\n"
   ]
  },
  {
   "cell_type": "markdown",
   "metadata": {},
   "source": [
    "# Advanced programming for data analysis: pandas.\n",
    "\n",
    "pandas is a Python package providing fast, flexible, and expressive data structures designed to work with relational or labeled data both. It is a fundamental high-level building block for doing practical, real world data analysis in Python.\n",
    "\n",
    "pandas is well suited for:\n",
    "\n",
    "+ Tabular data with heterogeneously-typed columns, as in an SQL table or Excel spreadsheet\n",
    "+ Ordered and unordered (not necessarily fixed-frequency) time series data.\n",
    "+ Arbitrary matrix data (homogeneously typed or heterogeneous) with row and column labels.\n",
    "\n",
    "Key features:\n",
    "\n",
    "+ Easy handling of missing data\n",
    "+ Size mutability: columns can be inserted and deleted from DataFrame\n",
    "+ Powerful, flexible ``group by`` functionality to perform split-apply-combine operations on data sets\n",
    "+ Intelligent label-based slicing, fancy indexing, and subsetting of large data sets\n",
    "+ Intuitive merging and joining data sets\n",
    "+ Flexible reshaping and pivoting of data sets\n",
    "+ Hierarchical labeling of axes\n",
    "+ Robust IO tools for loading data from flat files, Excel files, databases, and HDF5\n",
    "+ Time series functionality: date range generation and frequency conversion, moving window statistics, moving window linear regressions, date shifting and lagging, etc.\n"
   ]
  },
  {
   "cell_type": "markdown",
   "metadata": {},
   "source": [
    "Importing pandas:"
   ]
  },
  {
   "cell_type": "code",
   "execution_count": 3,
   "metadata": {},
   "outputs": [],
   "source": [
    "import pandas as pd                            # convention, alias 'pd'"
   ]
  },
  {
   "cell_type": "markdown",
   "metadata": {},
   "source": [
    "# Pandas Data Structures\n"
   ]
  },
  {
   "cell_type": "markdown",
   "metadata": {},
   "source": [
    "## 1. DataFrames \n",
    "\n",
    "The key data structure in Pandas is the **DataFrame** object. A DataFrame is basically a tabular data structure, with rows and columns. Rows have a specific index to access them, which can be any name or value. In Pandas, the columns are called **Series**, a special type of data, which in essence consists of a list of several values, where each value has an index. \n",
    "Therefore, the DataFrame data structure can be seen as a spreadsheet, but it is much more flexible. \n"
   ]
  },
  {
   "cell_type": "markdown",
   "metadata": {},
   "source": [
    "### Creating a new DataFrame from the scratch\n"
   ]
  },
  {
   "cell_type": "markdown",
   "metadata": {},
   "source": [
    "To understand how it works, let us see how to create a DataFrame from a common Python dictionary of lists.\n",
    "\n",
    "\n",
    "In this example, we use the pandas `DataFrame` object constructor with a dictionary of lists as argument.\n",
    "The value of each entry in the dictionary is the name of the column, and the lists are their values. \n",
    "The DataFrame columns can be arranged at construction time by entering a keyword \\emph{columns} with a list of the names of the columns ordered as we want. If the column keyword is not present in the constructor, the columns will be arranged in alphabetical order."
   ]
  },
  {
   "cell_type": "code",
   "execution_count": 4,
   "metadata": {},
   "outputs": [
    {
     "data": {
      "text/html": [
       "<div>\n",
       "<style scoped>\n",
       "    .dataframe tbody tr th:only-of-type {\n",
       "        vertical-align: middle;\n",
       "    }\n",
       "\n",
       "    .dataframe tbody tr th {\n",
       "        vertical-align: top;\n",
       "    }\n",
       "\n",
       "    .dataframe thead th {\n",
       "        text-align: right;\n",
       "    }\n",
       "</style>\n",
       "<table border=\"1\" class=\"dataframe\">\n",
       "  <thead>\n",
       "    <tr style=\"text-align: right;\">\n",
       "      <th></th>\n",
       "      <th>year</th>\n",
       "      <th>team</th>\n",
       "      <th>wins</th>\n",
       "      <th>draws</th>\n",
       "      <th>losses</th>\n",
       "    </tr>\n",
       "  </thead>\n",
       "  <tbody>\n",
       "    <tr>\n",
       "      <td>0</td>\n",
       "      <td>2010</td>\n",
       "      <td>FCBarcelona</td>\n",
       "      <td>30</td>\n",
       "      <td>6</td>\n",
       "      <td>NaN</td>\n",
       "    </tr>\n",
       "    <tr>\n",
       "      <td>1</td>\n",
       "      <td>2011</td>\n",
       "      <td>FCBarcelona</td>\n",
       "      <td>28</td>\n",
       "      <td>7</td>\n",
       "      <td>NaN</td>\n",
       "    </tr>\n",
       "    <tr>\n",
       "      <td>2</td>\n",
       "      <td>2012</td>\n",
       "      <td>FCBarcelona</td>\n",
       "      <td>32</td>\n",
       "      <td>4</td>\n",
       "      <td>NaN</td>\n",
       "    </tr>\n",
       "    <tr>\n",
       "      <td>3</td>\n",
       "      <td>2010</td>\n",
       "      <td>RMadrid</td>\n",
       "      <td>29</td>\n",
       "      <td>5</td>\n",
       "      <td>NaN</td>\n",
       "    </tr>\n",
       "    <tr>\n",
       "      <td>4</td>\n",
       "      <td>2011</td>\n",
       "      <td>RMadrid</td>\n",
       "      <td>32</td>\n",
       "      <td>4</td>\n",
       "      <td>NaN</td>\n",
       "    </tr>\n",
       "    <tr>\n",
       "      <td>5</td>\n",
       "      <td>2012</td>\n",
       "      <td>RMadrid</td>\n",
       "      <td>26</td>\n",
       "      <td>7</td>\n",
       "      <td>NaN</td>\n",
       "    </tr>\n",
       "    <tr>\n",
       "      <td>6</td>\n",
       "      <td>2010</td>\n",
       "      <td>ValenciaCF</td>\n",
       "      <td>21</td>\n",
       "      <td>8</td>\n",
       "      <td>NaN</td>\n",
       "    </tr>\n",
       "    <tr>\n",
       "      <td>7</td>\n",
       "      <td>2011</td>\n",
       "      <td>ValenciaCF</td>\n",
       "      <td>17</td>\n",
       "      <td>10</td>\n",
       "      <td>NaN</td>\n",
       "    </tr>\n",
       "    <tr>\n",
       "      <td>8</td>\n",
       "      <td>2012</td>\n",
       "      <td>ValenciaCF</td>\n",
       "      <td>19</td>\n",
       "      <td>8</td>\n",
       "      <td>NaN</td>\n",
       "    </tr>\n",
       "  </tbody>\n",
       "</table>\n",
       "</div>"
      ],
      "text/plain": [
       "   year         team  wins  draws losses\n",
       "0  2010  FCBarcelona    30      6    NaN\n",
       "1  2011  FCBarcelona    28      7    NaN\n",
       "2  2012  FCBarcelona    32      4    NaN\n",
       "3  2010      RMadrid    29      5    NaN\n",
       "4  2011      RMadrid    32      4    NaN\n",
       "5  2012      RMadrid    26      7    NaN\n",
       "6  2010   ValenciaCF    21      8    NaN\n",
       "7  2011   ValenciaCF    17     10    NaN\n",
       "8  2012   ValenciaCF    19      8    NaN"
      ]
     },
     "execution_count": 4,
     "metadata": {},
     "output_type": "execute_result"
    }
   ],
   "source": [
    "data = {'year': [2010,2011,2012,2010,2011,2012,2010,2011,2012],\n",
    "        'team': ['FCBarcelona','FCBarcelona','FCBarcelona', 'RMadrid','RMadrid','RMadrid', 'ValenciaCF',\n",
    "                 'ValenciaCF','ValenciaCF'],\n",
    "        'wins':   [30,28,32,29,32,26,21,17,19],\n",
    "        'draws':  [6,7,4,5,4,7,8,10,8],\n",
    "        'losse': [2,3,2,4,2,5,9,11,11]\n",
    "        }\n",
    "football = pd.DataFrame(data, columns=['year','team','wins','draws','losses'])\n",
    "football"
   ]
  },
  {
   "cell_type": "markdown",
   "metadata": {},
   "source": [
    "The result is a table where each entry in the dictionary is a column. The index of each row is created automatically taking the position of its elements inside the entry lists, starting from 0.\n",
    "Although it is very easy to create DataFrames from scratch, most of the time what we will need to do is import chunks of data into a DataFrame structure, we will see how to do this in later examples."
   ]
  },
  {
   "cell_type": "markdown",
   "metadata": {},
   "source": [
    "## 2. Series\n",
    "\n",
    "A Series is a single vector of data with an index that labels every element in the vector. If we do not specify the index, a sequence of integers is assigned as the index.\n"
   ]
  },
  {
   "cell_type": "code",
   "execution_count": 5,
   "metadata": {},
   "outputs": [
    {
     "data": {
      "text/plain": [
       "0    1956\n",
       "1    1967\n",
       "2    1989\n",
       "3    2000\n",
       "4    2000\n",
       "dtype: int64"
      ]
     },
     "execution_count": 5,
     "metadata": {},
     "output_type": "execute_result"
    }
   ],
   "source": [
    "c = pd.Series([1956, 1967, 1989, 2000,2000])\n",
    "c"
   ]
  },
  {
   "cell_type": "markdown",
   "metadata": {},
   "source": [
    "Its values are stored in a NumPy array (``values``) and the index in a pandas ``Index`` object:"
   ]
  },
  {
   "cell_type": "code",
   "execution_count": 6,
   "metadata": {},
   "outputs": [
    {
     "data": {
      "text/plain": [
       "array([1956, 1967, 1989, 2000, 2000])"
      ]
     },
     "execution_count": 6,
     "metadata": {},
     "output_type": "execute_result"
    }
   ],
   "source": [
    "c.values"
   ]
  },
  {
   "cell_type": "code",
   "execution_count": 7,
   "metadata": {},
   "outputs": [
    {
     "data": {
      "text/plain": [
       "RangeIndex(start=0, stop=5, step=1)"
      ]
     },
     "execution_count": 7,
     "metadata": {},
     "output_type": "execute_result"
    }
   ],
   "source": [
    "c.index"
   ]
  },
  {
   "cell_type": "markdown",
   "metadata": {},
   "source": [
    "We can assign labels to the index, while creating the serie"
   ]
  },
  {
   "cell_type": "code",
   "execution_count": 8,
   "metadata": {},
   "outputs": [
    {
     "data": {
      "text/plain": [
       "a    1956\n",
       "b    1967\n",
       "c    1989\n",
       "d    2000\n",
       "dtype: int64"
      ]
     },
     "execution_count": 8,
     "metadata": {},
     "output_type": "execute_result"
    }
   ],
   "source": [
    "c = pd.Series([1956, 1967, 1989, 2000], index = ['a','b','c','d'])\n",
    "c"
   ]
  },
  {
   "cell_type": "markdown",
   "metadata": {},
   "source": [
    "Labels can be used to refer to the values in the serie"
   ]
  },
  {
   "cell_type": "code",
   "execution_count": 9,
   "metadata": {},
   "outputs": [
    {
     "data": {
      "text/plain": [
       "2000"
      ]
     },
     "execution_count": 9,
     "metadata": {},
     "output_type": "execute_result"
    }
   ],
   "source": [
    "c['d']"
   ]
  },
  {
   "cell_type": "markdown",
   "metadata": {},
   "source": [
    "We can still use positional index"
   ]
  },
  {
   "cell_type": "code",
   "execution_count": 10,
   "metadata": {},
   "outputs": [
    {
     "data": {
      "text/plain": [
       "2000"
      ]
     },
     "execution_count": 10,
     "metadata": {},
     "output_type": "execute_result"
    }
   ],
   "source": [
    "c[3]"
   ]
  },
  {
   "cell_type": "code",
   "execution_count": 11,
   "metadata": {},
   "outputs": [
    {
     "data": {
      "text/plain": [
       "obs\n",
       "a    1956\n",
       "b    1967\n",
       "c    1989\n",
       "d    2000\n",
       "Name: years, dtype: int64"
      ]
     },
     "execution_count": 11,
     "metadata": {},
     "output_type": "execute_result"
    }
   ],
   "source": [
    "c.name = 'years'\n",
    "c.index.name = 'obs'\n",
    "c"
   ]
  },
  {
   "cell_type": "markdown",
   "metadata": {},
   "source": [
    "## 3. TimeSeries\n",
    "\n",
    "In working with time series data, we will frequently seek to:\n",
    "\n",
    "- generate sequences of fixed-frequency dates and time spans\n",
    "- conform or convert time series to a particular frequency\n",
    "- compute “relative” dates based on various non-standard time increments (e.g. 5 business days before the last business day of the year), or “roll” dates forward or backward\n",
    "\n",
    "pandas provides a relatively compact and self-contained set of tools for performing the above tasks.\n",
    "\n",
    "Create a range of dates:\n"
   ]
  },
  {
   "cell_type": "code",
   "execution_count": 12,
   "metadata": {},
   "outputs": [],
   "source": [
    "# 72 hours starting with midnight Jan 1st, 2011\n",
    "rng = pd.date_range('1/1/2011', periods=72, freq='H')"
   ]
  },
  {
   "cell_type": "markdown",
   "metadata": {},
   "source": [
    "Index pandas objects with dates:"
   ]
  },
  {
   "cell_type": "code",
   "execution_count": 13,
   "metadata": {},
   "outputs": [
    {
     "data": {
      "text/plain": [
       "2011-01-01 00:00:00     75\n",
       "2011-01-01 01:00:00    420\n",
       "2011-01-01 02:00:00    237\n",
       "2011-01-01 03:00:00    326\n",
       "2011-01-01 04:00:00     16\n",
       "2011-01-01 05:00:00    258\n",
       "2011-01-01 06:00:00    316\n",
       "2011-01-01 07:00:00    166\n",
       "2011-01-01 08:00:00    379\n",
       "2011-01-01 09:00:00    322\n",
       "Freq: H, dtype: int64"
      ]
     },
     "execution_count": 13,
     "metadata": {},
     "output_type": "execute_result"
    }
   ],
   "source": [
    "import random\n",
    "ts = pd.Series([random.randint(0,500) for x in rng],index = rng) # index is date_range\n",
    "ts.head(10) # return 5 first rows"
   ]
  },
  {
   "cell_type": "markdown",
   "metadata": {},
   "source": [
    "Change frequency and fill gaps:"
   ]
  },
  {
   "cell_type": "code",
   "execution_count": 14,
   "metadata": {},
   "outputs": [
    {
     "data": {
      "text/plain": [
       "2011-01-01 00:00:00     75\n",
       "2011-01-01 00:45:00     75\n",
       "2011-01-01 01:30:00    420\n",
       "2011-01-01 02:15:00    237\n",
       "2011-01-01 03:00:00    326\n",
       "Freq: 45T, dtype: int64"
      ]
     },
     "execution_count": 14,
     "metadata": {},
     "output_type": "execute_result"
    }
   ],
   "source": [
    "# to 45 minute frequency and forward fill\n",
    "converted = ts.asfreq('45Min', method='pad')\n",
    "converted.head() #return 5 first rows"
   ]
  },
  {
   "cell_type": "code",
   "execution_count": 15,
   "metadata": {},
   "outputs": [
    {
     "data": {
      "text/plain": [
       "2011-01-01    256.708333\n",
       "2011-01-02    231.291667\n",
       "2011-01-03    256.750000\n",
       "Freq: D, dtype: float64"
      ]
     },
     "execution_count": 15,
     "metadata": {},
     "output_type": "execute_result"
    }
   ],
   "source": [
    "# Resampling from hours to days and takes the mean\n",
    "ts.resample('D').mean()"
   ]
  },
  {
   "cell_type": "markdown",
   "metadata": {},
   "source": [
    "## Open government data analysis example using Pandas\n",
    "\n",
    "To illustrate how we can use Pandas in a simple real problem, we will start doing some basic analysis of government data. For the sake of transparency, data produced by government entities must be open, meaning that they can be freely used, reused and distributed by anyone. An example of this is the Eurostat, which is the home of European Commission data. Eurostat’s main role is to process and publish comparable statistical information at the European level. The data in Eurostat are provided by each member state and it is free to reuse them, both for noncommercial and commercial purposes (with some minor exceptions).  \n",
    "\n",
    "\n",
    "Since the amount of data in the Eurostat database is huge, in our first study we are only going to focus on data relative to indicators of educational funding by the member states. Thus, the first thing to do is to retrieve such data from Eurostat. Since open data have to be delivered in a plain text format, CSV (or any other delimiter-separated value) formats are commonly used to store tabular data. In a delimiter-separated value file, each line is a data record and each record consists of one or more fields, separated by the delimiter character (usually a comma). Therefore, the data we will use can be found already downloaded and preprocessed as a CSV file *educ_figdp_1_Data.csv* which can be download from the book's Github webpage. Of course, it can also be downloaded as unprocessed tabular data from the Eurostat database site [Eurostat database site]( http://ec.europa.eu/eurostat/data/database) \n",
    "following the path:  `Tables by themes > Population and social conditions > \n",
    "Education and training > Education > Indicators on education finance > Public expenditure on education` "
   ]
  },
  {
   "cell_type": "markdown",
   "metadata": {},
   "source": [
    "## Reading tabular data\n",
    "\n",
    "Let us start reading the data we downloaded.\n",
    "The way to read CSV (or any other separated value, providing the separator character) files in Pandas is by calling the `read_csv` method. Besides the name of the file, we add the *na_values* key argument to this method along with the character that represents \"non available data\" in the file. Normally, CSV files have a header with the names of the columns. If this is the case,  we can use the *usecols* parameter to select which columns in the file will be used.\n",
    "\n"
   ]
  },
  {
   "cell_type": "code",
   "execution_count": 16,
   "metadata": {},
   "outputs": [
    {
     "data": {
      "text/html": [
       "<div>\n",
       "<style scoped>\n",
       "    .dataframe tbody tr th:only-of-type {\n",
       "        vertical-align: middle;\n",
       "    }\n",
       "\n",
       "    .dataframe tbody tr th {\n",
       "        vertical-align: top;\n",
       "    }\n",
       "\n",
       "    .dataframe thead th {\n",
       "        text-align: right;\n",
       "    }\n",
       "</style>\n",
       "<table border=\"1\" class=\"dataframe\">\n",
       "  <thead>\n",
       "    <tr style=\"text-align: right;\">\n",
       "      <th></th>\n",
       "      <th>TIME</th>\n",
       "      <th>GEO</th>\n",
       "      <th>Value</th>\n",
       "    </tr>\n",
       "  </thead>\n",
       "  <tbody>\n",
       "    <tr>\n",
       "      <td>0</td>\n",
       "      <td>2000</td>\n",
       "      <td>European Union (28 countries)</td>\n",
       "      <td>NaN</td>\n",
       "    </tr>\n",
       "    <tr>\n",
       "      <td>1</td>\n",
       "      <td>2001</td>\n",
       "      <td>European Union (28 countries)</td>\n",
       "      <td>NaN</td>\n",
       "    </tr>\n",
       "    <tr>\n",
       "      <td>2</td>\n",
       "      <td>2002</td>\n",
       "      <td>European Union (28 countries)</td>\n",
       "      <td>5.00</td>\n",
       "    </tr>\n",
       "    <tr>\n",
       "      <td>3</td>\n",
       "      <td>2003</td>\n",
       "      <td>European Union (28 countries)</td>\n",
       "      <td>5.03</td>\n",
       "    </tr>\n",
       "    <tr>\n",
       "      <td>4</td>\n",
       "      <td>2004</td>\n",
       "      <td>European Union (28 countries)</td>\n",
       "      <td>4.95</td>\n",
       "    </tr>\n",
       "    <tr>\n",
       "      <td>...</td>\n",
       "      <td>...</td>\n",
       "      <td>...</td>\n",
       "      <td>...</td>\n",
       "    </tr>\n",
       "    <tr>\n",
       "      <td>379</td>\n",
       "      <td>2007</td>\n",
       "      <td>Finland</td>\n",
       "      <td>5.90</td>\n",
       "    </tr>\n",
       "    <tr>\n",
       "      <td>380</td>\n",
       "      <td>2008</td>\n",
       "      <td>Finland</td>\n",
       "      <td>6.10</td>\n",
       "    </tr>\n",
       "    <tr>\n",
       "      <td>381</td>\n",
       "      <td>2009</td>\n",
       "      <td>Finland</td>\n",
       "      <td>6.81</td>\n",
       "    </tr>\n",
       "    <tr>\n",
       "      <td>382</td>\n",
       "      <td>2010</td>\n",
       "      <td>Finland</td>\n",
       "      <td>6.85</td>\n",
       "    </tr>\n",
       "    <tr>\n",
       "      <td>383</td>\n",
       "      <td>2011</td>\n",
       "      <td>Finland</td>\n",
       "      <td>6.76</td>\n",
       "    </tr>\n",
       "  </tbody>\n",
       "</table>\n",
       "<p>384 rows × 3 columns</p>\n",
       "</div>"
      ],
      "text/plain": [
       "     TIME                            GEO  Value\n",
       "0    2000  European Union (28 countries)    NaN\n",
       "1    2001  European Union (28 countries)    NaN\n",
       "2    2002  European Union (28 countries)   5.00\n",
       "3    2003  European Union (28 countries)   5.03\n",
       "4    2004  European Union (28 countries)   4.95\n",
       "..    ...                            ...    ...\n",
       "379  2007                        Finland   5.90\n",
       "380  2008                        Finland   6.10\n",
       "381  2009                        Finland   6.81\n",
       "382  2010                        Finland   6.85\n",
       "383  2011                        Finland   6.76\n",
       "\n",
       "[384 rows x 3 columns]"
      ]
     },
     "execution_count": 16,
     "metadata": {},
     "output_type": "execute_result"
    }
   ],
   "source": [
    "import pandas as pd\n",
    "edu=pd.read_csv('educ_figdp/educ_figdp_1_Data.csv',na_values=':',usecols=[\"TIME\",\"GEO\",\"Value\"])\n",
    "edu"
   ]
  },
  {
   "cell_type": "markdown",
   "metadata": {},
   "source": [
    "In this case, the DataFrame resulting from reading our data is stored in **edu**. The output of the execution shows that the `edu` DataFrame size is 384 rows $\\times$ 3 columns. Since the DataFrame is too large to be fully displayed, three dots appear in the middle of each row.\n",
    "\n",
    "\n",
    "Beside this, Pandas also has functions for reading files with formats such as Excel, HDF5, tabulated files or even the content from the clipboard (`read_excel(), read_hdf(), read_table(), read_clipboard()`). Whichever function we use, the result of reading a file is stored as a DataFrame structure. \n",
    "\n"
   ]
  },
  {
   "cell_type": "markdown",
   "metadata": {},
   "source": [
    "Check the shape and type of `DataFrame`"
   ]
  },
  {
   "cell_type": "code",
   "execution_count": 17,
   "metadata": {},
   "outputs": [
    {
     "data": {
      "text/plain": [
       "(384, 3)"
      ]
     },
     "execution_count": 17,
     "metadata": {},
     "output_type": "execute_result"
    }
   ],
   "source": [
    "edu.shape "
   ]
  },
  {
   "cell_type": "code",
   "execution_count": 18,
   "metadata": {},
   "outputs": [
    {
     "data": {
      "text/plain": [
       "pandas.core.frame.DataFrame"
      ]
     },
     "execution_count": 18,
     "metadata": {},
     "output_type": "execute_result"
    }
   ],
   "source": [
    "type(edu)"
   ]
  },
  {
   "cell_type": "markdown",
   "metadata": {},
   "source": [
    "## Viewing Data\n",
    "\n",
    "To see how the data looks, we can use the `head()` method, which shows just the first five rows. if we put a number as an argument to this method, this will be the number of the first rows that are listed."
   ]
  },
  {
   "cell_type": "code",
   "execution_count": 19,
   "metadata": {},
   "outputs": [
    {
     "data": {
      "text/html": [
       "<div>\n",
       "<style scoped>\n",
       "    .dataframe tbody tr th:only-of-type {\n",
       "        vertical-align: middle;\n",
       "    }\n",
       "\n",
       "    .dataframe tbody tr th {\n",
       "        vertical-align: top;\n",
       "    }\n",
       "\n",
       "    .dataframe thead th {\n",
       "        text-align: right;\n",
       "    }\n",
       "</style>\n",
       "<table border=\"1\" class=\"dataframe\">\n",
       "  <thead>\n",
       "    <tr style=\"text-align: right;\">\n",
       "      <th></th>\n",
       "      <th>TIME</th>\n",
       "      <th>GEO</th>\n",
       "      <th>Value</th>\n",
       "    </tr>\n",
       "  </thead>\n",
       "  <tbody>\n",
       "    <tr>\n",
       "      <td>0</td>\n",
       "      <td>2000</td>\n",
       "      <td>European Union (28 countries)</td>\n",
       "      <td>NaN</td>\n",
       "    </tr>\n",
       "    <tr>\n",
       "      <td>1</td>\n",
       "      <td>2001</td>\n",
       "      <td>European Union (28 countries)</td>\n",
       "      <td>NaN</td>\n",
       "    </tr>\n",
       "    <tr>\n",
       "      <td>2</td>\n",
       "      <td>2002</td>\n",
       "      <td>European Union (28 countries)</td>\n",
       "      <td>5.00</td>\n",
       "    </tr>\n",
       "    <tr>\n",
       "      <td>3</td>\n",
       "      <td>2003</td>\n",
       "      <td>European Union (28 countries)</td>\n",
       "      <td>5.03</td>\n",
       "    </tr>\n",
       "    <tr>\n",
       "      <td>4</td>\n",
       "      <td>2004</td>\n",
       "      <td>European Union (28 countries)</td>\n",
       "      <td>4.95</td>\n",
       "    </tr>\n",
       "  </tbody>\n",
       "</table>\n",
       "</div>"
      ],
      "text/plain": [
       "   TIME                            GEO  Value\n",
       "0  2000  European Union (28 countries)    NaN\n",
       "1  2001  European Union (28 countries)    NaN\n",
       "2  2002  European Union (28 countries)   5.00\n",
       "3  2003  European Union (28 countries)   5.03\n",
       "4  2004  European Union (28 countries)   4.95"
      ]
     },
     "execution_count": 19,
     "metadata": {},
     "output_type": "execute_result"
    }
   ],
   "source": [
    "edu.head()"
   ]
  },
  {
   "cell_type": "markdown",
   "metadata": {},
   "source": [
    "Similarly, it exists the **tail()** method, which returns the last five rows by default."
   ]
  },
  {
   "cell_type": "code",
   "execution_count": 20,
   "metadata": {},
   "outputs": [
    {
     "data": {
      "text/html": [
       "<div>\n",
       "<style scoped>\n",
       "    .dataframe tbody tr th:only-of-type {\n",
       "        vertical-align: middle;\n",
       "    }\n",
       "\n",
       "    .dataframe tbody tr th {\n",
       "        vertical-align: top;\n",
       "    }\n",
       "\n",
       "    .dataframe thead th {\n",
       "        text-align: right;\n",
       "    }\n",
       "</style>\n",
       "<table border=\"1\" class=\"dataframe\">\n",
       "  <thead>\n",
       "    <tr style=\"text-align: right;\">\n",
       "      <th></th>\n",
       "      <th>TIME</th>\n",
       "      <th>GEO</th>\n",
       "      <th>Value</th>\n",
       "    </tr>\n",
       "  </thead>\n",
       "  <tbody>\n",
       "    <tr>\n",
       "      <td>379</td>\n",
       "      <td>2007</td>\n",
       "      <td>Finland</td>\n",
       "      <td>5.90</td>\n",
       "    </tr>\n",
       "    <tr>\n",
       "      <td>380</td>\n",
       "      <td>2008</td>\n",
       "      <td>Finland</td>\n",
       "      <td>6.10</td>\n",
       "    </tr>\n",
       "    <tr>\n",
       "      <td>381</td>\n",
       "      <td>2009</td>\n",
       "      <td>Finland</td>\n",
       "      <td>6.81</td>\n",
       "    </tr>\n",
       "    <tr>\n",
       "      <td>382</td>\n",
       "      <td>2010</td>\n",
       "      <td>Finland</td>\n",
       "      <td>6.85</td>\n",
       "    </tr>\n",
       "    <tr>\n",
       "      <td>383</td>\n",
       "      <td>2011</td>\n",
       "      <td>Finland</td>\n",
       "      <td>6.76</td>\n",
       "    </tr>\n",
       "  </tbody>\n",
       "</table>\n",
       "</div>"
      ],
      "text/plain": [
       "     TIME      GEO  Value\n",
       "379  2007  Finland   5.90\n",
       "380  2008  Finland   6.10\n",
       "381  2009  Finland   6.81\n",
       "382  2010  Finland   6.85\n",
       "383  2011  Finland   6.76"
      ]
     },
     "execution_count": 20,
     "metadata": {},
     "output_type": "execute_result"
    }
   ],
   "source": [
    "edu.tail()"
   ]
  },
  {
   "cell_type": "markdown",
   "metadata": {},
   "source": [
    "If we want to know the names of the columns or the names of the indexes, we can use the DataFrame attributes **columns** and **index** respectively. The names of the columns or indexes can be changed by assigning a new list of the same length to these attributes. "
   ]
  },
  {
   "cell_type": "code",
   "execution_count": 21,
   "metadata": {},
   "outputs": [
    {
     "data": {
      "text/plain": [
       "Index(['TIME', 'GEO', 'Value'], dtype='object')"
      ]
     },
     "execution_count": 21,
     "metadata": {},
     "output_type": "execute_result"
    }
   ],
   "source": [
    "edu.columns "
   ]
  },
  {
   "cell_type": "code",
   "execution_count": 22,
   "metadata": {},
   "outputs": [
    {
     "data": {
      "text/plain": [
       "RangeIndex(start=0, stop=384, step=1)"
      ]
     },
     "execution_count": 22,
     "metadata": {},
     "output_type": "execute_result"
    }
   ],
   "source": [
    "edu.index"
   ]
  },
  {
   "cell_type": "markdown",
   "metadata": {},
   "source": [
    "The values of any DataFrame can be retrieved as a Python array by calling its **values ** attribute."
   ]
  },
  {
   "cell_type": "code",
   "execution_count": 23,
   "metadata": {},
   "outputs": [
    {
     "data": {
      "text/plain": [
       "array([[2000, 'European Union (28 countries)', nan],\n",
       "       [2001, 'European Union (28 countries)', nan],\n",
       "       [2002, 'European Union (28 countries)', 5.0],\n",
       "       ...,\n",
       "       [2009, 'Finland', 6.81],\n",
       "       [2010, 'Finland', 6.85],\n",
       "       [2011, 'Finland', 6.76]], dtype=object)"
      ]
     },
     "execution_count": 23,
     "metadata": {},
     "output_type": "execute_result"
    }
   ],
   "source": [
    "edu.values"
   ]
  },
  {
   "cell_type": "markdown",
   "metadata": {},
   "source": [
    "If we just want quick statistical information on all the numeric columns in a data frame, we can use the function **describe()**. The result shows the count, the mean, the standard deviation, the minimum and maximum, and the percentiles, by default, the 25th, 50th, and 75th, for all the values in each column or series.\n"
   ]
  },
  {
   "cell_type": "code",
   "execution_count": 24,
   "metadata": {},
   "outputs": [
    {
     "data": {
      "text/html": [
       "<div>\n",
       "<style scoped>\n",
       "    .dataframe tbody tr th:only-of-type {\n",
       "        vertical-align: middle;\n",
       "    }\n",
       "\n",
       "    .dataframe tbody tr th {\n",
       "        vertical-align: top;\n",
       "    }\n",
       "\n",
       "    .dataframe thead th {\n",
       "        text-align: right;\n",
       "    }\n",
       "</style>\n",
       "<table border=\"1\" class=\"dataframe\">\n",
       "  <thead>\n",
       "    <tr style=\"text-align: right;\">\n",
       "      <th></th>\n",
       "      <th>TIME</th>\n",
       "      <th>Value</th>\n",
       "    </tr>\n",
       "  </thead>\n",
       "  <tbody>\n",
       "    <tr>\n",
       "      <td>count</td>\n",
       "      <td>384.000000</td>\n",
       "      <td>361.000000</td>\n",
       "    </tr>\n",
       "    <tr>\n",
       "      <td>mean</td>\n",
       "      <td>2005.500000</td>\n",
       "      <td>5.203989</td>\n",
       "    </tr>\n",
       "    <tr>\n",
       "      <td>std</td>\n",
       "      <td>3.456556</td>\n",
       "      <td>1.021694</td>\n",
       "    </tr>\n",
       "    <tr>\n",
       "      <td>min</td>\n",
       "      <td>2000.000000</td>\n",
       "      <td>2.880000</td>\n",
       "    </tr>\n",
       "    <tr>\n",
       "      <td>25%</td>\n",
       "      <td>2002.750000</td>\n",
       "      <td>4.620000</td>\n",
       "    </tr>\n",
       "    <tr>\n",
       "      <td>50%</td>\n",
       "      <td>2005.500000</td>\n",
       "      <td>5.060000</td>\n",
       "    </tr>\n",
       "    <tr>\n",
       "      <td>75%</td>\n",
       "      <td>2008.250000</td>\n",
       "      <td>5.660000</td>\n",
       "    </tr>\n",
       "    <tr>\n",
       "      <td>max</td>\n",
       "      <td>2011.000000</td>\n",
       "      <td>8.810000</td>\n",
       "    </tr>\n",
       "  </tbody>\n",
       "</table>\n",
       "</div>"
      ],
      "text/plain": [
       "              TIME       Value\n",
       "count   384.000000  361.000000\n",
       "mean   2005.500000    5.203989\n",
       "std       3.456556    1.021694\n",
       "min    2000.000000    2.880000\n",
       "25%    2002.750000    4.620000\n",
       "50%    2005.500000    5.060000\n",
       "75%    2008.250000    5.660000\n",
       "max    2011.000000    8.810000"
      ]
     },
     "execution_count": 24,
     "metadata": {},
     "output_type": "execute_result"
    }
   ],
   "source": [
    "edu.describe()"
   ]
  },
  {
   "cell_type": "markdown",
   "metadata": {},
   "source": [
    "## Selection\n",
    "\n",
    "If we want to select a subset of data from a DataFrame, it is necessary to indicate this subset using square brackets **[]** after the DataFrame. The subset can be specified in several ways. If we want to select only one column from a DataFrame, we only need to put its name between the square brackets. The result will be a Series data structure, not a DataFrame, because only one column is retrieved.\n"
   ]
  },
  {
   "cell_type": "code",
   "execution_count": 25,
   "metadata": {},
   "outputs": [
    {
     "data": {
      "text/plain": [
       "0       NaN\n",
       "1       NaN\n",
       "2      5.00\n",
       "3      5.03\n",
       "4      4.95\n",
       "       ... \n",
       "379    5.90\n",
       "380    6.10\n",
       "381    6.81\n",
       "382    6.85\n",
       "383    6.76\n",
       "Name: Value, Length: 384, dtype: float64"
      ]
     },
     "execution_count": 25,
     "metadata": {},
     "output_type": "execute_result"
    }
   ],
   "source": [
    "edu[\"Value\"]"
   ]
  },
  {
   "cell_type": "markdown",
   "metadata": {},
   "source": [
    "If we want to select a subset of rows from a DataFrame, we can do so by indicating a range of rows separated by **:** inside the square brackets. This is commonly known as a *slice* of rows.\n",
    "\n",
    "Next instruction returns the slice of rows from the 10th to the 13th position. **Note** that the slice does not use the index labels as references, but the position. In this case, the labels of the rows simply coincide with the position of the rows."
   ]
  },
  {
   "cell_type": "code",
   "execution_count": 26,
   "metadata": {},
   "outputs": [
    {
     "data": {
      "text/html": [
       "<div>\n",
       "<style scoped>\n",
       "    .dataframe tbody tr th:only-of-type {\n",
       "        vertical-align: middle;\n",
       "    }\n",
       "\n",
       "    .dataframe tbody tr th {\n",
       "        vertical-align: top;\n",
       "    }\n",
       "\n",
       "    .dataframe thead th {\n",
       "        text-align: right;\n",
       "    }\n",
       "</style>\n",
       "<table border=\"1\" class=\"dataframe\">\n",
       "  <thead>\n",
       "    <tr style=\"text-align: right;\">\n",
       "      <th></th>\n",
       "      <th>TIME</th>\n",
       "      <th>GEO</th>\n",
       "      <th>Value</th>\n",
       "    </tr>\n",
       "  </thead>\n",
       "  <tbody>\n",
       "    <tr>\n",
       "      <td>10</td>\n",
       "      <td>2010</td>\n",
       "      <td>European Union (28 countries)</td>\n",
       "      <td>5.41</td>\n",
       "    </tr>\n",
       "    <tr>\n",
       "      <td>11</td>\n",
       "      <td>2011</td>\n",
       "      <td>European Union (28 countries)</td>\n",
       "      <td>5.25</td>\n",
       "    </tr>\n",
       "    <tr>\n",
       "      <td>12</td>\n",
       "      <td>2000</td>\n",
       "      <td>European Union (27 countries)</td>\n",
       "      <td>4.91</td>\n",
       "    </tr>\n",
       "    <tr>\n",
       "      <td>13</td>\n",
       "      <td>2001</td>\n",
       "      <td>European Union (27 countries)</td>\n",
       "      <td>4.99</td>\n",
       "    </tr>\n",
       "  </tbody>\n",
       "</table>\n",
       "</div>"
      ],
      "text/plain": [
       "    TIME                            GEO  Value\n",
       "10  2010  European Union (28 countries)   5.41\n",
       "11  2011  European Union (28 countries)   5.25\n",
       "12  2000  European Union (27 countries)   4.91\n",
       "13  2001  European Union (27 countries)   4.99"
      ]
     },
     "execution_count": 26,
     "metadata": {},
     "output_type": "execute_result"
    }
   ],
   "source": [
    "edu[10:14]"
   ]
  },
  {
   "cell_type": "markdown",
   "metadata": {},
   "source": [
    " If we want to select a subset of columns and rows using the labels as our references instead of the positions, we can use **ix** indexing.\n",
    "\n",
    "Next instruction  will return all the rows between the indexes specified in the slice before the comma, and the columns specified as a list after the comma. In this case, **ix** references the index labels, which means that  **ix** does not return the 90th to 94th rows, but it returns all the rows between the row labeled 90 and the row labeled 94; thus if the index 100 is placed between the rows labeled as 90 and 94, this row would also be returned."
   ]
  },
  {
   "cell_type": "code",
   "execution_count": 27,
   "metadata": {},
   "outputs": [
    {
     "name": "stderr",
     "output_type": "stream",
     "text": [
      "/Users/alfred/Documents/anaconda/anaconda3/lib/python3.7/site-packages/ipykernel_launcher.py:1: FutureWarning: \n",
      ".ix is deprecated. Please use\n",
      ".loc for label based indexing or\n",
      ".iloc for positional indexing\n",
      "\n",
      "See the documentation here:\n",
      "http://pandas.pydata.org/pandas-docs/stable/user_guide/indexing.html#ix-indexer-is-deprecated\n",
      "  \"\"\"Entry point for launching an IPython kernel.\n",
      "/Users/alfred/Documents/anaconda/anaconda3/lib/python3.7/site-packages/pandas/core/indexing.py:822: FutureWarning: \n",
      ".ix is deprecated. Please use\n",
      ".loc for label based indexing or\n",
      ".iloc for positional indexing\n",
      "\n",
      "See the documentation here:\n",
      "http://pandas.pydata.org/pandas-docs/stable/user_guide/indexing.html#ix-indexer-is-deprecated\n",
      "  retval = getattr(retval, self.name)._getitem_axis(key, axis=i)\n"
     ]
    },
    {
     "data": {
      "text/html": [
       "<div>\n",
       "<style scoped>\n",
       "    .dataframe tbody tr th:only-of-type {\n",
       "        vertical-align: middle;\n",
       "    }\n",
       "\n",
       "    .dataframe tbody tr th {\n",
       "        vertical-align: top;\n",
       "    }\n",
       "\n",
       "    .dataframe thead th {\n",
       "        text-align: right;\n",
       "    }\n",
       "</style>\n",
       "<table border=\"1\" class=\"dataframe\">\n",
       "  <thead>\n",
       "    <tr style=\"text-align: right;\">\n",
       "      <th></th>\n",
       "      <th>TIME</th>\n",
       "      <th>GEO</th>\n",
       "    </tr>\n",
       "  </thead>\n",
       "  <tbody>\n",
       "    <tr>\n",
       "      <td>90</td>\n",
       "      <td>2006</td>\n",
       "      <td>Belgium</td>\n",
       "    </tr>\n",
       "    <tr>\n",
       "      <td>91</td>\n",
       "      <td>2007</td>\n",
       "      <td>Belgium</td>\n",
       "    </tr>\n",
       "    <tr>\n",
       "      <td>92</td>\n",
       "      <td>2008</td>\n",
       "      <td>Belgium</td>\n",
       "    </tr>\n",
       "    <tr>\n",
       "      <td>93</td>\n",
       "      <td>2009</td>\n",
       "      <td>Belgium</td>\n",
       "    </tr>\n",
       "    <tr>\n",
       "      <td>94</td>\n",
       "      <td>2010</td>\n",
       "      <td>Belgium</td>\n",
       "    </tr>\n",
       "  </tbody>\n",
       "</table>\n",
       "</div>"
      ],
      "text/plain": [
       "    TIME      GEO\n",
       "90  2006  Belgium\n",
       "91  2007  Belgium\n",
       "92  2008  Belgium\n",
       "93  2009  Belgium\n",
       "94  2010  Belgium"
      ]
     },
     "execution_count": 27,
     "metadata": {},
     "output_type": "execute_result"
    }
   ],
   "source": [
    "edu.ix[90:94,['TIME','GEO']]"
   ]
  },
  {
   "cell_type": "markdown",
   "metadata": {},
   "source": [
    "## Filtering Data"
   ]
  },
  {
   "cell_type": "markdown",
   "metadata": {},
   "source": [
    "Another way to select a subset of data is by applying Boolean indexing. This indexing is commonly known as a *filter*. For instance, if we want to filter those values less than or equal to 6.5, we can do it like this: "
   ]
  },
  {
   "cell_type": "code",
   "execution_count": 28,
   "metadata": {},
   "outputs": [
    {
     "data": {
      "text/plain": [
       "0      False\n",
       "1      False\n",
       "2      False\n",
       "3      False\n",
       "4      False\n",
       "       ...  \n",
       "379    False\n",
       "380    False\n",
       "381     True\n",
       "382     True\n",
       "383     True\n",
       "Name: Value, Length: 384, dtype: bool"
      ]
     },
     "execution_count": 28,
     "metadata": {},
     "output_type": "execute_result"
    }
   ],
   "source": [
    "s=edu['Value'] > 6.5\n",
    "s"
   ]
  },
  {
   "cell_type": "code",
   "execution_count": 29,
   "metadata": {},
   "outputs": [
    {
     "data": {
      "text/html": [
       "<div>\n",
       "<style scoped>\n",
       "    .dataframe tbody tr th:only-of-type {\n",
       "        vertical-align: middle;\n",
       "    }\n",
       "\n",
       "    .dataframe tbody tr th {\n",
       "        vertical-align: top;\n",
       "    }\n",
       "\n",
       "    .dataframe thead th {\n",
       "        text-align: right;\n",
       "    }\n",
       "</style>\n",
       "<table border=\"1\" class=\"dataframe\">\n",
       "  <thead>\n",
       "    <tr style=\"text-align: right;\">\n",
       "      <th></th>\n",
       "      <th>TIME</th>\n",
       "      <th>GEO</th>\n",
       "      <th>Value</th>\n",
       "    </tr>\n",
       "  </thead>\n",
       "  <tbody>\n",
       "    <tr>\n",
       "      <td>93</td>\n",
       "      <td>2009</td>\n",
       "      <td>Belgium</td>\n",
       "      <td>6.57</td>\n",
       "    </tr>\n",
       "    <tr>\n",
       "      <td>94</td>\n",
       "      <td>2010</td>\n",
       "      <td>Belgium</td>\n",
       "      <td>6.58</td>\n",
       "    </tr>\n",
       "    <tr>\n",
       "      <td>95</td>\n",
       "      <td>2011</td>\n",
       "      <td>Belgium</td>\n",
       "      <td>6.55</td>\n",
       "    </tr>\n",
       "    <tr>\n",
       "      <td>120</td>\n",
       "      <td>2000</td>\n",
       "      <td>Denmark</td>\n",
       "      <td>8.28</td>\n",
       "    </tr>\n",
       "    <tr>\n",
       "      <td>121</td>\n",
       "      <td>2001</td>\n",
       "      <td>Denmark</td>\n",
       "      <td>8.44</td>\n",
       "    </tr>\n",
       "    <tr>\n",
       "      <td>122</td>\n",
       "      <td>2002</td>\n",
       "      <td>Denmark</td>\n",
       "      <td>8.44</td>\n",
       "    </tr>\n",
       "    <tr>\n",
       "      <td>123</td>\n",
       "      <td>2003</td>\n",
       "      <td>Denmark</td>\n",
       "      <td>8.33</td>\n",
       "    </tr>\n",
       "    <tr>\n",
       "      <td>124</td>\n",
       "      <td>2004</td>\n",
       "      <td>Denmark</td>\n",
       "      <td>8.43</td>\n",
       "    </tr>\n",
       "    <tr>\n",
       "      <td>125</td>\n",
       "      <td>2005</td>\n",
       "      <td>Denmark</td>\n",
       "      <td>8.30</td>\n",
       "    </tr>\n",
       "    <tr>\n",
       "      <td>126</td>\n",
       "      <td>2006</td>\n",
       "      <td>Denmark</td>\n",
       "      <td>7.97</td>\n",
       "    </tr>\n",
       "    <tr>\n",
       "      <td>127</td>\n",
       "      <td>2007</td>\n",
       "      <td>Denmark</td>\n",
       "      <td>7.81</td>\n",
       "    </tr>\n",
       "    <tr>\n",
       "      <td>128</td>\n",
       "      <td>2008</td>\n",
       "      <td>Denmark</td>\n",
       "      <td>7.68</td>\n",
       "    </tr>\n",
       "    <tr>\n",
       "      <td>129</td>\n",
       "      <td>2009</td>\n",
       "      <td>Denmark</td>\n",
       "      <td>8.74</td>\n",
       "    </tr>\n",
       "    <tr>\n",
       "      <td>130</td>\n",
       "      <td>2010</td>\n",
       "      <td>Denmark</td>\n",
       "      <td>8.81</td>\n",
       "    </tr>\n",
       "    <tr>\n",
       "      <td>131</td>\n",
       "      <td>2011</td>\n",
       "      <td>Denmark</td>\n",
       "      <td>8.75</td>\n",
       "    </tr>\n",
       "    <tr>\n",
       "      <td>218</td>\n",
       "      <td>2002</td>\n",
       "      <td>Cyprus</td>\n",
       "      <td>6.60</td>\n",
       "    </tr>\n",
       "    <tr>\n",
       "      <td>219</td>\n",
       "      <td>2003</td>\n",
       "      <td>Cyprus</td>\n",
       "      <td>7.37</td>\n",
       "    </tr>\n",
       "    <tr>\n",
       "      <td>220</td>\n",
       "      <td>2004</td>\n",
       "      <td>Cyprus</td>\n",
       "      <td>6.77</td>\n",
       "    </tr>\n",
       "    <tr>\n",
       "      <td>221</td>\n",
       "      <td>2005</td>\n",
       "      <td>Cyprus</td>\n",
       "      <td>6.95</td>\n",
       "    </tr>\n",
       "    <tr>\n",
       "      <td>222</td>\n",
       "      <td>2006</td>\n",
       "      <td>Cyprus</td>\n",
       "      <td>7.02</td>\n",
       "    </tr>\n",
       "    <tr>\n",
       "      <td>223</td>\n",
       "      <td>2007</td>\n",
       "      <td>Cyprus</td>\n",
       "      <td>6.95</td>\n",
       "    </tr>\n",
       "    <tr>\n",
       "      <td>224</td>\n",
       "      <td>2008</td>\n",
       "      <td>Cyprus</td>\n",
       "      <td>7.45</td>\n",
       "    </tr>\n",
       "    <tr>\n",
       "      <td>225</td>\n",
       "      <td>2009</td>\n",
       "      <td>Cyprus</td>\n",
       "      <td>7.98</td>\n",
       "    </tr>\n",
       "    <tr>\n",
       "      <td>226</td>\n",
       "      <td>2010</td>\n",
       "      <td>Cyprus</td>\n",
       "      <td>7.92</td>\n",
       "    </tr>\n",
       "    <tr>\n",
       "      <td>227</td>\n",
       "      <td>2011</td>\n",
       "      <td>Cyprus</td>\n",
       "      <td>7.87</td>\n",
       "    </tr>\n",
       "    <tr>\n",
       "      <td>229</td>\n",
       "      <td>2001</td>\n",
       "      <td>Latvia</td>\n",
       "      <td>7.22</td>\n",
       "    </tr>\n",
       "    <tr>\n",
       "      <td>230</td>\n",
       "      <td>2002</td>\n",
       "      <td>Latvia</td>\n",
       "      <td>6.60</td>\n",
       "    </tr>\n",
       "    <tr>\n",
       "      <td>281</td>\n",
       "      <td>2005</td>\n",
       "      <td>Malta</td>\n",
       "      <td>6.58</td>\n",
       "    </tr>\n",
       "    <tr>\n",
       "      <td>286</td>\n",
       "      <td>2010</td>\n",
       "      <td>Malta</td>\n",
       "      <td>6.74</td>\n",
       "    </tr>\n",
       "    <tr>\n",
       "      <td>287</td>\n",
       "      <td>2011</td>\n",
       "      <td>Malta</td>\n",
       "      <td>7.96</td>\n",
       "    </tr>\n",
       "    <tr>\n",
       "      <td>381</td>\n",
       "      <td>2009</td>\n",
       "      <td>Finland</td>\n",
       "      <td>6.81</td>\n",
       "    </tr>\n",
       "    <tr>\n",
       "      <td>382</td>\n",
       "      <td>2010</td>\n",
       "      <td>Finland</td>\n",
       "      <td>6.85</td>\n",
       "    </tr>\n",
       "    <tr>\n",
       "      <td>383</td>\n",
       "      <td>2011</td>\n",
       "      <td>Finland</td>\n",
       "      <td>6.76</td>\n",
       "    </tr>\n",
       "  </tbody>\n",
       "</table>\n",
       "</div>"
      ],
      "text/plain": [
       "     TIME      GEO  Value\n",
       "93   2009  Belgium   6.57\n",
       "94   2010  Belgium   6.58\n",
       "95   2011  Belgium   6.55\n",
       "120  2000  Denmark   8.28\n",
       "121  2001  Denmark   8.44\n",
       "122  2002  Denmark   8.44\n",
       "123  2003  Denmark   8.33\n",
       "124  2004  Denmark   8.43\n",
       "125  2005  Denmark   8.30\n",
       "126  2006  Denmark   7.97\n",
       "127  2007  Denmark   7.81\n",
       "128  2008  Denmark   7.68\n",
       "129  2009  Denmark   8.74\n",
       "130  2010  Denmark   8.81\n",
       "131  2011  Denmark   8.75\n",
       "218  2002   Cyprus   6.60\n",
       "219  2003   Cyprus   7.37\n",
       "220  2004   Cyprus   6.77\n",
       "221  2005   Cyprus   6.95\n",
       "222  2006   Cyprus   7.02\n",
       "223  2007   Cyprus   6.95\n",
       "224  2008   Cyprus   7.45\n",
       "225  2009   Cyprus   7.98\n",
       "226  2010   Cyprus   7.92\n",
       "227  2011   Cyprus   7.87\n",
       "229  2001   Latvia   7.22\n",
       "230  2002   Latvia   6.60\n",
       "281  2005    Malta   6.58\n",
       "286  2010    Malta   6.74\n",
       "287  2011    Malta   7.96\n",
       "381  2009  Finland   6.81\n",
       "382  2010  Finland   6.85\n",
       "383  2011  Finland   6.76"
      ]
     },
     "execution_count": 29,
     "metadata": {},
     "output_type": "execute_result"
    }
   ],
   "source": [
    "edu[s] "
   ]
  },
  {
   "cell_type": "markdown",
   "metadata": {},
   "source": [
    "Boolean indexing uses the result of a Boolean operation over the data, returning a mask with True or False for each row. The rows marked True in the mask will be selected. In the previous example, the Boolean operation `edu['Value'] > 6.5` produces a Boolean mask. When an element in the *\"Value\"* column is greater than 6.5, the corresponding value in the mask is set to True, otherwise it is set to False. Then, when this mask is applied as an index in `edu[edu['Value'] > 6.5]`, the result is a filtered DataFrame containing only rows with values higher than 6.5. Of course, any of the usual Boolean operators can be used for filtering: < (less than), <= (less than or equal to), > (greater than), >= (greater than or equal to), =  (equal to), !=(not equal to)."
   ]
  },
  {
   "cell_type": "markdown",
   "metadata": {},
   "source": [
    "## Filtering Missing Values"
   ]
  },
  {
   "cell_type": "markdown",
   "metadata": {},
   "source": [
    "Pandas uses the special value `np.nan`, (**NaN** not a number)  to represent missing values. In Python, `NaN` is a special floating-point value returned by certain operations when one of their results ends in an undefined value. A subtle feature of `NaN` values is that two `NaN` are never equal. Because of this, the only safe way to tell whether or not a value is missing in a DataFrame is by using the `isnull()` function. Indeed, this function can be used to filter rows with missing values:"
   ]
  },
  {
   "cell_type": "code",
   "execution_count": 30,
   "metadata": {},
   "outputs": [
    {
     "data": {
      "text/html": [
       "<div>\n",
       "<style scoped>\n",
       "    .dataframe tbody tr th:only-of-type {\n",
       "        vertical-align: middle;\n",
       "    }\n",
       "\n",
       "    .dataframe tbody tr th {\n",
       "        vertical-align: top;\n",
       "    }\n",
       "\n",
       "    .dataframe thead th {\n",
       "        text-align: right;\n",
       "    }\n",
       "</style>\n",
       "<table border=\"1\" class=\"dataframe\">\n",
       "  <thead>\n",
       "    <tr style=\"text-align: right;\">\n",
       "      <th></th>\n",
       "      <th>TIME</th>\n",
       "      <th>GEO</th>\n",
       "      <th>Value</th>\n",
       "    </tr>\n",
       "  </thead>\n",
       "  <tbody>\n",
       "    <tr>\n",
       "      <td>0</td>\n",
       "      <td>2000</td>\n",
       "      <td>European Union (28 countries)</td>\n",
       "      <td>NaN</td>\n",
       "    </tr>\n",
       "    <tr>\n",
       "      <td>1</td>\n",
       "      <td>2001</td>\n",
       "      <td>European Union (28 countries)</td>\n",
       "      <td>NaN</td>\n",
       "    </tr>\n",
       "    <tr>\n",
       "      <td>36</td>\n",
       "      <td>2000</td>\n",
       "      <td>Euro area (18 countries)</td>\n",
       "      <td>NaN</td>\n",
       "    </tr>\n",
       "    <tr>\n",
       "      <td>37</td>\n",
       "      <td>2001</td>\n",
       "      <td>Euro area (18 countries)</td>\n",
       "      <td>NaN</td>\n",
       "    </tr>\n",
       "    <tr>\n",
       "      <td>48</td>\n",
       "      <td>2000</td>\n",
       "      <td>Euro area (17 countries)</td>\n",
       "      <td>NaN</td>\n",
       "    </tr>\n",
       "    <tr>\n",
       "      <td>49</td>\n",
       "      <td>2001</td>\n",
       "      <td>Euro area (17 countries)</td>\n",
       "      <td>NaN</td>\n",
       "    </tr>\n",
       "    <tr>\n",
       "      <td>60</td>\n",
       "      <td>2000</td>\n",
       "      <td>Euro area (15 countries)</td>\n",
       "      <td>NaN</td>\n",
       "    </tr>\n",
       "    <tr>\n",
       "      <td>72</td>\n",
       "      <td>2000</td>\n",
       "      <td>Euro area (13 countries)</td>\n",
       "      <td>NaN</td>\n",
       "    </tr>\n",
       "    <tr>\n",
       "      <td>84</td>\n",
       "      <td>2000</td>\n",
       "      <td>Belgium</td>\n",
       "      <td>NaN</td>\n",
       "    </tr>\n",
       "    <tr>\n",
       "      <td>174</td>\n",
       "      <td>2006</td>\n",
       "      <td>Greece</td>\n",
       "      <td>NaN</td>\n",
       "    </tr>\n",
       "    <tr>\n",
       "      <td>175</td>\n",
       "      <td>2007</td>\n",
       "      <td>Greece</td>\n",
       "      <td>NaN</td>\n",
       "    </tr>\n",
       "    <tr>\n",
       "      <td>176</td>\n",
       "      <td>2008</td>\n",
       "      <td>Greece</td>\n",
       "      <td>NaN</td>\n",
       "    </tr>\n",
       "    <tr>\n",
       "      <td>177</td>\n",
       "      <td>2009</td>\n",
       "      <td>Greece</td>\n",
       "      <td>NaN</td>\n",
       "    </tr>\n",
       "    <tr>\n",
       "      <td>178</td>\n",
       "      <td>2010</td>\n",
       "      <td>Greece</td>\n",
       "      <td>NaN</td>\n",
       "    </tr>\n",
       "    <tr>\n",
       "      <td>179</td>\n",
       "      <td>2011</td>\n",
       "      <td>Greece</td>\n",
       "      <td>NaN</td>\n",
       "    </tr>\n",
       "    <tr>\n",
       "      <td>252</td>\n",
       "      <td>2000</td>\n",
       "      <td>Luxembourg</td>\n",
       "      <td>NaN</td>\n",
       "    </tr>\n",
       "    <tr>\n",
       "      <td>260</td>\n",
       "      <td>2008</td>\n",
       "      <td>Luxembourg</td>\n",
       "      <td>NaN</td>\n",
       "    </tr>\n",
       "    <tr>\n",
       "      <td>261</td>\n",
       "      <td>2009</td>\n",
       "      <td>Luxembourg</td>\n",
       "      <td>NaN</td>\n",
       "    </tr>\n",
       "    <tr>\n",
       "      <td>262</td>\n",
       "      <td>2010</td>\n",
       "      <td>Luxembourg</td>\n",
       "      <td>NaN</td>\n",
       "    </tr>\n",
       "    <tr>\n",
       "      <td>263</td>\n",
       "      <td>2011</td>\n",
       "      <td>Luxembourg</td>\n",
       "      <td>NaN</td>\n",
       "    </tr>\n",
       "    <tr>\n",
       "      <td>342</td>\n",
       "      <td>2006</td>\n",
       "      <td>Romania</td>\n",
       "      <td>NaN</td>\n",
       "    </tr>\n",
       "    <tr>\n",
       "      <td>344</td>\n",
       "      <td>2008</td>\n",
       "      <td>Romania</td>\n",
       "      <td>NaN</td>\n",
       "    </tr>\n",
       "    <tr>\n",
       "      <td>348</td>\n",
       "      <td>2000</td>\n",
       "      <td>Slovenia</td>\n",
       "      <td>NaN</td>\n",
       "    </tr>\n",
       "  </tbody>\n",
       "</table>\n",
       "</div>"
      ],
      "text/plain": [
       "     TIME                            GEO  Value\n",
       "0    2000  European Union (28 countries)    NaN\n",
       "1    2001  European Union (28 countries)    NaN\n",
       "36   2000       Euro area (18 countries)    NaN\n",
       "37   2001       Euro area (18 countries)    NaN\n",
       "48   2000       Euro area (17 countries)    NaN\n",
       "49   2001       Euro area (17 countries)    NaN\n",
       "60   2000       Euro area (15 countries)    NaN\n",
       "72   2000       Euro area (13 countries)    NaN\n",
       "84   2000                        Belgium    NaN\n",
       "174  2006                         Greece    NaN\n",
       "175  2007                         Greece    NaN\n",
       "176  2008                         Greece    NaN\n",
       "177  2009                         Greece    NaN\n",
       "178  2010                         Greece    NaN\n",
       "179  2011                         Greece    NaN\n",
       "252  2000                     Luxembourg    NaN\n",
       "260  2008                     Luxembourg    NaN\n",
       "261  2009                     Luxembourg    NaN\n",
       "262  2010                     Luxembourg    NaN\n",
       "263  2011                     Luxembourg    NaN\n",
       "342  2006                        Romania    NaN\n",
       "344  2008                        Romania    NaN\n",
       "348  2000                       Slovenia    NaN"
      ]
     },
     "execution_count": 30,
     "metadata": {},
     "output_type": "execute_result"
    }
   ],
   "source": [
    "edu[ edu[\"Value\"].isnull()]"
   ]
  },
  {
   "cell_type": "markdown",
   "metadata": {},
   "source": [
    "## Manipulating Data"
   ]
  },
  {
   "cell_type": "markdown",
   "metadata": {},
   "source": [
    "Once we know how to select the desired data, the next thing we need to know is how to manipulate data. \n",
    "One of the most straightforward things we can do is to operate with columns or rows  using aggregation functions. The following list shows the most common aggregation functions.\n",
    "\n",
    "| Function  | Description | \n",
    "|-----------|-------------|\n",
    "| count()   |Number of non-null observations|  \n",
    "| sum()     |Sum of values|\n",
    "| mean()    |Mean of values            | \n",
    "| median()  |Arithmetic median of values             |\n",
    "| min()     |Minimum|\n",
    "| max()     |Maximum|\n",
    "| prod()    |Product of values|\n",
    "| std()     |Unbiased standard deviation|\n",
    "| var()     | Unbiased variance|\n",
    "\n",
    "The result of all these functions applied to a row or column is always a number. Meanwhile, if a function is applied to a DataFrame or a selection of rows and columns, then you can specify if the function should be applied to the rows for each column  (putting the **axis=0** keyword on the invocation of the function), or it should be applied on the columns for each row (putting the **axis=1** keyword on the invocation of the function)."
   ]
  },
  {
   "cell_type": "code",
   "execution_count": 31,
   "metadata": {},
   "outputs": [
    {
     "data": {
      "text/plain": [
       "TIME      2011\n",
       "GEO      Spain\n",
       "Value     8.81\n",
       "dtype: object"
      ]
     },
     "execution_count": 31,
     "metadata": {},
     "output_type": "execute_result"
    }
   ],
   "source": [
    "edu.max(axis=0)"
   ]
  },
  {
   "cell_type": "markdown",
   "metadata": {},
   "source": [
    "\n",
    "Note that these are functions specific to Pandas, not the generic Python functions. There are differences in their implementation. In Python ,`NaN` values propagate through all operations without raising an exception. In contrast, Pandas operations exclude `NaN` values representing missing data. For example, the pandas **max** function excludes `NaN`  values, thus they are interpreted as missing values, while the standard Python **max** function will take the mathematical interpretation of `NaN` and return it as the maximum:"
   ]
  },
  {
   "cell_type": "code",
   "execution_count": 32,
   "metadata": {},
   "outputs": [
    {
     "name": "stdout",
     "output_type": "stream",
     "text": [
      "Pandas max function: 8.81\n",
      "Python max function: nan\n"
     ]
    }
   ],
   "source": [
    "print( \"Pandas max function:\", edu[\"Value\"].max())\n",
    "print (\"Python max function:\", max(edu[\"Value\"]))"
   ]
  },
  {
   "cell_type": "markdown",
   "metadata": {},
   "source": [
    "Beside these aggregation functions, we can apply operations over all the values in rows, columns or a selection of both. The rule of thumb is that an operation between columns means that it is applied to each row in that column and an operation between rows means that it is applied to each column in that row. For example we can apply any binary arithmetical operation (+,-,*,/) to an entire row:"
   ]
  },
  {
   "cell_type": "code",
   "execution_count": 33,
   "metadata": {},
   "outputs": [
    {
     "data": {
      "text/plain": [
       "0       NaN\n",
       "1       NaN\n",
       "2    0.0500\n",
       "3    0.0503\n",
       "4    0.0495\n",
       "Name: Value, dtype: float64"
      ]
     },
     "execution_count": 33,
     "metadata": {},
     "output_type": "execute_result"
    }
   ],
   "source": [
    "s=edu[\"Value\"]/100\n",
    "s.head()"
   ]
  },
  {
   "cell_type": "markdown",
   "metadata": {},
   "source": [
    "However, we can apply any function to a DataFrame or Series just putting its name as argument  of the **apply** method. For example, in the following code, we apply the  **sqrt** function from the *numpy* library to perform the square root of each value in the *\"Value\"* column."
   ]
  },
  {
   "cell_type": "code",
   "execution_count": 34,
   "metadata": {},
   "outputs": [
    {
     "data": {
      "text/plain": [
       "0         NaN\n",
       "1         NaN\n",
       "2    2.236068\n",
       "3    2.242766\n",
       "4    2.224860\n",
       "Name: Value, dtype: float64"
      ]
     },
     "execution_count": 34,
     "metadata": {},
     "output_type": "execute_result"
    }
   ],
   "source": [
    "import numpy as np\n",
    "s = edu[\"Value\"].apply(np.sqrt)\n",
    "s.head()"
   ]
  },
  {
   "cell_type": "markdown",
   "metadata": {},
   "source": [
    "If we need to design a specific function to apply it, we can write an in-line function, commonly known as a $\\lambda$-function. A $\\lambda$-function is a function without a name. It is only necessary to specify the parameters it receives, between the **lambda**  keyword and the **:**. In the next example, only one parameter is needed, which will be the value of each element in the *\"Value\"* column. The value the function returns will be the square of that value."
   ]
  },
  {
   "cell_type": "code",
   "execution_count": 35,
   "metadata": {},
   "outputs": [
    {
     "data": {
      "text/plain": [
       "0        NaN\n",
       "1        NaN\n",
       "2    25.0000\n",
       "3    25.3009\n",
       "4    24.5025\n",
       "Name: Value, dtype: float64"
      ]
     },
     "execution_count": 35,
     "metadata": {},
     "output_type": "execute_result"
    }
   ],
   "source": [
    "s = edu[\"Value\"].apply(lambda d: d**2)\n",
    "s.head()"
   ]
  },
  {
   "cell_type": "markdown",
   "metadata": {},
   "source": [
    "Another basic manipulation operation is to set new values in our DataFrame. This can be done directly using the assign operator **=** over a DataFrame. For example, to add a new column to a DataFrame, we can assign a Series to a selection of a column that does not exist. This will produce a new column in the DataFrame after all the others. You must be aware that if a column with the same name already exists, the previous values will be overwritten. In the following example, we assign the Series that results from dividing the \"Value\" column by the maximum value in the same column to a new column named \"ValueNorm\"."
   ]
  },
  {
   "cell_type": "code",
   "execution_count": 36,
   "metadata": {},
   "outputs": [
    {
     "data": {
      "text/html": [
       "<div>\n",
       "<style scoped>\n",
       "    .dataframe tbody tr th:only-of-type {\n",
       "        vertical-align: middle;\n",
       "    }\n",
       "\n",
       "    .dataframe tbody tr th {\n",
       "        vertical-align: top;\n",
       "    }\n",
       "\n",
       "    .dataframe thead th {\n",
       "        text-align: right;\n",
       "    }\n",
       "</style>\n",
       "<table border=\"1\" class=\"dataframe\">\n",
       "  <thead>\n",
       "    <tr style=\"text-align: right;\">\n",
       "      <th></th>\n",
       "      <th>TIME</th>\n",
       "      <th>GEO</th>\n",
       "      <th>Value</th>\n",
       "      <th>ValueNorm</th>\n",
       "    </tr>\n",
       "  </thead>\n",
       "  <tbody>\n",
       "    <tr>\n",
       "      <td>379</td>\n",
       "      <td>2007</td>\n",
       "      <td>Finland</td>\n",
       "      <td>5.90</td>\n",
       "      <td>0.669694</td>\n",
       "    </tr>\n",
       "    <tr>\n",
       "      <td>380</td>\n",
       "      <td>2008</td>\n",
       "      <td>Finland</td>\n",
       "      <td>6.10</td>\n",
       "      <td>0.692395</td>\n",
       "    </tr>\n",
       "    <tr>\n",
       "      <td>381</td>\n",
       "      <td>2009</td>\n",
       "      <td>Finland</td>\n",
       "      <td>6.81</td>\n",
       "      <td>0.772985</td>\n",
       "    </tr>\n",
       "    <tr>\n",
       "      <td>382</td>\n",
       "      <td>2010</td>\n",
       "      <td>Finland</td>\n",
       "      <td>6.85</td>\n",
       "      <td>0.777526</td>\n",
       "    </tr>\n",
       "    <tr>\n",
       "      <td>383</td>\n",
       "      <td>2011</td>\n",
       "      <td>Finland</td>\n",
       "      <td>6.76</td>\n",
       "      <td>0.767310</td>\n",
       "    </tr>\n",
       "  </tbody>\n",
       "</table>\n",
       "</div>"
      ],
      "text/plain": [
       "     TIME      GEO  Value  ValueNorm\n",
       "379  2007  Finland   5.90   0.669694\n",
       "380  2008  Finland   6.10   0.692395\n",
       "381  2009  Finland   6.81   0.772985\n",
       "382  2010  Finland   6.85   0.777526\n",
       "383  2011  Finland   6.76   0.767310"
      ]
     },
     "execution_count": 36,
     "metadata": {},
     "output_type": "execute_result"
    }
   ],
   "source": [
    "edu[\"ValueNorm\"] = edu['Value']/edu['Value'].max()\n",
    "edu.tail()"
   ]
  },
  {
   "cell_type": "markdown",
   "metadata": {},
   "source": [
    "Now, if we  want to remove this column from the DataFrame, we can use the **drop** function; this removes the indicated rows if **axis=0**,  or the indicated columns if **axis=1**. In Pandas, all the functions that change the contents of a DataFrame, such as the drop function, will normally return a copy of the modified data, instead of overwriting the DataFrame. Therefore, the original DataFrame is kept. If you do not want to keep the old values, you can set the keyword **inplace** to `True`. By default, this keyword is set to `False`, meaning that a copy of the data is returned. "
   ]
  },
  {
   "cell_type": "code",
   "execution_count": 37,
   "metadata": {},
   "outputs": [
    {
     "data": {
      "text/html": [
       "<div>\n",
       "<style scoped>\n",
       "    .dataframe tbody tr th:only-of-type {\n",
       "        vertical-align: middle;\n",
       "    }\n",
       "\n",
       "    .dataframe tbody tr th {\n",
       "        vertical-align: top;\n",
       "    }\n",
       "\n",
       "    .dataframe thead th {\n",
       "        text-align: right;\n",
       "    }\n",
       "</style>\n",
       "<table border=\"1\" class=\"dataframe\">\n",
       "  <thead>\n",
       "    <tr style=\"text-align: right;\">\n",
       "      <th></th>\n",
       "      <th>TIME</th>\n",
       "      <th>GEO</th>\n",
       "      <th>Value</th>\n",
       "    </tr>\n",
       "  </thead>\n",
       "  <tbody>\n",
       "    <tr>\n",
       "      <td>0</td>\n",
       "      <td>2000</td>\n",
       "      <td>European Union (28 countries)</td>\n",
       "      <td>NaN</td>\n",
       "    </tr>\n",
       "    <tr>\n",
       "      <td>1</td>\n",
       "      <td>2001</td>\n",
       "      <td>European Union (28 countries)</td>\n",
       "      <td>NaN</td>\n",
       "    </tr>\n",
       "    <tr>\n",
       "      <td>2</td>\n",
       "      <td>2002</td>\n",
       "      <td>European Union (28 countries)</td>\n",
       "      <td>5.00</td>\n",
       "    </tr>\n",
       "    <tr>\n",
       "      <td>3</td>\n",
       "      <td>2003</td>\n",
       "      <td>European Union (28 countries)</td>\n",
       "      <td>5.03</td>\n",
       "    </tr>\n",
       "    <tr>\n",
       "      <td>4</td>\n",
       "      <td>2004</td>\n",
       "      <td>European Union (28 countries)</td>\n",
       "      <td>4.95</td>\n",
       "    </tr>\n",
       "  </tbody>\n",
       "</table>\n",
       "</div>"
      ],
      "text/plain": [
       "   TIME                            GEO  Value\n",
       "0  2000  European Union (28 countries)    NaN\n",
       "1  2001  European Union (28 countries)    NaN\n",
       "2  2002  European Union (28 countries)   5.00\n",
       "3  2003  European Union (28 countries)   5.03\n",
       "4  2004  European Union (28 countries)   4.95"
      ]
     },
     "execution_count": 37,
     "metadata": {},
     "output_type": "execute_result"
    }
   ],
   "source": [
    "edu.drop('ValueNorm',axis=1,inplace=True)\n",
    "edu.head()"
   ]
  },
  {
   "cell_type": "markdown",
   "metadata": {},
   "source": [
    "Instead, if what we want to do is to insert a new row at the bottom of the DataFrame, we can use the Pandas **append** function. This functions receives as argument the new row, which is represented as a dictionary where the keys are the name of the columns and the values the associated value. You must be aware to setting  the **ignore_index** flag in the **append** method  to `True`, otherwise the index 0 is given to this new row, what will produce an error if it already exists:"
   ]
  },
  {
   "cell_type": "code",
   "execution_count": 38,
   "metadata": {},
   "outputs": [
    {
     "data": {
      "text/html": [
       "<div>\n",
       "<style scoped>\n",
       "    .dataframe tbody tr th:only-of-type {\n",
       "        vertical-align: middle;\n",
       "    }\n",
       "\n",
       "    .dataframe tbody tr th {\n",
       "        vertical-align: top;\n",
       "    }\n",
       "\n",
       "    .dataframe thead th {\n",
       "        text-align: right;\n",
       "    }\n",
       "</style>\n",
       "<table border=\"1\" class=\"dataframe\">\n",
       "  <thead>\n",
       "    <tr style=\"text-align: right;\">\n",
       "      <th></th>\n",
       "      <th>TIME</th>\n",
       "      <th>GEO</th>\n",
       "      <th>Value</th>\n",
       "    </tr>\n",
       "  </thead>\n",
       "  <tbody>\n",
       "    <tr>\n",
       "      <td>380</td>\n",
       "      <td>2008</td>\n",
       "      <td>Finland</td>\n",
       "      <td>6.10</td>\n",
       "    </tr>\n",
       "    <tr>\n",
       "      <td>381</td>\n",
       "      <td>2009</td>\n",
       "      <td>Finland</td>\n",
       "      <td>6.81</td>\n",
       "    </tr>\n",
       "    <tr>\n",
       "      <td>382</td>\n",
       "      <td>2010</td>\n",
       "      <td>Finland</td>\n",
       "      <td>6.85</td>\n",
       "    </tr>\n",
       "    <tr>\n",
       "      <td>383</td>\n",
       "      <td>2011</td>\n",
       "      <td>Finland</td>\n",
       "      <td>6.76</td>\n",
       "    </tr>\n",
       "    <tr>\n",
       "      <td>384</td>\n",
       "      <td>2000</td>\n",
       "      <td>a</td>\n",
       "      <td>5.00</td>\n",
       "    </tr>\n",
       "  </tbody>\n",
       "</table>\n",
       "</div>"
      ],
      "text/plain": [
       "     TIME      GEO  Value\n",
       "380  2008  Finland   6.10\n",
       "381  2009  Finland   6.81\n",
       "382  2010  Finland   6.85\n",
       "383  2011  Finland   6.76\n",
       "384  2000        a   5.00"
      ]
     },
     "execution_count": 38,
     "metadata": {},
     "output_type": "execute_result"
    }
   ],
   "source": [
    "edu = edu.append({\"TIME\":2000,\"Value\":5.00,\"GEO\":'a'}, ignore_index=True)\n",
    "edu.tail()"
   ]
  },
  {
   "cell_type": "markdown",
   "metadata": {},
   "source": [
    "Finally, if we want to remove this row, we need to use the **drop** function again. Now we have to set the axis to 0, and specify the index of the row we want to remove. Since we want to remove the last row, we can use the max function over the indexes to determine which row is."
   ]
  },
  {
   "cell_type": "code",
   "execution_count": 39,
   "metadata": {},
   "outputs": [
    {
     "data": {
      "text/html": [
       "<div>\n",
       "<style scoped>\n",
       "    .dataframe tbody tr th:only-of-type {\n",
       "        vertical-align: middle;\n",
       "    }\n",
       "\n",
       "    .dataframe tbody tr th {\n",
       "        vertical-align: top;\n",
       "    }\n",
       "\n",
       "    .dataframe thead th {\n",
       "        text-align: right;\n",
       "    }\n",
       "</style>\n",
       "<table border=\"1\" class=\"dataframe\">\n",
       "  <thead>\n",
       "    <tr style=\"text-align: right;\">\n",
       "      <th></th>\n",
       "      <th>TIME</th>\n",
       "      <th>GEO</th>\n",
       "      <th>Value</th>\n",
       "    </tr>\n",
       "  </thead>\n",
       "  <tbody>\n",
       "    <tr>\n",
       "      <td>379</td>\n",
       "      <td>2007</td>\n",
       "      <td>Finland</td>\n",
       "      <td>5.90</td>\n",
       "    </tr>\n",
       "    <tr>\n",
       "      <td>380</td>\n",
       "      <td>2008</td>\n",
       "      <td>Finland</td>\n",
       "      <td>6.10</td>\n",
       "    </tr>\n",
       "    <tr>\n",
       "      <td>381</td>\n",
       "      <td>2009</td>\n",
       "      <td>Finland</td>\n",
       "      <td>6.81</td>\n",
       "    </tr>\n",
       "    <tr>\n",
       "      <td>382</td>\n",
       "      <td>2010</td>\n",
       "      <td>Finland</td>\n",
       "      <td>6.85</td>\n",
       "    </tr>\n",
       "    <tr>\n",
       "      <td>383</td>\n",
       "      <td>2011</td>\n",
       "      <td>Finland</td>\n",
       "      <td>6.76</td>\n",
       "    </tr>\n",
       "  </tbody>\n",
       "</table>\n",
       "</div>"
      ],
      "text/plain": [
       "     TIME      GEO  Value\n",
       "379  2007  Finland   5.90\n",
       "380  2008  Finland   6.10\n",
       "381  2009  Finland   6.81\n",
       "382  2010  Finland   6.85\n",
       "383  2011  Finland   6.76"
      ]
     },
     "execution_count": 39,
     "metadata": {},
     "output_type": "execute_result"
    }
   ],
   "source": [
    "edu.drop(max(edu.index),axis=0,inplace=True)\n",
    "edu.tail()"
   ]
  },
  {
   "cell_type": "markdown",
   "metadata": {},
   "source": [
    " The **drop()** function is also used to remove missing values by applying it over the result of the **isnull()** function. This has a similar effect to filtering the `NaN` values, as we explained above, but here the difference is that a copy of the DataFrame without the `NaN` values is returned, instead of a view. "
   ]
  },
  {
   "cell_type": "code",
   "execution_count": 40,
   "metadata": {},
   "outputs": [
    {
     "data": {
      "text/html": [
       "<div>\n",
       "<style scoped>\n",
       "    .dataframe tbody tr th:only-of-type {\n",
       "        vertical-align: middle;\n",
       "    }\n",
       "\n",
       "    .dataframe tbody tr th {\n",
       "        vertical-align: top;\n",
       "    }\n",
       "\n",
       "    .dataframe thead th {\n",
       "        text-align: right;\n",
       "    }\n",
       "</style>\n",
       "<table border=\"1\" class=\"dataframe\">\n",
       "  <thead>\n",
       "    <tr style=\"text-align: right;\">\n",
       "      <th></th>\n",
       "      <th>TIME</th>\n",
       "      <th>GEO</th>\n",
       "      <th>Value</th>\n",
       "    </tr>\n",
       "  </thead>\n",
       "  <tbody>\n",
       "    <tr>\n",
       "      <td>0</td>\n",
       "      <td>2000</td>\n",
       "      <td>European Union (28 countries)</td>\n",
       "      <td>NaN</td>\n",
       "    </tr>\n",
       "    <tr>\n",
       "      <td>1</td>\n",
       "      <td>2001</td>\n",
       "      <td>European Union (28 countries)</td>\n",
       "      <td>NaN</td>\n",
       "    </tr>\n",
       "    <tr>\n",
       "      <td>2</td>\n",
       "      <td>2002</td>\n",
       "      <td>European Union (28 countries)</td>\n",
       "      <td>5.00</td>\n",
       "    </tr>\n",
       "    <tr>\n",
       "      <td>3</td>\n",
       "      <td>2003</td>\n",
       "      <td>European Union (28 countries)</td>\n",
       "      <td>5.03</td>\n",
       "    </tr>\n",
       "    <tr>\n",
       "      <td>4</td>\n",
       "      <td>2004</td>\n",
       "      <td>European Union (28 countries)</td>\n",
       "      <td>4.95</td>\n",
       "    </tr>\n",
       "    <tr>\n",
       "      <td>...</td>\n",
       "      <td>...</td>\n",
       "      <td>...</td>\n",
       "      <td>...</td>\n",
       "    </tr>\n",
       "    <tr>\n",
       "      <td>379</td>\n",
       "      <td>2007</td>\n",
       "      <td>Finland</td>\n",
       "      <td>5.90</td>\n",
       "    </tr>\n",
       "    <tr>\n",
       "      <td>380</td>\n",
       "      <td>2008</td>\n",
       "      <td>Finland</td>\n",
       "      <td>6.10</td>\n",
       "    </tr>\n",
       "    <tr>\n",
       "      <td>381</td>\n",
       "      <td>2009</td>\n",
       "      <td>Finland</td>\n",
       "      <td>6.81</td>\n",
       "    </tr>\n",
       "    <tr>\n",
       "      <td>382</td>\n",
       "      <td>2010</td>\n",
       "      <td>Finland</td>\n",
       "      <td>6.85</td>\n",
       "    </tr>\n",
       "    <tr>\n",
       "      <td>383</td>\n",
       "      <td>2011</td>\n",
       "      <td>Finland</td>\n",
       "      <td>6.76</td>\n",
       "    </tr>\n",
       "  </tbody>\n",
       "</table>\n",
       "<p>384 rows × 3 columns</p>\n",
       "</div>"
      ],
      "text/plain": [
       "     TIME                            GEO  Value\n",
       "0    2000  European Union (28 countries)    NaN\n",
       "1    2001  European Union (28 countries)    NaN\n",
       "2    2002  European Union (28 countries)   5.00\n",
       "3    2003  European Union (28 countries)   5.03\n",
       "4    2004  European Union (28 countries)   4.95\n",
       "..    ...                            ...    ...\n",
       "379  2007                        Finland   5.90\n",
       "380  2008                        Finland   6.10\n",
       "381  2009                        Finland   6.81\n",
       "382  2010                        Finland   6.85\n",
       "383  2011                        Finland   6.76\n",
       "\n",
       "[384 rows x 3 columns]"
      ]
     },
     "execution_count": 40,
     "metadata": {},
     "output_type": "execute_result"
    }
   ],
   "source": [
    "edu"
   ]
  },
  {
   "cell_type": "markdown",
   "metadata": {},
   "source": [
    "To remove `NaN` values, instead of the generic drop function, we can use the specific **dropna()** function. If we want to erase any row that contains an `NaN` value, we have to set the **how** keyword to *any*. To restrict it to a subset of columns, we can specify it using the **subset** keyword. As we can see below, the result will we the same as using the **drop** function:"
   ]
  },
  {
   "cell_type": "code",
   "execution_count": 41,
   "metadata": {},
   "outputs": [
    {
     "data": {
      "text/html": [
       "<div>\n",
       "<style scoped>\n",
       "    .dataframe tbody tr th:only-of-type {\n",
       "        vertical-align: middle;\n",
       "    }\n",
       "\n",
       "    .dataframe tbody tr th {\n",
       "        vertical-align: top;\n",
       "    }\n",
       "\n",
       "    .dataframe thead th {\n",
       "        text-align: right;\n",
       "    }\n",
       "</style>\n",
       "<table border=\"1\" class=\"dataframe\">\n",
       "  <thead>\n",
       "    <tr style=\"text-align: right;\">\n",
       "      <th></th>\n",
       "      <th>TIME</th>\n",
       "      <th>GEO</th>\n",
       "      <th>Value</th>\n",
       "    </tr>\n",
       "  </thead>\n",
       "  <tbody>\n",
       "    <tr>\n",
       "      <td>2</td>\n",
       "      <td>2002</td>\n",
       "      <td>European Union (28 countries)</td>\n",
       "      <td>5.00</td>\n",
       "    </tr>\n",
       "    <tr>\n",
       "      <td>3</td>\n",
       "      <td>2003</td>\n",
       "      <td>European Union (28 countries)</td>\n",
       "      <td>5.03</td>\n",
       "    </tr>\n",
       "    <tr>\n",
       "      <td>4</td>\n",
       "      <td>2004</td>\n",
       "      <td>European Union (28 countries)</td>\n",
       "      <td>4.95</td>\n",
       "    </tr>\n",
       "    <tr>\n",
       "      <td>5</td>\n",
       "      <td>2005</td>\n",
       "      <td>European Union (28 countries)</td>\n",
       "      <td>4.92</td>\n",
       "    </tr>\n",
       "    <tr>\n",
       "      <td>6</td>\n",
       "      <td>2006</td>\n",
       "      <td>European Union (28 countries)</td>\n",
       "      <td>4.91</td>\n",
       "    </tr>\n",
       "  </tbody>\n",
       "</table>\n",
       "</div>"
      ],
      "text/plain": [
       "   TIME                            GEO  Value\n",
       "2  2002  European Union (28 countries)   5.00\n",
       "3  2003  European Union (28 countries)   5.03\n",
       "4  2004  European Union (28 countries)   4.95\n",
       "5  2005  European Union (28 countries)   4.92\n",
       "6  2006  European Union (28 countries)   4.91"
      ]
     },
     "execution_count": 41,
     "metadata": {},
     "output_type": "execute_result"
    }
   ],
   "source": [
    "eduDrop = edu.dropna(how='any',subset=[\"Value\"],axis=0)\n",
    "eduDrop.head()"
   ]
  },
  {
   "cell_type": "markdown",
   "metadata": {},
   "source": [
    "If, instead of removing the rows containing `NaN`, we want to fill them with another value, then we can use the **fillna()** method, specifying which value has to be used. If we want to fill only some specific columns, we have to put as argument to the **fillna()** function a dictionary with the name of the columns as the key and which character to be used for filling as the value."
   ]
  },
  {
   "cell_type": "code",
   "execution_count": 42,
   "metadata": {},
   "outputs": [
    {
     "data": {
      "text/html": [
       "<div>\n",
       "<style scoped>\n",
       "    .dataframe tbody tr th:only-of-type {\n",
       "        vertical-align: middle;\n",
       "    }\n",
       "\n",
       "    .dataframe tbody tr th {\n",
       "        vertical-align: top;\n",
       "    }\n",
       "\n",
       "    .dataframe thead th {\n",
       "        text-align: right;\n",
       "    }\n",
       "</style>\n",
       "<table border=\"1\" class=\"dataframe\">\n",
       "  <thead>\n",
       "    <tr style=\"text-align: right;\">\n",
       "      <th></th>\n",
       "      <th>TIME</th>\n",
       "      <th>GEO</th>\n",
       "      <th>Value</th>\n",
       "    </tr>\n",
       "  </thead>\n",
       "  <tbody>\n",
       "    <tr>\n",
       "      <td>0</td>\n",
       "      <td>2000</td>\n",
       "      <td>European Union (28 countries)</td>\n",
       "      <td>0.00</td>\n",
       "    </tr>\n",
       "    <tr>\n",
       "      <td>1</td>\n",
       "      <td>2001</td>\n",
       "      <td>European Union (28 countries)</td>\n",
       "      <td>0.00</td>\n",
       "    </tr>\n",
       "    <tr>\n",
       "      <td>2</td>\n",
       "      <td>2002</td>\n",
       "      <td>European Union (28 countries)</td>\n",
       "      <td>5.00</td>\n",
       "    </tr>\n",
       "    <tr>\n",
       "      <td>3</td>\n",
       "      <td>2003</td>\n",
       "      <td>European Union (28 countries)</td>\n",
       "      <td>5.03</td>\n",
       "    </tr>\n",
       "    <tr>\n",
       "      <td>4</td>\n",
       "      <td>2004</td>\n",
       "      <td>European Union (28 countries)</td>\n",
       "      <td>4.95</td>\n",
       "    </tr>\n",
       "  </tbody>\n",
       "</table>\n",
       "</div>"
      ],
      "text/plain": [
       "   TIME                            GEO  Value\n",
       "0  2000  European Union (28 countries)   0.00\n",
       "1  2001  European Union (28 countries)   0.00\n",
       "2  2002  European Union (28 countries)   5.00\n",
       "3  2003  European Union (28 countries)   5.03\n",
       "4  2004  European Union (28 countries)   4.95"
      ]
     },
     "execution_count": 42,
     "metadata": {},
     "output_type": "execute_result"
    }
   ],
   "source": [
    "eduFilled  = edu.fillna(value={\"Value\":0}) \n",
    "eduFilled.head()"
   ]
  },
  {
   "cell_type": "markdown",
   "metadata": {},
   "source": [
    "## Sorting"
   ]
  },
  {
   "cell_type": "markdown",
   "metadata": {},
   "source": [
    "Another important functionality we will need when inspecting our data is to sort by columns. We can sort a DataFrame using any column, using the **sort** function.  If we want to see the first five rows of data sorted in descending order  (i.e., from the largest to the smallest values) and using the *\"Value\"* column, then we just need to do this:"
   ]
  },
  {
   "cell_type": "code",
   "execution_count": 43,
   "metadata": {},
   "outputs": [
    {
     "data": {
      "text/html": [
       "<div>\n",
       "<style scoped>\n",
       "    .dataframe tbody tr th:only-of-type {\n",
       "        vertical-align: middle;\n",
       "    }\n",
       "\n",
       "    .dataframe tbody tr th {\n",
       "        vertical-align: top;\n",
       "    }\n",
       "\n",
       "    .dataframe thead th {\n",
       "        text-align: right;\n",
       "    }\n",
       "</style>\n",
       "<table border=\"1\" class=\"dataframe\">\n",
       "  <thead>\n",
       "    <tr style=\"text-align: right;\">\n",
       "      <th></th>\n",
       "      <th>TIME</th>\n",
       "      <th>GEO</th>\n",
       "      <th>Value</th>\n",
       "    </tr>\n",
       "  </thead>\n",
       "  <tbody>\n",
       "    <tr>\n",
       "      <td>130</td>\n",
       "      <td>2010</td>\n",
       "      <td>Denmark</td>\n",
       "      <td>8.81</td>\n",
       "    </tr>\n",
       "    <tr>\n",
       "      <td>131</td>\n",
       "      <td>2011</td>\n",
       "      <td>Denmark</td>\n",
       "      <td>8.75</td>\n",
       "    </tr>\n",
       "    <tr>\n",
       "      <td>129</td>\n",
       "      <td>2009</td>\n",
       "      <td>Denmark</td>\n",
       "      <td>8.74</td>\n",
       "    </tr>\n",
       "    <tr>\n",
       "      <td>121</td>\n",
       "      <td>2001</td>\n",
       "      <td>Denmark</td>\n",
       "      <td>8.44</td>\n",
       "    </tr>\n",
       "    <tr>\n",
       "      <td>122</td>\n",
       "      <td>2002</td>\n",
       "      <td>Denmark</td>\n",
       "      <td>8.44</td>\n",
       "    </tr>\n",
       "  </tbody>\n",
       "</table>\n",
       "</div>"
      ],
      "text/plain": [
       "     TIME      GEO  Value\n",
       "130  2010  Denmark   8.81\n",
       "131  2011  Denmark   8.75\n",
       "129  2009  Denmark   8.74\n",
       "121  2001  Denmark   8.44\n",
       "122  2002  Denmark   8.44"
      ]
     },
     "execution_count": 43,
     "metadata": {},
     "output_type": "execute_result"
    }
   ],
   "source": [
    "edu.sort_values(by='Value', ascending= False,inplace=True)\n",
    "edu.head()"
   ]
  },
  {
   "cell_type": "markdown",
   "metadata": {},
   "source": [
    "Note that the **inplace** keyword means that the DataFrame will be overwritten, and hence no new DataFrame is returned. If instead of **ascending = False** we use **ascending = True**, the values are sorted in ascending order (i.e. from the smallest to the largest values).\n",
    "\n",
    "If we want to return to the original order, we can sort by an index using the **sort_index** function and specifying **axis=0**:"
   ]
  },
  {
   "cell_type": "code",
   "execution_count": 44,
   "metadata": {},
   "outputs": [
    {
     "data": {
      "text/html": [
       "<div>\n",
       "<style scoped>\n",
       "    .dataframe tbody tr th:only-of-type {\n",
       "        vertical-align: middle;\n",
       "    }\n",
       "\n",
       "    .dataframe tbody tr th {\n",
       "        vertical-align: top;\n",
       "    }\n",
       "\n",
       "    .dataframe thead th {\n",
       "        text-align: right;\n",
       "    }\n",
       "</style>\n",
       "<table border=\"1\" class=\"dataframe\">\n",
       "  <thead>\n",
       "    <tr style=\"text-align: right;\">\n",
       "      <th></th>\n",
       "      <th>TIME</th>\n",
       "      <th>GEO</th>\n",
       "      <th>Value</th>\n",
       "    </tr>\n",
       "  </thead>\n",
       "  <tbody>\n",
       "    <tr>\n",
       "      <td>0</td>\n",
       "      <td>2000</td>\n",
       "      <td>European Union (28 countries)</td>\n",
       "      <td>NaN</td>\n",
       "    </tr>\n",
       "    <tr>\n",
       "      <td>1</td>\n",
       "      <td>2001</td>\n",
       "      <td>European Union (28 countries)</td>\n",
       "      <td>NaN</td>\n",
       "    </tr>\n",
       "    <tr>\n",
       "      <td>2</td>\n",
       "      <td>2002</td>\n",
       "      <td>European Union (28 countries)</td>\n",
       "      <td>5.00</td>\n",
       "    </tr>\n",
       "    <tr>\n",
       "      <td>3</td>\n",
       "      <td>2003</td>\n",
       "      <td>European Union (28 countries)</td>\n",
       "      <td>5.03</td>\n",
       "    </tr>\n",
       "    <tr>\n",
       "      <td>4</td>\n",
       "      <td>2004</td>\n",
       "      <td>European Union (28 countries)</td>\n",
       "      <td>4.95</td>\n",
       "    </tr>\n",
       "  </tbody>\n",
       "</table>\n",
       "</div>"
      ],
      "text/plain": [
       "   TIME                            GEO  Value\n",
       "0  2000  European Union (28 countries)    NaN\n",
       "1  2001  European Union (28 countries)    NaN\n",
       "2  2002  European Union (28 countries)   5.00\n",
       "3  2003  European Union (28 countries)   5.03\n",
       "4  2004  European Union (28 countries)   4.95"
      ]
     },
     "execution_count": 44,
     "metadata": {},
     "output_type": "execute_result"
    }
   ],
   "source": [
    "edu.sort_index(axis=0,ascending=True,inplace=True)\n",
    "edu.head()"
   ]
  },
  {
   "cell_type": "markdown",
   "metadata": {},
   "source": [
    "## Grouping Data"
   ]
  },
  {
   "cell_type": "markdown",
   "metadata": {},
   "source": [
    "Another very useful way to inspect data is to group it according to some criteria. For instance, in our example it would be nice to group all the data by country, regardless of the year. Pandas has the **groupby** function that allows us to do just that. The value returned by this function is a special grouped DataFrame. To have a proper DataFrame as a result, it is necessary to apply an aggregation function. Thus, this function will be applied to all the values in the same group.\n",
    "\n",
    "\n",
    "For example, in our case, if we want a DataFrame showing the mean of the values for each country over all the years, we can obtain it by grouping according to country and using the mean function as the aggregation method for each group. The result would be  a DataFrame with countries as indexes and the mean values as the column:"
   ]
  },
  {
   "cell_type": "code",
   "execution_count": 45,
   "metadata": {},
   "outputs": [
    {
     "data": {
      "text/html": [
       "<div>\n",
       "<style scoped>\n",
       "    .dataframe tbody tr th:only-of-type {\n",
       "        vertical-align: middle;\n",
       "    }\n",
       "\n",
       "    .dataframe tbody tr th {\n",
       "        vertical-align: top;\n",
       "    }\n",
       "\n",
       "    .dataframe thead th {\n",
       "        text-align: right;\n",
       "    }\n",
       "</style>\n",
       "<table border=\"1\" class=\"dataframe\">\n",
       "  <thead>\n",
       "    <tr style=\"text-align: right;\">\n",
       "      <th></th>\n",
       "      <th>Value</th>\n",
       "    </tr>\n",
       "    <tr>\n",
       "      <th>GEO</th>\n",
       "      <th></th>\n",
       "    </tr>\n",
       "  </thead>\n",
       "  <tbody>\n",
       "    <tr>\n",
       "      <td>Denmark</td>\n",
       "      <td>8.331667</td>\n",
       "    </tr>\n",
       "    <tr>\n",
       "      <td>Cyprus</td>\n",
       "      <td>7.023333</td>\n",
       "    </tr>\n",
       "    <tr>\n",
       "      <td>Finland</td>\n",
       "      <td>6.326667</td>\n",
       "    </tr>\n",
       "    <tr>\n",
       "      <td>Belgium</td>\n",
       "      <td>6.189091</td>\n",
       "    </tr>\n",
       "    <tr>\n",
       "      <td>France</td>\n",
       "      <td>5.797500</td>\n",
       "    </tr>\n",
       "    <tr>\n",
       "      <td>Slovenia</td>\n",
       "      <td>5.637273</td>\n",
       "    </tr>\n",
       "    <tr>\n",
       "      <td>Austria</td>\n",
       "      <td>5.618333</td>\n",
       "    </tr>\n",
       "    <tr>\n",
       "      <td>Malta</td>\n",
       "      <td>5.591667</td>\n",
       "    </tr>\n",
       "    <tr>\n",
       "      <td>Latvia</td>\n",
       "      <td>5.560000</td>\n",
       "    </tr>\n",
       "    <tr>\n",
       "      <td>Netherlands</td>\n",
       "      <td>5.497500</td>\n",
       "    </tr>\n",
       "    <tr>\n",
       "      <td>Portugal</td>\n",
       "      <td>5.297500</td>\n",
       "    </tr>\n",
       "    <tr>\n",
       "      <td>Estonia</td>\n",
       "      <td>5.270833</td>\n",
       "    </tr>\n",
       "    <tr>\n",
       "      <td>Lithuania</td>\n",
       "      <td>5.250000</td>\n",
       "    </tr>\n",
       "    <tr>\n",
       "      <td>Poland</td>\n",
       "      <td>5.197500</td>\n",
       "    </tr>\n",
       "    <tr>\n",
       "      <td>Hungary</td>\n",
       "      <td>5.193333</td>\n",
       "    </tr>\n",
       "    <tr>\n",
       "      <td>European Union (25 countries)</td>\n",
       "      <td>5.091667</td>\n",
       "    </tr>\n",
       "    <tr>\n",
       "      <td>European Union (28 countries)</td>\n",
       "      <td>5.081000</td>\n",
       "    </tr>\n",
       "    <tr>\n",
       "      <td>Ireland</td>\n",
       "      <td>5.070000</td>\n",
       "    </tr>\n",
       "    <tr>\n",
       "      <td>European Union (27 countries)</td>\n",
       "      <td>5.060833</td>\n",
       "    </tr>\n",
       "    <tr>\n",
       "      <td>Euro area (15 countries)</td>\n",
       "      <td>5.025455</td>\n",
       "    </tr>\n",
       "    <tr>\n",
       "      <td>Euro area (13 countries)</td>\n",
       "      <td>5.019091</td>\n",
       "    </tr>\n",
       "    <tr>\n",
       "      <td>Euro area (18 countries)</td>\n",
       "      <td>4.944000</td>\n",
       "    </tr>\n",
       "    <tr>\n",
       "      <td>Euro area (17 countries)</td>\n",
       "      <td>4.943000</td>\n",
       "    </tr>\n",
       "    <tr>\n",
       "      <td>Germany (until 1990 former territory of the FRG)</td>\n",
       "      <td>4.685000</td>\n",
       "    </tr>\n",
       "    <tr>\n",
       "      <td>Italy</td>\n",
       "      <td>4.552500</td>\n",
       "    </tr>\n",
       "    <tr>\n",
       "      <td>Spain</td>\n",
       "      <td>4.464167</td>\n",
       "    </tr>\n",
       "    <tr>\n",
       "      <td>Czech Republic</td>\n",
       "      <td>4.168333</td>\n",
       "    </tr>\n",
       "    <tr>\n",
       "      <td>Bulgaria</td>\n",
       "      <td>4.093333</td>\n",
       "    </tr>\n",
       "    <tr>\n",
       "      <td>Slovakia</td>\n",
       "      <td>3.996667</td>\n",
       "    </tr>\n",
       "    <tr>\n",
       "      <td>Greece</td>\n",
       "      <td>3.710000</td>\n",
       "    </tr>\n",
       "    <tr>\n",
       "      <td>Luxembourg</td>\n",
       "      <td>3.645714</td>\n",
       "    </tr>\n",
       "    <tr>\n",
       "      <td>Romania</td>\n",
       "      <td>3.494000</td>\n",
       "    </tr>\n",
       "  </tbody>\n",
       "</table>\n",
       "</div>"
      ],
      "text/plain": [
       "                                                     Value\n",
       "GEO                                                       \n",
       "Denmark                                           8.331667\n",
       "Cyprus                                            7.023333\n",
       "Finland                                           6.326667\n",
       "Belgium                                           6.189091\n",
       "France                                            5.797500\n",
       "Slovenia                                          5.637273\n",
       "Austria                                           5.618333\n",
       "Malta                                             5.591667\n",
       "Latvia                                            5.560000\n",
       "Netherlands                                       5.497500\n",
       "Portugal                                          5.297500\n",
       "Estonia                                           5.270833\n",
       "Lithuania                                         5.250000\n",
       "Poland                                            5.197500\n",
       "Hungary                                           5.193333\n",
       "European Union (25 countries)                     5.091667\n",
       "European Union (28 countries)                     5.081000\n",
       "Ireland                                           5.070000\n",
       "European Union (27 countries)                     5.060833\n",
       "Euro area (15 countries)                          5.025455\n",
       "Euro area (13 countries)                          5.019091\n",
       "Euro area (18 countries)                          4.944000\n",
       "Euro area (17 countries)                          4.943000\n",
       "Germany (until 1990 former territory of the FRG)  4.685000\n",
       "Italy                                             4.552500\n",
       "Spain                                             4.464167\n",
       "Czech Republic                                    4.168333\n",
       "Bulgaria                                          4.093333\n",
       "Slovakia                                          3.996667\n",
       "Greece                                            3.710000\n",
       "Luxembourg                                        3.645714\n",
       "Romania                                           3.494000"
      ]
     },
     "execution_count": 45,
     "metadata": {},
     "output_type": "execute_result"
    }
   ],
   "source": [
    "group=edu[[\"GEO\",\"Value\"]].groupby('GEO').mean()\n",
    "group.sort_values(by='Value', ascending= False)"
   ]
  },
  {
   "cell_type": "markdown",
   "metadata": {},
   "source": [
    "## Rearranging Data\n"
   ]
  },
  {
   "cell_type": "markdown",
   "metadata": {},
   "source": [
    "Up until now, our indexes have been just a numeration of rows without much meaning.  We can transform the arrangement of our data, redistributing the indexes and columns for better manipulation of our data, which normally leads to better performance. We can rearrange our data using the **pivot_table** function. Here, we can specify which columns will be the new indexes, the new values and the new columns. \n",
    "\n",
    "For example, imagine that we want to transform our DataFrame to a spreadsheet-like structure with the country names as the index, while the columns will be the years starting from 2006 and the values will be the previous *\"Value\"* column. To do this, first we need to filter out the data and then pivot it in this way:"
   ]
  },
  {
   "cell_type": "code",
   "execution_count": 46,
   "metadata": {},
   "outputs": [
    {
     "name": "stdout",
     "output_type": "stream",
     "text": [
      "TIME            2006  2007  2008  2009  2010  2011\n",
      "GEO                                               \n",
      "Austria         5.40  5.33  5.47  5.98  5.91  5.80\n",
      "Belgium         5.98  6.00  6.43  6.57  6.58  6.55\n",
      "Bulgaria        4.04  3.88  4.44  4.58  4.10  3.82\n",
      "Cyprus          7.02  6.95  7.45  7.98  7.92  7.87\n",
      "Czech Republic  4.42  4.05  3.92  4.36  4.25  4.51\n",
      "    TIME                            GEO  Value\n",
      "6   2006  European Union (28 countries)   4.91\n",
      "7   2007  European Union (28 countries)   4.92\n",
      "8   2008  European Union (28 countries)   5.04\n",
      "9   2009  European Union (28 countries)   5.38\n",
      "10  2010  European Union (28 countries)   5.41\n"
     ]
    }
   ],
   "source": [
    "filtered_data = edu[edu[\"TIME\"]>2005]  \n",
    "pivedu=pd.pivot_table(filtered_data, values='Value', index=['GEO'],columns = ['TIME'])\n",
    "print(pivedu.head())\n",
    "print(filtered_data.head())\n",
    "\n",
    "#filtered_data"
   ]
  },
  {
   "cell_type": "markdown",
   "metadata": {},
   "source": [
    "Now we can use the new index to select specific rows by label, using the **ix** operator:"
   ]
  },
  {
   "cell_type": "code",
   "execution_count": 47,
   "metadata": {},
   "outputs": [
    {
     "name": "stderr",
     "output_type": "stream",
     "text": [
      "/Users/alfred/Documents/anaconda/anaconda3/lib/python3.7/site-packages/ipykernel_launcher.py:1: FutureWarning: \n",
      ".ix is deprecated. Please use\n",
      ".loc for label based indexing or\n",
      ".iloc for positional indexing\n",
      "\n",
      "See the documentation here:\n",
      "http://pandas.pydata.org/pandas-docs/stable/user_guide/indexing.html#ix-indexer-is-deprecated\n",
      "  \"\"\"Entry point for launching an IPython kernel.\n"
     ]
    },
    {
     "data": {
      "text/html": [
       "<div>\n",
       "<style scoped>\n",
       "    .dataframe tbody tr th:only-of-type {\n",
       "        vertical-align: middle;\n",
       "    }\n",
       "\n",
       "    .dataframe tbody tr th {\n",
       "        vertical-align: top;\n",
       "    }\n",
       "\n",
       "    .dataframe thead th {\n",
       "        text-align: right;\n",
       "    }\n",
       "</style>\n",
       "<table border=\"1\" class=\"dataframe\">\n",
       "  <thead>\n",
       "    <tr style=\"text-align: right;\">\n",
       "      <th>TIME</th>\n",
       "      <th>2006</th>\n",
       "      <th>2007</th>\n",
       "      <th>2008</th>\n",
       "      <th>2009</th>\n",
       "      <th>2010</th>\n",
       "      <th>2011</th>\n",
       "    </tr>\n",
       "    <tr>\n",
       "      <th>GEO</th>\n",
       "      <th></th>\n",
       "      <th></th>\n",
       "      <th></th>\n",
       "      <th></th>\n",
       "      <th></th>\n",
       "      <th></th>\n",
       "    </tr>\n",
       "  </thead>\n",
       "  <tbody>\n",
       "    <tr>\n",
       "      <td>Spain</td>\n",
       "      <td>4.26</td>\n",
       "      <td>4.34</td>\n",
       "      <td>4.62</td>\n",
       "      <td>5.02</td>\n",
       "      <td>4.98</td>\n",
       "      <td>4.82</td>\n",
       "    </tr>\n",
       "    <tr>\n",
       "      <td>Portugal</td>\n",
       "      <td>5.07</td>\n",
       "      <td>5.10</td>\n",
       "      <td>4.89</td>\n",
       "      <td>5.79</td>\n",
       "      <td>5.62</td>\n",
       "      <td>5.27</td>\n",
       "    </tr>\n",
       "  </tbody>\n",
       "</table>\n",
       "</div>"
      ],
      "text/plain": [
       "TIME      2006  2007  2008  2009  2010  2011\n",
       "GEO                                         \n",
       "Spain     4.26  4.34  4.62  5.02  4.98  4.82\n",
       "Portugal  5.07  5.10  4.89  5.79  5.62  5.27"
      ]
     },
     "execution_count": 47,
     "metadata": {},
     "output_type": "execute_result"
    }
   ],
   "source": [
    "pivedu.ix[['Spain','Portugal'],range(2006,2012)]"
   ]
  },
  {
   "cell_type": "markdown",
   "metadata": {},
   "source": [
    "Pivot also offers the option of providing an argument **aggr_function** that allows us to perform an aggregation function between the values if there is more than one value for the given row and column after the transformation. As usual, you can design any custom function you want, just giving its name or using a $\\lambda$-function."
   ]
  },
  {
   "cell_type": "markdown",
   "metadata": {},
   "source": [
    "## Ranking Data"
   ]
  },
  {
   "cell_type": "markdown",
   "metadata": {},
   "source": [
    "Another useful visualization feature is to rank data. For example, we would like to know how  each country is ranked by year. To see this, we will use the pandas **rank** function. But first, we need to clean up our previous pivoted table a bit so that it only has real countries with real data. To do this, first we drop the Euro area entries and shorten the Germany name entry, using the **rename** function and then we drop all the rows containing any NaN, using the **dropna** function.\n",
    "\n",
    "Now we can perform the ranking using the **rank** function. Note here that the parameter `ascending=False` makes the ranking go from the highest values to the lowest values. The Pandas rank function supports different tie-breaking methods, specified with the **method** parameter. In our case, we use the  **first** method, in which ranks are assigned in the order they appear in the array, avoiding gaps between ranking."
   ]
  },
  {
   "cell_type": "code",
   "execution_count": 48,
   "metadata": {},
   "outputs": [],
   "source": [
    "pivedu = pivedu.drop(['Euro area (13 countries)', \n",
    "                      'Euro area (15 countries)',\n",
    "                      'Euro area (17 countries)', \n",
    "                      'Euro area (18 countries)',\n",
    "                      'European Union (25 countries)',\n",
    "                      'European Union (27 countries)',\n",
    "                      'European Union (28 countries)'\n",
    "                      ], axis=0)\n",
    "pivedu= pivedu.rename(index={'Germany (until 1990 former territory of the FRG)': 'Germany'})\n",
    "pivedu = pivedu.dropna()"
   ]
  },
  {
   "cell_type": "code",
   "execution_count": 49,
   "metadata": {},
   "outputs": [
    {
     "data": {
      "text/html": [
       "<div>\n",
       "<style scoped>\n",
       "    .dataframe tbody tr th:only-of-type {\n",
       "        vertical-align: middle;\n",
       "    }\n",
       "\n",
       "    .dataframe tbody tr th {\n",
       "        vertical-align: top;\n",
       "    }\n",
       "\n",
       "    .dataframe thead th {\n",
       "        text-align: right;\n",
       "    }\n",
       "</style>\n",
       "<table border=\"1\" class=\"dataframe\">\n",
       "  <thead>\n",
       "    <tr style=\"text-align: right;\">\n",
       "      <th>TIME</th>\n",
       "      <th>2006</th>\n",
       "      <th>2007</th>\n",
       "      <th>2008</th>\n",
       "      <th>2009</th>\n",
       "      <th>2010</th>\n",
       "      <th>2011</th>\n",
       "    </tr>\n",
       "    <tr>\n",
       "      <th>GEO</th>\n",
       "      <th></th>\n",
       "      <th></th>\n",
       "      <th></th>\n",
       "      <th></th>\n",
       "      <th></th>\n",
       "      <th></th>\n",
       "    </tr>\n",
       "  </thead>\n",
       "  <tbody>\n",
       "    <tr>\n",
       "      <td>Austria</td>\n",
       "      <td>10.0</td>\n",
       "      <td>7.0</td>\n",
       "      <td>11.0</td>\n",
       "      <td>7.0</td>\n",
       "      <td>8.0</td>\n",
       "      <td>8.0</td>\n",
       "    </tr>\n",
       "    <tr>\n",
       "      <td>Belgium</td>\n",
       "      <td>5.0</td>\n",
       "      <td>4.0</td>\n",
       "      <td>3.0</td>\n",
       "      <td>4.0</td>\n",
       "      <td>5.0</td>\n",
       "      <td>5.0</td>\n",
       "    </tr>\n",
       "    <tr>\n",
       "      <td>Bulgaria</td>\n",
       "      <td>21.0</td>\n",
       "      <td>21.0</td>\n",
       "      <td>20.0</td>\n",
       "      <td>20.0</td>\n",
       "      <td>22.0</td>\n",
       "      <td>22.0</td>\n",
       "    </tr>\n",
       "    <tr>\n",
       "      <td>Cyprus</td>\n",
       "      <td>2.0</td>\n",
       "      <td>2.0</td>\n",
       "      <td>2.0</td>\n",
       "      <td>2.0</td>\n",
       "      <td>2.0</td>\n",
       "      <td>3.0</td>\n",
       "    </tr>\n",
       "    <tr>\n",
       "      <td>Czech Republic</td>\n",
       "      <td>19.0</td>\n",
       "      <td>20.0</td>\n",
       "      <td>21.0</td>\n",
       "      <td>21.0</td>\n",
       "      <td>20.0</td>\n",
       "      <td>19.0</td>\n",
       "    </tr>\n",
       "    <tr>\n",
       "      <td>Denmark</td>\n",
       "      <td>1.0</td>\n",
       "      <td>1.0</td>\n",
       "      <td>1.0</td>\n",
       "      <td>1.0</td>\n",
       "      <td>1.0</td>\n",
       "      <td>1.0</td>\n",
       "    </tr>\n",
       "    <tr>\n",
       "      <td>Estonia</td>\n",
       "      <td>16.0</td>\n",
       "      <td>15.0</td>\n",
       "      <td>9.0</td>\n",
       "      <td>6.0</td>\n",
       "      <td>11.0</td>\n",
       "      <td>13.0</td>\n",
       "    </tr>\n",
       "    <tr>\n",
       "      <td>Finland</td>\n",
       "      <td>4.0</td>\n",
       "      <td>5.0</td>\n",
       "      <td>4.0</td>\n",
       "      <td>3.0</td>\n",
       "      <td>3.0</td>\n",
       "      <td>4.0</td>\n",
       "    </tr>\n",
       "    <tr>\n",
       "      <td>France</td>\n",
       "      <td>7.0</td>\n",
       "      <td>6.0</td>\n",
       "      <td>8.0</td>\n",
       "      <td>9.0</td>\n",
       "      <td>9.0</td>\n",
       "      <td>9.0</td>\n",
       "    </tr>\n",
       "    <tr>\n",
       "      <td>Germany</td>\n",
       "      <td>18.0</td>\n",
       "      <td>17.0</td>\n",
       "      <td>18.0</td>\n",
       "      <td>17.0</td>\n",
       "      <td>15.0</td>\n",
       "      <td>14.0</td>\n",
       "    </tr>\n",
       "    <tr>\n",
       "      <td>Hungary</td>\n",
       "      <td>9.0</td>\n",
       "      <td>9.0</td>\n",
       "      <td>13.0</td>\n",
       "      <td>15.0</td>\n",
       "      <td>18.0</td>\n",
       "      <td>18.0</td>\n",
       "    </tr>\n",
       "    <tr>\n",
       "      <td>Ireland</td>\n",
       "      <td>15.0</td>\n",
       "      <td>13.0</td>\n",
       "      <td>7.0</td>\n",
       "      <td>5.0</td>\n",
       "      <td>6.0</td>\n",
       "      <td>6.0</td>\n",
       "    </tr>\n",
       "    <tr>\n",
       "      <td>Italy</td>\n",
       "      <td>17.0</td>\n",
       "      <td>19.0</td>\n",
       "      <td>19.0</td>\n",
       "      <td>19.0</td>\n",
       "      <td>19.0</td>\n",
       "      <td>20.0</td>\n",
       "    </tr>\n",
       "    <tr>\n",
       "      <td>Latvia</td>\n",
       "      <td>12.0</td>\n",
       "      <td>12.0</td>\n",
       "      <td>6.0</td>\n",
       "      <td>13.0</td>\n",
       "      <td>17.0</td>\n",
       "      <td>15.0</td>\n",
       "    </tr>\n",
       "    <tr>\n",
       "      <td>Lithuania</td>\n",
       "      <td>14.0</td>\n",
       "      <td>16.0</td>\n",
       "      <td>16.0</td>\n",
       "      <td>12.0</td>\n",
       "      <td>13.0</td>\n",
       "      <td>12.0</td>\n",
       "    </tr>\n",
       "    <tr>\n",
       "      <td>Malta</td>\n",
       "      <td>3.0</td>\n",
       "      <td>3.0</td>\n",
       "      <td>5.0</td>\n",
       "      <td>14.0</td>\n",
       "      <td>4.0</td>\n",
       "      <td>2.0</td>\n",
       "    </tr>\n",
       "    <tr>\n",
       "      <td>Netherlands</td>\n",
       "      <td>8.0</td>\n",
       "      <td>8.0</td>\n",
       "      <td>10.0</td>\n",
       "      <td>8.0</td>\n",
       "      <td>7.0</td>\n",
       "      <td>7.0</td>\n",
       "    </tr>\n",
       "    <tr>\n",
       "      <td>Poland</td>\n",
       "      <td>11.0</td>\n",
       "      <td>14.0</td>\n",
       "      <td>14.0</td>\n",
       "      <td>16.0</td>\n",
       "      <td>14.0</td>\n",
       "      <td>16.0</td>\n",
       "    </tr>\n",
       "    <tr>\n",
       "      <td>Portugal</td>\n",
       "      <td>13.0</td>\n",
       "      <td>11.0</td>\n",
       "      <td>15.0</td>\n",
       "      <td>10.0</td>\n",
       "      <td>12.0</td>\n",
       "      <td>11.0</td>\n",
       "    </tr>\n",
       "    <tr>\n",
       "      <td>Slovakia</td>\n",
       "      <td>22.0</td>\n",
       "      <td>22.0</td>\n",
       "      <td>22.0</td>\n",
       "      <td>22.0</td>\n",
       "      <td>21.0</td>\n",
       "      <td>21.0</td>\n",
       "    </tr>\n",
       "    <tr>\n",
       "      <td>Slovenia</td>\n",
       "      <td>6.0</td>\n",
       "      <td>10.0</td>\n",
       "      <td>12.0</td>\n",
       "      <td>11.0</td>\n",
       "      <td>10.0</td>\n",
       "      <td>10.0</td>\n",
       "    </tr>\n",
       "    <tr>\n",
       "      <td>Spain</td>\n",
       "      <td>20.0</td>\n",
       "      <td>18.0</td>\n",
       "      <td>17.0</td>\n",
       "      <td>18.0</td>\n",
       "      <td>16.0</td>\n",
       "      <td>17.0</td>\n",
       "    </tr>\n",
       "  </tbody>\n",
       "</table>\n",
       "</div>"
      ],
      "text/plain": [
       "TIME            2006  2007  2008  2009  2010  2011\n",
       "GEO                                               \n",
       "Austria         10.0   7.0  11.0   7.0   8.0   8.0\n",
       "Belgium          5.0   4.0   3.0   4.0   5.0   5.0\n",
       "Bulgaria        21.0  21.0  20.0  20.0  22.0  22.0\n",
       "Cyprus           2.0   2.0   2.0   2.0   2.0   3.0\n",
       "Czech Republic  19.0  20.0  21.0  21.0  20.0  19.0\n",
       "Denmark          1.0   1.0   1.0   1.0   1.0   1.0\n",
       "Estonia         16.0  15.0   9.0   6.0  11.0  13.0\n",
       "Finland          4.0   5.0   4.0   3.0   3.0   4.0\n",
       "France           7.0   6.0   8.0   9.0   9.0   9.0\n",
       "Germany         18.0  17.0  18.0  17.0  15.0  14.0\n",
       "Hungary          9.0   9.0  13.0  15.0  18.0  18.0\n",
       "Ireland         15.0  13.0   7.0   5.0   6.0   6.0\n",
       "Italy           17.0  19.0  19.0  19.0  19.0  20.0\n",
       "Latvia          12.0  12.0   6.0  13.0  17.0  15.0\n",
       "Lithuania       14.0  16.0  16.0  12.0  13.0  12.0\n",
       "Malta            3.0   3.0   5.0  14.0   4.0   2.0\n",
       "Netherlands      8.0   8.0  10.0   8.0   7.0   7.0\n",
       "Poland          11.0  14.0  14.0  16.0  14.0  16.0\n",
       "Portugal        13.0  11.0  15.0  10.0  12.0  11.0\n",
       "Slovakia        22.0  22.0  22.0  22.0  21.0  21.0\n",
       "Slovenia         6.0  10.0  12.0  11.0  10.0  10.0\n",
       "Spain           20.0  18.0  17.0  18.0  16.0  17.0"
      ]
     },
     "execution_count": 49,
     "metadata": {},
     "output_type": "execute_result"
    }
   ],
   "source": [
    "pivedu.rank(ascending=False,method='first')"
   ]
  },
  {
   "cell_type": "markdown",
   "metadata": {},
   "source": [
    "If we want to make a global ranking taking into account all the years, we can sum up all the columns and rank the result. Then we can sort the resulting values to retrieve the top 5 countries for the last 6 years, in this way: "
   ]
  },
  {
   "cell_type": "code",
   "execution_count": 50,
   "metadata": {},
   "outputs": [
    {
     "data": {
      "text/plain": [
       "GEO\n",
       "Denmark    1.0\n",
       "Cyprus     2.0\n",
       "Finland    3.0\n",
       "Malta      4.0\n",
       "Belgium    5.0\n",
       "dtype: float64"
      ]
     },
     "execution_count": 50,
     "metadata": {},
     "output_type": "execute_result"
    }
   ],
   "source": [
    "totalSum = pivedu.sum(axis=1)\n",
    "totalSum.rank(ascending=False,method='dense').sort_values().head()"
   ]
  },
  {
   "cell_type": "markdown",
   "metadata": {},
   "source": [
    "## Plotting"
   ]
  },
  {
   "cell_type": "markdown",
   "metadata": {},
   "source": [
    " Pandas DataFrames and Series can be plotted using the **plot** function, which uses the library for graphics *Matplotlib*.  \n",
    " \n",
    "For example, if we want to plot the accumulated values for each country over the last 6 years, we can take the  Series obtained in the previous example and plot it directly by calling the **plot** function: \n",
    "\n",
    "\n",
    "\n",
    "Note that if we want the bars ordered from the highest to the lowest value, we need to sort the values in the Series first. The parameter  **kind** used in the **plot** function defines which kind of graphic will be used. In our case, a bar graph. The parameter **style** refers to the style properties of the graphic, in our case, the color of bars is set to **b** (blue). The alpha channel can be modified adding a keyword parameter **alpha**  with a percentage, producing a more translucent plot. Finally, using the **title** keyword the name of the graphic can be set."
   ]
  },
  {
   "cell_type": "code",
   "execution_count": 51,
   "metadata": {},
   "outputs": [
    {
     "data": {
      "image/png": "[encoded data removed]",
      "text/plain": [
       "<Figure size 864x360 with 1 Axes>"
      ]
     },
     "metadata": {
      "needs_background": "light"
     },
     "output_type": "display_data"
    }
   ],
   "source": [
    "%matplotlib inline \n",
    "import matplotlib.pylab as plt\n",
    "\n",
    "fig = plt.figure(figsize=(12,5))\n",
    "totalSum=pivedu.sum(axis=1).sort_values(ascending=False)\n",
    "totalSum.plot(kind='bar',style='b', alpha=0.4,title = \"Total Values for Country\")\n",
    "#plt.savefig(\"Totalvalue_Country.png\",dpi= 300, bbox_inches='tight')\n",
    "plt.show()"
   ]
  },
  {
   "cell_type": "markdown",
   "metadata": {},
   "source": [
    "It is also possible to plot a DataFrame directly. In this case, each column is treated as a separated Series. For example, instead of printing the accumulated value over the years, we can plot the value for each year.\n",
    "\n",
    "\n",
    "In this case, we have used a horizontal bar diagram (`kind='barh'`) stacking all the years in the same country bar. This can be done by setting the parameter **stacked** to `True`. The number of default colors in a plot is only 5, thus if you have more than 5 Series to show, you need to specify more colors or otherwise the same set of colors will be used again. We can set a new set of colors using the keyword **color** with a list of colors. Basic colors have a single-character code assigned to each, for example, \"b\" is for blue, \"r\" for red, \"g\" for green, \"y\" for yellow, \"m\" for magenta and \"c\" for cyan. When several Series are shown in a plot, a legend is created for identifying each one. The name for each Series is the name of the column in the DataFrame. By default, the legend goes inside the plot area. If we want to change this, we can use the **legend** function of the axis object (this is the object returned when the plot function is called). By using the **loc** keyword, we can set the relative position of the legend with respect to the plot. It can be a combination of right or left and upper, lower or center. With**bbox_to_anchor** we can set an absolute position with respect to the plot, allowing us to put the legend outside the graph."
   ]
  },
  {
   "cell_type": "code",
   "execution_count": 52,
   "metadata": {},
   "outputs": [
    {
     "data": {
      "image/png": "[encoded data removed]",
      "text/plain": [
       "<Figure size 864x432 with 1 Axes>"
      ]
     },
     "metadata": {
      "needs_background": "light"
     },
     "output_type": "display_data"
    }
   ],
   "source": [
    "my_colors = ['b', 'r', 'g', 'y', 'm','c'] \n",
    "ax = pivedu.plot(kind='barh',stacked=True, color=my_colors,figsize=(12, 6))\n",
    "ax.legend(loc='center left', bbox_to_anchor=(1, 0.5)) \n",
    "#plt.savefig(\"Value_Time_Country.png\",dpi= 300, bbox_inches='tight')\n",
    "plt.show()"
   ]
  },
  {
   "cell_type": "markdown",
   "metadata": {},
   "source": [
    "# Merge\n",
    "\n",
    "1M MovieLens database (http://www.grouplens.org/node/73) contains 1,000,209 ratings of 3,900 films made during yerar 2000 for 6040 anonymous users from MovieLens recommender Online (http://www.movielens.org)\n",
    "\n",
    "The contents of the database are:\n",
    "\n",
    "================================================================================\n",
    "\n",
    "All ratings are contained in the file \"ratings.dat\" and are in the following format:\n",
    "\n",
    "UserID::MovieID::Rating::Timestamp\n",
    "\n",
    "- UserIDs range between 1 and 6040 \n",
    "- MovieIDs range between 1 and 3952\n",
    "- Ratings are made on a 5-star scale (whole-star ratings only)\n",
    "- Timestamp is represented in seconds since the epoch as returned by time(2)\n",
    "- Each user has at least 20 ratings\n",
    "\n",
    "USERS FILE DESCRIPTION\n",
    "\n",
    "================================================================================\n",
    "\n",
    "User information is in the file \"users.dat\" and is in the following format:\n",
    "\n",
    "UserID::Gender::Age::Occupation::Zip-code\n",
    "\n",
    "All demographic information is provided voluntarily by the users and is not checked for accuracy.  Only users who have provided some demographic information are included in this data set.\n",
    "\n",
    "- Gender is denoted by a \"M\" for male and \"F\" for female\n",
    "- Age is chosen from the following ranges:\n",
    "\n",
    "\t*  1:  \"Under 18\"\n",
    "\t* 18:  \"18-24\"\n",
    "\t* 25:  \"25-34\"\n",
    "\t* 35:  \"35-44\"\n",
    "\t* 45:  \"45-49\"\n",
    "\t* 50:  \"50-55\"\n",
    "\t* 56:  \"56+\"\n",
    "\n",
    "- Occupation is chosen from the following choices:\n",
    "\n",
    "\t*  0:  \"other\" or not specified\n",
    "\t*  1:  \"academic/educator\"\n",
    "\t*  2:  \"artist\"\n",
    "\t*  3:  \"clerical/admin\"\n",
    "\t*  4:  \"college/grad student\"\n",
    "\t*  5:  \"customer service\"\n",
    "\t*  6:  \"doctor/health care\"\n",
    "\t*  7:  \"executive/managerial\"\n",
    "\t*  8:  \"farmer\"\n",
    "\t*  9:  \"homemaker\"\n",
    "\t* 10:  \"K-12 student\"\n",
    "\t* 11:  \"lawyer\"\n",
    "\t* 12:  \"programmer\"\n",
    "\t* 13:  \"retired\"\n",
    "\t* 14:  \"sales/marketing\"\n",
    "\t* 15:  \"scientist\"\n",
    "\t* 16:  \"self-employed\"\n",
    "\t* 17:  \"technician/engineer\"\n",
    "\t* 18:  \"tradesman/craftsman\"\n",
    "\t* 19:  \"unemployed\"\n",
    "\t* 20:  \"writer\"\n",
    "\n",
    "MOVIES FILE DESCRIPTION\n",
    "\n",
    "================================================================================\n",
    "\n",
    "Movie information is in the file \"movies.dat\" and is in the following format:\n",
    "\n",
    "MovieID::Title::Genres\n",
    "\n",
    "- Titles are identical to titles provided by the IMDB (including year of release)\n",
    "- Genres are pipe-separated and are selected from the following genres:\n",
    "\n",
    "\t* Action\n",
    "\t* Adventure\n",
    "\t* Animation\n",
    "\t* Children's\n",
    "\t* Comedy\n",
    "\t* Crime\n",
    "\t* Documentary\n",
    "\t* Drama\n",
    "\t* Fantasy\n",
    "\t* Film-Noir\n",
    "\t* Horror\n",
    "\t* Musical\n",
    "\t* Mystery\n",
    "\t* Romance\n",
    "\t* Sci-Fi\n",
    "\t* Thriller\n",
    "\t* War\n",
    "\t* Western\n",
    "\n",
    "- Some MovieIDs do not correspond to a movie due to accidental duplicate entries and/or test entries\n",
    "- Movies are mostly entered by hand, so errors and inconsistencies may exist\n"
   ]
  },
  {
   "cell_type": "markdown",
   "metadata": {},
   "source": [
    "Load the three files in the database into three `DataFrames`."
   ]
  },
  {
   "cell_type": "code",
   "execution_count": 53,
   "metadata": {},
   "outputs": [],
   "source": [
    "import pandas as pd\n",
    "\n",
    "users_data =  'ml-1m/users.dat'\n",
    "ratings_data = 'ml-1m/ratings.dat'\n",
    "movies_data =  'ml-1m/movies.dat'\n",
    "\n",
    "\n",
    "unames = ['user_id', 'gender', 'age', 'occupation', 'zip']\n",
    "users = pd.read_table(users_data, sep='::', header=None, names=unames, engine='python')\n",
    "rnames = ['user_id', 'movie_id', 'rating', 'timestamp']\n",
    "ratings = pd.read_table(ratings_data, sep='::', header=None, names=rnames,  engine='python')\n",
    "mnames = ['movie_id', 'title', 'genres']\n",
    "movies = pd.read_table(movies_data, sep='::', header=None, names=mnames,  engine='python')"
   ]
  },
  {
   "cell_type": "markdown",
   "metadata": {},
   "source": [
    "To work with these data, the first step is to obtain a unique structure containing all the information. To do this we can use the function `merge` of pandas. This function automatically infers which columns should be used for the `merge` based on the names that are intersecting:\n"
   ]
  },
  {
   "cell_type": "code",
   "execution_count": 54,
   "metadata": {},
   "outputs": [
    {
     "name": "stdout",
     "output_type": "stream",
     "text": [
      "    user_id  movie_id  rating   timestamp gender  age  occupation    zip  \\\n",
      "0         1      1193       5   978300760      F    1          10  48067   \n",
      "1         2      1193       5   978298413      M   56          16  70072   \n",
      "2        12      1193       4   978220179      M   25          12  32793   \n",
      "3        15      1193       4   978199279      M   25           7  22903   \n",
      "4        17      1193       5   978158471      M   50           1  95350   \n",
      "5        18      1193       4   978156168      F   18           3  95825   \n",
      "6        19      1193       5   982730936      M    1          10  48073   \n",
      "7        24      1193       5   978136709      F   25           7  10023   \n",
      "8        28      1193       3   978125194      F   25           1  14607   \n",
      "9        33      1193       5   978557765      M   45           3  55421   \n",
      "10       39      1193       5   978043535      M   18           4  61820   \n",
      "11       42      1193       3   978038981      M   25           8  24502   \n",
      "12       44      1193       4   978018995      M   45          17  98052   \n",
      "13       47      1193       4   977978345      M   18           4  94305   \n",
      "14       48      1193       4   977975061      M   25           4  92107   \n",
      "15       49      1193       4   978813972      M   18          12  77084   \n",
      "16       53      1193       5   977946400      M   25           0  96931   \n",
      "17       54      1193       5   977944039      M   50           1  56723   \n",
      "18       58      1193       5   977933866      M   25           2  30303   \n",
      "19       59      1193       4   977934292      F   50           1  55413   \n",
      "20       62      1193       4   977968584      F   35           3  98105   \n",
      "21       80      1193       4   977786172      M   56           1  49327   \n",
      "22       81      1193       5   977785864      F   25           0  60640   \n",
      "23       88      1193       5   977694161      F   45           1  02476   \n",
      "24       89      1193       5   977683596      F   56           9  85749   \n",
      "25       95      1193       5   977626632      M   45           0  98201   \n",
      "26       96      1193       3   977621789      F   25          16  78028   \n",
      "27       99      1193       2   982791053      F    1          10  19390   \n",
      "28      102      1193       5  1040737607      M   35          19  20871   \n",
      "29      104      1193       2   977546620      M   25          12  00926   \n",
      "\n",
      "                                     title genres  \n",
      "0   One Flew Over the Cuckoo's Nest (1975)  Drama  \n",
      "1   One Flew Over the Cuckoo's Nest (1975)  Drama  \n",
      "2   One Flew Over the Cuckoo's Nest (1975)  Drama  \n",
      "3   One Flew Over the Cuckoo's Nest (1975)  Drama  \n",
      "4   One Flew Over the Cuckoo's Nest (1975)  Drama  \n",
      "5   One Flew Over the Cuckoo's Nest (1975)  Drama  \n",
      "6   One Flew Over the Cuckoo's Nest (1975)  Drama  \n",
      "7   One Flew Over the Cuckoo's Nest (1975)  Drama  \n",
      "8   One Flew Over the Cuckoo's Nest (1975)  Drama  \n",
      "9   One Flew Over the Cuckoo's Nest (1975)  Drama  \n",
      "10  One Flew Over the Cuckoo's Nest (1975)  Drama  \n",
      "11  One Flew Over the Cuckoo's Nest (1975)  Drama  \n",
      "12  One Flew Over the Cuckoo's Nest (1975)  Drama  \n",
      "13  One Flew Over the Cuckoo's Nest (1975)  Drama  \n",
      "14  One Flew Over the Cuckoo's Nest (1975)  Drama  \n",
      "15  One Flew Over the Cuckoo's Nest (1975)  Drama  \n",
      "16  One Flew Over the Cuckoo's Nest (1975)  Drama  \n",
      "17  One Flew Over the Cuckoo's Nest (1975)  Drama  \n",
      "18  One Flew Over the Cuckoo's Nest (1975)  Drama  \n",
      "19  One Flew Over the Cuckoo's Nest (1975)  Drama  \n",
      "20  One Flew Over the Cuckoo's Nest (1975)  Drama  \n",
      "21  One Flew Over the Cuckoo's Nest (1975)  Drama  \n",
      "22  One Flew Over the Cuckoo's Nest (1975)  Drama  \n",
      "23  One Flew Over the Cuckoo's Nest (1975)  Drama  \n",
      "24  One Flew Over the Cuckoo's Nest (1975)  Drama  \n",
      "25  One Flew Over the Cuckoo's Nest (1975)  Drama  \n",
      "26  One Flew Over the Cuckoo's Nest (1975)  Drama  \n",
      "27  One Flew Over the Cuckoo's Nest (1975)  Drama  \n",
      "28  One Flew Over the Cuckoo's Nest (1975)  Drama  \n",
      "29  One Flew Over the Cuckoo's Nest (1975)  Drama  \n"
     ]
    }
   ],
   "source": [
    "data = pd.merge(pd.merge(ratings, users), movies)\n",
    "print (data[:30])"
   ]
  },
  {
   "cell_type": "markdown",
   "metadata": {},
   "source": [
    "# Hands on\n",
    "\n",
    "**MovieLens database**"
   ]
  },
  {
   "cell_type": "markdown",
   "metadata": {},
   "source": [
    "1- Filter films that have received at least 250 ratings:"
   ]
  },
  {
   "cell_type": "code",
   "execution_count": 55,
   "metadata": {},
   "outputs": [
    {
     "data": {
      "text/plain": [
       "title\n",
       "American Beauty (1999)                                   3428\n",
       "Star Wars: Episode IV - A New Hope (1977)                2991\n",
       "Star Wars: Episode V - The Empire Strikes Back (1980)    2990\n",
       "Star Wars: Episode VI - Return of the Jedi (1983)        2883\n",
       "Jurassic Park (1993)                                     2672\n",
       "dtype: int64"
      ]
     },
     "execution_count": 55,
     "metadata": {},
     "output_type": "execute_result"
    }
   ],
   "source": [
    "### Your Code HERE\n",
    "#data['title'].count()\n",
    "df=data.groupby('title').size()\n",
    "filt=df>=250\n",
    "#df.columns=['Count of Rating']\n",
    "#u=df[data['title']]>=250\n",
    "#u aquesta variable conté el dataset original amb només el rating de les pelis que tenen més de 250, per futurs exercicis.\n",
    "#data[u.values]\n",
    "r=df[filt].sort_values(ascending=False)\n",
    "r.head()\n"
   ]
  },
  {
   "cell_type": "markdown",
   "metadata": {},
   "source": [
    "2- Obtain the mean ratings for each movie grouped by gender that have at least 250 ratings. "
   ]
  },
  {
   "cell_type": "code",
   "execution_count": 56,
   "metadata": {},
   "outputs": [
    {
     "data": {
      "text/html": [
       "<div>\n",
       "<style scoped>\n",
       "    .dataframe tbody tr th:only-of-type {\n",
       "        vertical-align: middle;\n",
       "    }\n",
       "\n",
       "    .dataframe tbody tr th {\n",
       "        vertical-align: top;\n",
       "    }\n",
       "\n",
       "    .dataframe thead th {\n",
       "        text-align: right;\n",
       "    }\n",
       "</style>\n",
       "<table border=\"1\" class=\"dataframe\">\n",
       "  <thead>\n",
       "    <tr style=\"text-align: right;\">\n",
       "      <th>gender</th>\n",
       "      <th>F</th>\n",
       "      <th>M</th>\n",
       "    </tr>\n",
       "    <tr>\n",
       "      <th>title</th>\n",
       "      <th></th>\n",
       "      <th></th>\n",
       "    </tr>\n",
       "  </thead>\n",
       "  <tbody>\n",
       "    <tr>\n",
       "      <td>'burbs, The (1989)</td>\n",
       "      <td>2.793478</td>\n",
       "      <td>2.962085</td>\n",
       "    </tr>\n",
       "    <tr>\n",
       "      <td>10 Things I Hate About You (1999)</td>\n",
       "      <td>3.646552</td>\n",
       "      <td>3.311966</td>\n",
       "    </tr>\n",
       "    <tr>\n",
       "      <td>101 Dalmatians (1961)</td>\n",
       "      <td>3.791444</td>\n",
       "      <td>3.500000</td>\n",
       "    </tr>\n",
       "    <tr>\n",
       "      <td>101 Dalmatians (1996)</td>\n",
       "      <td>3.240000</td>\n",
       "      <td>2.911215</td>\n",
       "    </tr>\n",
       "    <tr>\n",
       "      <td>12 Angry Men (1957)</td>\n",
       "      <td>4.184397</td>\n",
       "      <td>4.328421</td>\n",
       "    </tr>\n",
       "  </tbody>\n",
       "</table>\n",
       "</div>"
      ],
      "text/plain": [
       "gender                                    F         M\n",
       "title                                                \n",
       "'burbs, The (1989)                 2.793478  2.962085\n",
       "10 Things I Hate About You (1999)  3.646552  3.311966\n",
       "101 Dalmatians (1961)              3.791444  3.500000\n",
       "101 Dalmatians (1996)              3.240000  2.911215\n",
       "12 Angry Men (1957)                4.184397  4.328421"
      ]
     },
     "execution_count": 56,
     "metadata": {},
     "output_type": "execute_result"
    }
   ],
   "source": [
    "df=data.groupby('title').size()\n",
    "df.columns=['Count of Rating']\n",
    "u=df[data['title']]>=250\n",
    "#more_than_250 representa la mateixa data que envia el professor però només amb valoracions més de 250\n",
    "more_than_250=data[u.values]\n",
    "filtered_data=more_than_250.pivot_table('rating',  index='title', columns='gender', aggfunc='mean')\n",
    "filtered_data.head()"
   ]
  },
  {
   "cell_type": "code",
   "execution_count": 57,
   "metadata": {},
   "outputs": [
    {
     "data": {
      "text/plain": [
       "title\n",
       "Close Shave, A (1995)                                     4.644444\n",
       "Wrong Trousers, The (1993)                                4.588235\n",
       "Sunset Blvd. (a.k.a. Sunset Boulevard) (1950)             4.572650\n",
       "Wallace & Gromit: The Best of Aardman Animation (1996)    4.563107\n",
       "Schindler's List (1993)                                   4.562602\n",
       "                                                            ...   \n",
       "Avengers, The (1998)                                      1.915254\n",
       "Speed 2: Cruise Control (1997)                            1.906667\n",
       "Rocky V (1990)                                            1.878788\n",
       "Barb Wire (1996)                                          1.585366\n",
       "Battlefield Earth (2000)                                  1.574468\n",
       "Name: F, Length: 1216, dtype: float64"
      ]
     },
     "execution_count": 57,
     "metadata": {},
     "output_type": "execute_result"
    }
   ],
   "source": [
    "filtered_data[\"F\"].sort_values(ascending=False)"
   ]
  },
  {
   "cell_type": "code",
   "execution_count": 58,
   "metadata": {},
   "outputs": [],
   "source": [
    "### Your Code HERE"
   ]
  },
  {
   "cell_type": "markdown",
   "metadata": {},
   "source": [
    "3- Show films more valued by women."
   ]
  },
  {
   "cell_type": "code",
   "execution_count": 59,
   "metadata": {},
   "outputs": [
    {
     "data": {
      "text/plain": [
       "title\n",
       "Close Shave, A (1995)                                     4.644444\n",
       "Wrong Trousers, The (1993)                                4.588235\n",
       "Sunset Blvd. (a.k.a. Sunset Boulevard) (1950)             4.572650\n",
       "Wallace & Gromit: The Best of Aardman Animation (1996)    4.563107\n",
       "Schindler's List (1993)                                   4.562602\n",
       "                                                            ...   \n",
       "Avengers, The (1998)                                      1.915254\n",
       "Speed 2: Cruise Control (1997)                            1.906667\n",
       "Rocky V (1990)                                            1.878788\n",
       "Barb Wire (1996)                                          1.585366\n",
       "Battlefield Earth (2000)                                  1.574468\n",
       "Name: F, Length: 1216, dtype: float64"
      ]
     },
     "execution_count": 59,
     "metadata": {},
     "output_type": "execute_result"
    }
   ],
   "source": [
    "mes_valorades_per_dones_i_homes=filtered_data.sort_values(by='F', ascending=False)\n",
    "#mes_valorades_per_dones=1\n",
    "mes_valorades_per_dones_i_homes.iloc[:,0]\n",
    "#mes_valorades_per_dones"
   ]
  },
  {
   "cell_type": "markdown",
   "metadata": {},
   "source": [
    "4- Now we wonder which movies are rated more differently between men and women. Which films have more different rating and are more highly valued by women? And the films preferred by men which doesn't liked women? What are the films that have generated the most discordant ratings, regardless of gender?"
   ]
  },
  {
   "cell_type": "code",
   "execution_count": 60,
   "metadata": {},
   "outputs": [
    {
     "name": "stdout",
     "output_type": "stream",
     "text": [
      "title\n",
      "Good, The Bad and The Ugly, The (1966)    0.726351\n",
      "Kentucky Fried Movie, The (1977)          0.676359\n",
      "Dumb & Dumber (1994)                      0.638608\n",
      "Longest Day, The (1962)                   0.619682\n",
      "Cable Guy, The (1996)                     0.613787\n",
      "dtype: float64 \n",
      "\n",
      "title\n",
      "Steel Magnolias (1989)      -0.535777\n",
      "Little Women (1994)         -0.548849\n",
      "Grease (1978)               -0.608224\n",
      "Jumpin' Jack Flash (1986)   -0.676359\n",
      "Dirty Dancing (1987)        -0.830782\n",
      "dtype: float64\n"
     ]
    }
   ],
   "source": [
    "### primer filtrem les diferencies entre homes io dones\n",
    "diferencies_entre_homes_i_dones=filtered_data['M']-filtered_data['F']\n",
    "#diferencies_entre_homes_i_dones.isnull().any().any()\n",
    "#False, no hi ha cap nan, genial\n",
    "diferencies_entre_homes_i_dones.head(9)\n",
    "diferencies_majors_entre_homes_i_dones=diferencies_entre_homes_i_dones[filt].sort_values(ascending=False)\n",
    "print(diferencies_majors_entre_homes_i_dones.head(), '\\n')\n",
    "print(diferencies_majors_entre_homes_i_dones.tail())"
   ]
  },
  {
   "cell_type": "code",
   "execution_count": 61,
   "metadata": {},
   "outputs": [
    {
     "data": {
      "text/html": [
       "<div>\n",
       "<style scoped>\n",
       "    .dataframe tbody tr th:only-of-type {\n",
       "        vertical-align: middle;\n",
       "    }\n",
       "\n",
       "    .dataframe tbody tr th {\n",
       "        vertical-align: top;\n",
       "    }\n",
       "\n",
       "    .dataframe thead th {\n",
       "        text-align: right;\n",
       "    }\n",
       "</style>\n",
       "<table border=\"1\" class=\"dataframe\">\n",
       "  <thead>\n",
       "    <tr style=\"text-align: right;\">\n",
       "      <th></th>\n",
       "      <th>rating</th>\n",
       "    </tr>\n",
       "    <tr>\n",
       "      <th>title</th>\n",
       "      <th></th>\n",
       "    </tr>\n",
       "  </thead>\n",
       "  <tbody>\n",
       "    <tr>\n",
       "      <td>Foreign Student (1994)</td>\n",
       "      <td>2.828427</td>\n",
       "    </tr>\n",
       "    <tr>\n",
       "      <td>Criminal Lovers (Les Amants Criminels) (1999)</td>\n",
       "      <td>2.309401</td>\n",
       "    </tr>\n",
       "    <tr>\n",
       "      <td>Identification of a Woman (Identificazione di una donna) (1982)</td>\n",
       "      <td>2.121320</td>\n",
       "    </tr>\n",
       "    <tr>\n",
       "      <td>Tokyo Fist (1995)</td>\n",
       "      <td>2.121320</td>\n",
       "    </tr>\n",
       "    <tr>\n",
       "      <td>Better Living (1998)</td>\n",
       "      <td>2.121320</td>\n",
       "    </tr>\n",
       "  </tbody>\n",
       "</table>\n",
       "</div>"
      ],
      "text/plain": [
       "                                                      rating\n",
       "title                                                       \n",
       "Foreign Student (1994)                              2.828427\n",
       "Criminal Lovers (Les Amants Criminels) (1999)       2.309401\n",
       "Identification of a Woman (Identificazione di u...  2.121320\n",
       "Tokyo Fist (1995)                                   2.121320\n",
       "Better Living (1998)                                2.121320"
      ]
     },
     "execution_count": 61,
     "metadata": {},
     "output_type": "execute_result"
    }
   ],
   "source": [
    "#for diference we use standard deviation.\n",
    "taula_desviacio_estandard = pd.pivot_table(data, values = 'rating',index='title',aggfunc='std')\n",
    "#taula_desviacio_estandard.isnull().any().any() \n",
    "#False, no hi ha NAN values\n",
    "taula_desviacio_estandard.sort_values(by='rating', ascending=False).head()\n"
   ]
  },
  {
   "cell_type": "markdown",
   "metadata": {},
   "source": [
    "5- Calculate the average rating of each user. "
   ]
  },
  {
   "cell_type": "code",
   "execution_count": 62,
   "metadata": {
    "scrolled": false
   },
   "outputs": [
    {
     "data": {
      "text/html": [
       "<div>\n",
       "<style scoped>\n",
       "    .dataframe tbody tr th:only-of-type {\n",
       "        vertical-align: middle;\n",
       "    }\n",
       "\n",
       "    .dataframe tbody tr th {\n",
       "        vertical-align: top;\n",
       "    }\n",
       "\n",
       "    .dataframe thead th {\n",
       "        text-align: right;\n",
       "    }\n",
       "</style>\n",
       "<table border=\"1\" class=\"dataframe\">\n",
       "  <thead>\n",
       "    <tr style=\"text-align: right;\">\n",
       "      <th></th>\n",
       "      <th>rating</th>\n",
       "    </tr>\n",
       "    <tr>\n",
       "      <th>user_id</th>\n",
       "      <th></th>\n",
       "    </tr>\n",
       "  </thead>\n",
       "  <tbody>\n",
       "    <tr>\n",
       "      <td>283</td>\n",
       "      <td>4.962963</td>\n",
       "    </tr>\n",
       "    <tr>\n",
       "      <td>2339</td>\n",
       "      <td>4.956522</td>\n",
       "    </tr>\n",
       "    <tr>\n",
       "      <td>3324</td>\n",
       "      <td>4.904762</td>\n",
       "    </tr>\n",
       "    <tr>\n",
       "      <td>3902</td>\n",
       "      <td>4.890909</td>\n",
       "    </tr>\n",
       "    <tr>\n",
       "      <td>446</td>\n",
       "      <td>4.843137</td>\n",
       "    </tr>\n",
       "  </tbody>\n",
       "</table>\n",
       "</div>"
      ],
      "text/plain": [
       "           rating\n",
       "user_id          \n",
       "283      4.962963\n",
       "2339     4.956522\n",
       "3324     4.904762\n",
       "3902     4.890909\n",
       "446      4.843137"
      ]
     },
     "execution_count": 62,
     "metadata": {},
     "output_type": "execute_result"
    }
   ],
   "source": [
    "dades_dels_usuaris=data.pivot_table('rating', index='user_id', aggfunc='mean')\n",
    "#filtered_data=more_than_250.pivot_table('rating',  index='title', columns='gender', aggfunc='mean')\n",
    "resultat_que_el_professor_dona=dades_dels_usuaris.sort_values(by='rating', ascending=False)\n",
    "resultat_que_el_professor_dona.head()\n"
   ]
  },
  {
   "cell_type": "code",
   "execution_count": null,
   "metadata": {},
   "outputs": [],
   "source": []
  },
  {
   "cell_type": "markdown",
   "metadata": {},
   "source": [
    "What is the highest rated movie in average?"
   ]
  },
  {
   "cell_type": "code",
   "execution_count": 63,
   "metadata": {
    "scrolled": true
   },
   "outputs": [
    {
     "data": {
      "text/html": [
       "<div>\n",
       "<style scoped>\n",
       "    .dataframe tbody tr th:only-of-type {\n",
       "        vertical-align: middle;\n",
       "    }\n",
       "\n",
       "    .dataframe tbody tr th {\n",
       "        vertical-align: top;\n",
       "    }\n",
       "\n",
       "    .dataframe thead th {\n",
       "        text-align: right;\n",
       "    }\n",
       "</style>\n",
       "<table border=\"1\" class=\"dataframe\">\n",
       "  <thead>\n",
       "    <tr style=\"text-align: right;\">\n",
       "      <th></th>\n",
       "      <th>rating</th>\n",
       "    </tr>\n",
       "    <tr>\n",
       "      <th>title</th>\n",
       "      <th></th>\n",
       "    </tr>\n",
       "  </thead>\n",
       "  <tbody>\n",
       "    <tr>\n",
       "      <td>Seven Samurai (The Magnificent Seven) (Shichinin no samurai) (1954)</td>\n",
       "      <td>4.56051</td>\n",
       "    </tr>\n",
       "  </tbody>\n",
       "</table>\n",
       "</div>"
      ],
      "text/plain": [
       "                                                     rating\n",
       "title                                                      \n",
       "Seven Samurai (The Magnificent Seven) (Shichini...  4.56051"
      ]
     },
     "execution_count": 63,
     "metadata": {},
     "output_type": "execute_result"
    }
   ],
   "source": [
    "dades_de_les_pelicules=more_than_250.pivot_table('rating', index='title', aggfunc='mean')\n",
    "#dades_de_les_pelicules.head()\n",
    "pelicula_mes_alta=dades_de_les_pelicules.sort_values(by='rating', ascending=False)\n",
    "pelicula_mes_alta.head(1)\n"
   ]
  },
  {
   "cell_type": "markdown",
   "metadata": {},
   "source": [
    "6- Define a function called  <b>top_movies</b> that given a user it returns what movies have the highest rank for this user."
   ]
  },
  {
   "cell_type": "code",
   "execution_count": 64,
   "metadata": {},
   "outputs": [
    {
     "data": {
      "text/html": [
       "<div>\n",
       "<style scoped>\n",
       "    .dataframe tbody tr th:only-of-type {\n",
       "        vertical-align: middle;\n",
       "    }\n",
       "\n",
       "    .dataframe tbody tr th {\n",
       "        vertical-align: top;\n",
       "    }\n",
       "\n",
       "    .dataframe thead th {\n",
       "        text-align: right;\n",
       "    }\n",
       "</style>\n",
       "<table border=\"1\" class=\"dataframe\">\n",
       "  <thead>\n",
       "    <tr style=\"text-align: right;\">\n",
       "      <th>title</th>\n",
       "      <th>$1,000,000 Duck (1971)</th>\n",
       "      <th>'Night Mother (1986)</th>\n",
       "      <th>'Til There Was You (1997)</th>\n",
       "      <th>'burbs, The (1989)</th>\n",
       "      <th>...And Justice for All (1979)</th>\n",
       "      <th>1-900 (1994)</th>\n",
       "      <th>10 Things I Hate About You (1999)</th>\n",
       "      <th>101 Dalmatians (1961)</th>\n",
       "      <th>101 Dalmatians (1996)</th>\n",
       "      <th>12 Angry Men (1957)</th>\n",
       "      <th>...</th>\n",
       "      <th>Young Poisoner's Handbook, The (1995)</th>\n",
       "      <th>Young Sherlock Holmes (1985)</th>\n",
       "      <th>Young and Innocent (1937)</th>\n",
       "      <th>Your Friends and Neighbors (1998)</th>\n",
       "      <th>Zachariah (1971)</th>\n",
       "      <th>Zed &amp; Two Noughts, A (1985)</th>\n",
       "      <th>Zero Effect (1998)</th>\n",
       "      <th>Zero Kelvin (Kj�rlighetens kj�tere) (1995)</th>\n",
       "      <th>Zeus and Roxanne (1997)</th>\n",
       "      <th>eXistenZ (1999)</th>\n",
       "    </tr>\n",
       "    <tr>\n",
       "      <th>user_id</th>\n",
       "      <th></th>\n",
       "      <th></th>\n",
       "      <th></th>\n",
       "      <th></th>\n",
       "      <th></th>\n",
       "      <th></th>\n",
       "      <th></th>\n",
       "      <th></th>\n",
       "      <th></th>\n",
       "      <th></th>\n",
       "      <th></th>\n",
       "      <th></th>\n",
       "      <th></th>\n",
       "      <th></th>\n",
       "      <th></th>\n",
       "      <th></th>\n",
       "      <th></th>\n",
       "      <th></th>\n",
       "      <th></th>\n",
       "      <th></th>\n",
       "      <th></th>\n",
       "    </tr>\n",
       "  </thead>\n",
       "  <tbody>\n",
       "    <tr>\n",
       "      <td>1</td>\n",
       "      <td>0.0</td>\n",
       "      <td>0.0</td>\n",
       "      <td>0.0</td>\n",
       "      <td>0.0</td>\n",
       "      <td>0.0</td>\n",
       "      <td>0.0</td>\n",
       "      <td>0.0</td>\n",
       "      <td>0.0</td>\n",
       "      <td>0.0</td>\n",
       "      <td>0.0</td>\n",
       "      <td>...</td>\n",
       "      <td>0.0</td>\n",
       "      <td>0.0</td>\n",
       "      <td>0.0</td>\n",
       "      <td>0.0</td>\n",
       "      <td>0.0</td>\n",
       "      <td>0.0</td>\n",
       "      <td>0.0</td>\n",
       "      <td>0.0</td>\n",
       "      <td>0.0</td>\n",
       "      <td>0.0</td>\n",
       "    </tr>\n",
       "    <tr>\n",
       "      <td>2</td>\n",
       "      <td>0.0</td>\n",
       "      <td>0.0</td>\n",
       "      <td>0.0</td>\n",
       "      <td>0.0</td>\n",
       "      <td>0.0</td>\n",
       "      <td>0.0</td>\n",
       "      <td>0.0</td>\n",
       "      <td>0.0</td>\n",
       "      <td>0.0</td>\n",
       "      <td>0.0</td>\n",
       "      <td>...</td>\n",
       "      <td>0.0</td>\n",
       "      <td>0.0</td>\n",
       "      <td>0.0</td>\n",
       "      <td>0.0</td>\n",
       "      <td>0.0</td>\n",
       "      <td>0.0</td>\n",
       "      <td>0.0</td>\n",
       "      <td>0.0</td>\n",
       "      <td>0.0</td>\n",
       "      <td>0.0</td>\n",
       "    </tr>\n",
       "    <tr>\n",
       "      <td>3</td>\n",
       "      <td>0.0</td>\n",
       "      <td>0.0</td>\n",
       "      <td>0.0</td>\n",
       "      <td>0.0</td>\n",
       "      <td>0.0</td>\n",
       "      <td>0.0</td>\n",
       "      <td>0.0</td>\n",
       "      <td>0.0</td>\n",
       "      <td>0.0</td>\n",
       "      <td>0.0</td>\n",
       "      <td>...</td>\n",
       "      <td>0.0</td>\n",
       "      <td>0.0</td>\n",
       "      <td>0.0</td>\n",
       "      <td>0.0</td>\n",
       "      <td>0.0</td>\n",
       "      <td>0.0</td>\n",
       "      <td>0.0</td>\n",
       "      <td>0.0</td>\n",
       "      <td>0.0</td>\n",
       "      <td>0.0</td>\n",
       "    </tr>\n",
       "    <tr>\n",
       "      <td>4</td>\n",
       "      <td>0.0</td>\n",
       "      <td>0.0</td>\n",
       "      <td>0.0</td>\n",
       "      <td>0.0</td>\n",
       "      <td>0.0</td>\n",
       "      <td>0.0</td>\n",
       "      <td>0.0</td>\n",
       "      <td>0.0</td>\n",
       "      <td>0.0</td>\n",
       "      <td>0.0</td>\n",
       "      <td>...</td>\n",
       "      <td>0.0</td>\n",
       "      <td>0.0</td>\n",
       "      <td>0.0</td>\n",
       "      <td>0.0</td>\n",
       "      <td>0.0</td>\n",
       "      <td>0.0</td>\n",
       "      <td>0.0</td>\n",
       "      <td>0.0</td>\n",
       "      <td>0.0</td>\n",
       "      <td>0.0</td>\n",
       "    </tr>\n",
       "    <tr>\n",
       "      <td>5</td>\n",
       "      <td>0.0</td>\n",
       "      <td>0.0</td>\n",
       "      <td>0.0</td>\n",
       "      <td>0.0</td>\n",
       "      <td>0.0</td>\n",
       "      <td>0.0</td>\n",
       "      <td>0.0</td>\n",
       "      <td>0.0</td>\n",
       "      <td>0.0</td>\n",
       "      <td>0.0</td>\n",
       "      <td>...</td>\n",
       "      <td>0.0</td>\n",
       "      <td>0.0</td>\n",
       "      <td>0.0</td>\n",
       "      <td>0.0</td>\n",
       "      <td>0.0</td>\n",
       "      <td>0.0</td>\n",
       "      <td>0.0</td>\n",
       "      <td>0.0</td>\n",
       "      <td>0.0</td>\n",
       "      <td>0.0</td>\n",
       "    </tr>\n",
       "  </tbody>\n",
       "</table>\n",
       "<p>5 rows × 3706 columns</p>\n",
       "</div>"
      ],
      "text/plain": [
       "title    $1,000,000 Duck (1971)  'Night Mother (1986)  \\\n",
       "user_id                                                 \n",
       "1                           0.0                   0.0   \n",
       "2                           0.0                   0.0   \n",
       "3                           0.0                   0.0   \n",
       "4                           0.0                   0.0   \n",
       "5                           0.0                   0.0   \n",
       "\n",
       "title    'Til There Was You (1997)  'burbs, The (1989)  \\\n",
       "user_id                                                  \n",
       "1                              0.0                 0.0   \n",
       "2                              0.0                 0.0   \n",
       "3                              0.0                 0.0   \n",
       "4                              0.0                 0.0   \n",
       "5                              0.0                 0.0   \n",
       "\n",
       "title    ...And Justice for All (1979)  1-900 (1994)  \\\n",
       "user_id                                                \n",
       "1                                  0.0           0.0   \n",
       "2                                  0.0           0.0   \n",
       "3                                  0.0           0.0   \n",
       "4                                  0.0           0.0   \n",
       "5                                  0.0           0.0   \n",
       "\n",
       "title    10 Things I Hate About You (1999)  101 Dalmatians (1961)  \\\n",
       "user_id                                                             \n",
       "1                                      0.0                    0.0   \n",
       "2                                      0.0                    0.0   \n",
       "3                                      0.0                    0.0   \n",
       "4                                      0.0                    0.0   \n",
       "5                                      0.0                    0.0   \n",
       "\n",
       "title    101 Dalmatians (1996)  12 Angry Men (1957)  ...  \\\n",
       "user_id                                              ...   \n",
       "1                          0.0                  0.0  ...   \n",
       "2                          0.0                  0.0  ...   \n",
       "3                          0.0                  0.0  ...   \n",
       "4                          0.0                  0.0  ...   \n",
       "5                          0.0                  0.0  ...   \n",
       "\n",
       "title    Young Poisoner's Handbook, The (1995)  Young Sherlock Holmes (1985)  \\\n",
       "user_id                                                                        \n",
       "1                                          0.0                           0.0   \n",
       "2                                          0.0                           0.0   \n",
       "3                                          0.0                           0.0   \n",
       "4                                          0.0                           0.0   \n",
       "5                                          0.0                           0.0   \n",
       "\n",
       "title    Young and Innocent (1937)  Your Friends and Neighbors (1998)  \\\n",
       "user_id                                                                 \n",
       "1                              0.0                                0.0   \n",
       "2                              0.0                                0.0   \n",
       "3                              0.0                                0.0   \n",
       "4                              0.0                                0.0   \n",
       "5                              0.0                                0.0   \n",
       "\n",
       "title    Zachariah (1971)  Zed & Two Noughts, A (1985)  Zero Effect (1998)  \\\n",
       "user_id                                                                      \n",
       "1                     0.0                          0.0                 0.0   \n",
       "2                     0.0                          0.0                 0.0   \n",
       "3                     0.0                          0.0                 0.0   \n",
       "4                     0.0                          0.0                 0.0   \n",
       "5                     0.0                          0.0                 0.0   \n",
       "\n",
       "title    Zero Kelvin (Kj�rlighetens kj�tere) (1995)  Zeus and Roxanne (1997)  \\\n",
       "user_id                                                                        \n",
       "1                                               0.0                      0.0   \n",
       "2                                               0.0                      0.0   \n",
       "3                                               0.0                      0.0   \n",
       "4                                               0.0                      0.0   \n",
       "5                                               0.0                      0.0   \n",
       "\n",
       "title    eXistenZ (1999)  \n",
       "user_id                   \n",
       "1                    0.0  \n",
       "2                    0.0  \n",
       "3                    0.0  \n",
       "4                    0.0  \n",
       "5                    0.0  \n",
       "\n",
       "[5 rows x 3706 columns]"
      ]
     },
     "execution_count": 64,
     "metadata": {},
     "output_type": "execute_result"
    }
   ],
   "source": [
    "dades_per_usuaris=data.pivot_table('rating',  index='user_id', columns='title')\n",
    "dades_per_usuaris_arreglat=dades_per_usuaris.fillna(0)\n",
    "dades_per_usuaris_arreglat.head()\n",
    "#data_by_user_transposed=filtered_data.transpose\n"
   ]
  },
  {
   "cell_type": "code",
   "execution_count": 65,
   "metadata": {},
   "outputs": [],
   "source": [
    "def top_movies (user):\n",
    "    pelis_preferides=dades_per_usuaris_arreglat.loc[user]\n",
    "    cosa_a_returnar=pelis_preferides[pelis_preferides>=5]\n",
    "    if cosa_a_returnar.empty:\n",
    "        cosa_a_returnar=pelis_preferides[pelis_preferides>=4]\n",
    "        if cosa_a_returnar.empty:\n",
    "            cosa_a_returnar=pelis_preferides[pelis_preferides>=3]\n",
    "            if cosa_a_returnar.empty:\n",
    "                cosa_a_returnar=pelis_preferides[pelis_preferides>=2]\n",
    "                if cosa_a_returnar.empty:\n",
    "                    cosa_a_returnar=pelis_preferides[pelis_preferides>=1]\n",
    "    return cosa_a_returnar\n",
    "    \n"
   ]
  },
  {
   "cell_type": "code",
   "execution_count": 66,
   "metadata": {},
   "outputs": [
    {
     "data": {
      "text/plain": [
       "title\n",
       "Anastasia (1997)                                                     5.0\n",
       "Dirty Dancing (1987)                                                 5.0\n",
       "Erin Brockovich (2000)                                               5.0\n",
       "Grease (1978)                                                        5.0\n",
       "Gypsy (1962)                                                         5.0\n",
       "Jeremiah Johnson (1972)                                              5.0\n",
       "Keeping the Faith (2000)                                             5.0\n",
       "Murphy's Romance (1985)                                              5.0\n",
       "My Fair Lady (1964)                                                  5.0\n",
       "Patriot, The (2000)                                                  5.0\n",
       "Pocahontas (1995)                                                    5.0\n",
       "Pretty Woman (1990)                                                  5.0\n",
       "Romancing the Stone (1984)                                           5.0\n",
       "Sound of Music, The (1965)                                           5.0\n",
       "Straight Story, The (1999)                                           5.0\n",
       "Umbrellas of Cherbourg, The (Parapluies de Cherbourg, Les) (1964)    5.0\n",
       "West Side Story (1961)                                               5.0\n",
       "Name: 6, dtype: float64"
      ]
     },
     "execution_count": 66,
     "metadata": {},
     "output_type": "execute_result"
    }
   ],
   "source": [
    "top_movies(6)\n"
   ]
  },
  {
   "cell_type": "code",
   "execution_count": 67,
   "metadata": {},
   "outputs": [],
   "source": [
    "### Your Code HERE\n",
    "#we input an string and me have to lookin the dataframe to return name of the film + rating \n",
    "#Seven Samurai (The Magnificent Seven) (Shichinin no samurai) (1954),4.560509554140127"
   ]
  },
  {
   "cell_type": "markdown",
   "metadata": {},
   "source": [
    "** Data from CSV**"
   ]
  },
  {
   "cell_type": "markdown",
   "metadata": {},
   "source": [
    "8- Read data from csv file: `ma-ba.csv`. Count the number of times `Barça` wins `Madrid` and compute the stadistics of % win, % lose and % draw."
   ]
  },
  {
   "cell_type": "code",
   "execution_count": 69,
   "metadata": {},
   "outputs": [
    {
     "data": {
      "text/html": [
       "<div>\n",
       "<style scoped>\n",
       "    .dataframe tbody tr th:only-of-type {\n",
       "        vertical-align: middle;\n",
       "    }\n",
       "\n",
       "    .dataframe tbody tr th {\n",
       "        vertical-align: top;\n",
       "    }\n",
       "\n",
       "    .dataframe thead th {\n",
       "        text-align: right;\n",
       "    }\n",
       "</style>\n",
       "<table border=\"1\" class=\"dataframe\">\n",
       "  <thead>\n",
       "    <tr style=\"text-align: right;\">\n",
       "      <th></th>\n",
       "      <th>N°</th>\n",
       "      <th>Fecha</th>\n",
       "      <th>(Lugar)</th>\n",
       "      <th>Partidos</th>\n",
       "      <th>resultado</th>\n",
       "      <th>Competición</th>\n",
       "      <th>equip_local</th>\n",
       "      <th>equip_visitant</th>\n",
       "      <th>gols_local</th>\n",
       "      <th>gols_visitant</th>\n",
       "    </tr>\n",
       "  </thead>\n",
       "  <tbody>\n",
       "    <tr>\n",
       "      <td>230</td>\n",
       "      <td>231</td>\n",
       "      <td>19-11-2005</td>\n",
       "      <td>(Madrid)</td>\n",
       "      <td>R. Madrid - Barcelona</td>\n",
       "      <td>0-3</td>\n",
       "      <td>Cto. de Liga-1ªv.</td>\n",
       "      <td>R. Madrid</td>\n",
       "      <td>Barcelona</td>\n",
       "      <td>0</td>\n",
       "      <td>3</td>\n",
       "    </tr>\n",
       "    <tr>\n",
       "      <td>231</td>\n",
       "      <td>232</td>\n",
       "      <td>01-04-2006</td>\n",
       "      <td>(Barcelona)</td>\n",
       "      <td>Barcelona - R. Madrid</td>\n",
       "      <td>1-1</td>\n",
       "      <td>Cto. de Liga-2ªv.</td>\n",
       "      <td>Barcelona</td>\n",
       "      <td>R. Madrid</td>\n",
       "      <td>1</td>\n",
       "      <td>1</td>\n",
       "    </tr>\n",
       "    <tr>\n",
       "      <td>232</td>\n",
       "      <td>233</td>\n",
       "      <td>22-10-2006</td>\n",
       "      <td>(Madrid)</td>\n",
       "      <td>R. Madrid - Barcelona</td>\n",
       "      <td>2-0</td>\n",
       "      <td>Cto. de Liga-1ªv.</td>\n",
       "      <td>R. Madrid</td>\n",
       "      <td>Barcelona</td>\n",
       "      <td>2</td>\n",
       "      <td>0</td>\n",
       "    </tr>\n",
       "    <tr>\n",
       "      <td>233</td>\n",
       "      <td>234</td>\n",
       "      <td>11-03-2007</td>\n",
       "      <td>(Barcelona)</td>\n",
       "      <td>Barcelona - R. Madrid</td>\n",
       "      <td>3-3</td>\n",
       "      <td>Cto. de Liga-2ªv.</td>\n",
       "      <td>Barcelona</td>\n",
       "      <td>R. Madrid</td>\n",
       "      <td>3</td>\n",
       "      <td>3</td>\n",
       "    </tr>\n",
       "    <tr>\n",
       "      <td>234</td>\n",
       "      <td>235</td>\n",
       "      <td>23-12-2007</td>\n",
       "      <td>(Barcelona)</td>\n",
       "      <td>Barcelona - R. Madrid</td>\n",
       "      <td>0-1</td>\n",
       "      <td>Cto. de Liga-1ªv.</td>\n",
       "      <td>Barcelona</td>\n",
       "      <td>R. Madrid</td>\n",
       "      <td>0</td>\n",
       "      <td>1</td>\n",
       "    </tr>\n",
       "    <tr>\n",
       "      <td>235</td>\n",
       "      <td>236</td>\n",
       "      <td>07-05-2008</td>\n",
       "      <td>(Madrid)</td>\n",
       "      <td>R. Madrid - Barcelona</td>\n",
       "      <td>4-1</td>\n",
       "      <td>Cto. de Liga-2ªv.</td>\n",
       "      <td>R. Madrid</td>\n",
       "      <td>Barcelona</td>\n",
       "      <td>4</td>\n",
       "      <td>1</td>\n",
       "    </tr>\n",
       "    <tr>\n",
       "      <td>236</td>\n",
       "      <td>237</td>\n",
       "      <td>13-12-2008</td>\n",
       "      <td>(Barcelona)</td>\n",
       "      <td>Barcelona - R. Madrid</td>\n",
       "      <td>2-0</td>\n",
       "      <td>Cto. de Liga-1ªv.</td>\n",
       "      <td>Barcelona</td>\n",
       "      <td>R. Madrid</td>\n",
       "      <td>2</td>\n",
       "      <td>0</td>\n",
       "    </tr>\n",
       "    <tr>\n",
       "      <td>237</td>\n",
       "      <td>238</td>\n",
       "      <td>02-05-2009</td>\n",
       "      <td>(Madrid)</td>\n",
       "      <td>R. Madrid - Barcelona</td>\n",
       "      <td>2-6</td>\n",
       "      <td>Cto. de Liga-2ªv.</td>\n",
       "      <td>R. Madrid</td>\n",
       "      <td>Barcelona</td>\n",
       "      <td>2</td>\n",
       "      <td>6</td>\n",
       "    </tr>\n",
       "    <tr>\n",
       "      <td>238</td>\n",
       "      <td>239</td>\n",
       "      <td>29-11-2009</td>\n",
       "      <td>(Barcelona)</td>\n",
       "      <td>Barcelona - R. Madrid</td>\n",
       "      <td>1-0</td>\n",
       "      <td>Cto. de Liga-1ªv.</td>\n",
       "      <td>Barcelona</td>\n",
       "      <td>R. Madrid</td>\n",
       "      <td>1</td>\n",
       "      <td>0</td>\n",
       "    </tr>\n",
       "    <tr>\n",
       "      <td>239</td>\n",
       "      <td>240</td>\n",
       "      <td>10-04-2010</td>\n",
       "      <td>(Madrid)</td>\n",
       "      <td>R. Madrid - Barcelona</td>\n",
       "      <td>0-2</td>\n",
       "      <td>Cto. de Liga-2ªv</td>\n",
       "      <td>R. Madrid</td>\n",
       "      <td>Barcelona</td>\n",
       "      <td>0</td>\n",
       "      <td>2</td>\n",
       "    </tr>\n",
       "    <tr>\n",
       "      <td>240</td>\n",
       "      <td>241</td>\n",
       "      <td>29-11-2010</td>\n",
       "      <td>(Barcelona)</td>\n",
       "      <td>Barcelona - R. Madrid</td>\n",
       "      <td>5-0</td>\n",
       "      <td>Cto. de Liga-1ªv.</td>\n",
       "      <td>Barcelona</td>\n",
       "      <td>R. Madrid</td>\n",
       "      <td>5</td>\n",
       "      <td>0</td>\n",
       "    </tr>\n",
       "    <tr>\n",
       "      <td>241</td>\n",
       "      <td>242</td>\n",
       "      <td>16-04-2011</td>\n",
       "      <td>(Madrid)</td>\n",
       "      <td>R.Madrid  - Barcelona</td>\n",
       "      <td>1-1</td>\n",
       "      <td>Cto. de Liga-2ªv.</td>\n",
       "      <td>R.Madrid</td>\n",
       "      <td>Barcelona</td>\n",
       "      <td>1</td>\n",
       "      <td>1</td>\n",
       "    </tr>\n",
       "    <tr>\n",
       "      <td>242</td>\n",
       "      <td>243</td>\n",
       "      <td>20-04-2011</td>\n",
       "      <td>(Valencia)</td>\n",
       "      <td>R.Madrid  - Barcelona</td>\n",
       "      <td>1-0</td>\n",
       "      <td>Final Copa del Rey</td>\n",
       "      <td>R.Madrid</td>\n",
       "      <td>Barcelona</td>\n",
       "      <td>1</td>\n",
       "      <td>0</td>\n",
       "    </tr>\n",
       "    <tr>\n",
       "      <td>243</td>\n",
       "      <td>244</td>\n",
       "      <td>27-04-2011</td>\n",
       "      <td>(Madrid)</td>\n",
       "      <td>R. Madrid - Barcelona</td>\n",
       "      <td>0-2</td>\n",
       "      <td>Semifi.Champio.ida</td>\n",
       "      <td>R. Madrid</td>\n",
       "      <td>Barcelona</td>\n",
       "      <td>0</td>\n",
       "      <td>2</td>\n",
       "    </tr>\n",
       "    <tr>\n",
       "      <td>244</td>\n",
       "      <td>245</td>\n",
       "      <td>03-05-2011</td>\n",
       "      <td>(Barcelona)</td>\n",
       "      <td>Barcelona - R. Madrid</td>\n",
       "      <td>1-1</td>\n",
       "      <td>Semifi.Champio.Vue.</td>\n",
       "      <td>Barcelona</td>\n",
       "      <td>R. Madrid</td>\n",
       "      <td>1</td>\n",
       "      <td>1</td>\n",
       "    </tr>\n",
       "    <tr>\n",
       "      <td>245</td>\n",
       "      <td>246</td>\n",
       "      <td>14-08-2011</td>\n",
       "      <td>(Madrid)</td>\n",
       "      <td>R. Madrid - Barcelona</td>\n",
       "      <td>2-2</td>\n",
       "      <td>S.Copa España.ida</td>\n",
       "      <td>R. Madrid</td>\n",
       "      <td>Barcelona</td>\n",
       "      <td>2</td>\n",
       "      <td>2</td>\n",
       "    </tr>\n",
       "    <tr>\n",
       "      <td>246</td>\n",
       "      <td>247</td>\n",
       "      <td>17-08-2011</td>\n",
       "      <td>(Barcelona)</td>\n",
       "      <td>Barcelona - R. Madrid</td>\n",
       "      <td>3-2</td>\n",
       "      <td>S.Copa España.Vue.</td>\n",
       "      <td>Barcelona</td>\n",
       "      <td>R. Madrid</td>\n",
       "      <td>3</td>\n",
       "      <td>2</td>\n",
       "    </tr>\n",
       "    <tr>\n",
       "      <td>247</td>\n",
       "      <td>248</td>\n",
       "      <td>10-12-2011</td>\n",
       "      <td>(Madrid)</td>\n",
       "      <td>R. Madrid - Barcelona</td>\n",
       "      <td>1-3</td>\n",
       "      <td>Cto. de Liga(1ªv.</td>\n",
       "      <td>R. Madrid</td>\n",
       "      <td>Barcelona</td>\n",
       "      <td>1</td>\n",
       "      <td>3</td>\n",
       "    </tr>\n",
       "    <tr>\n",
       "      <td>248</td>\n",
       "      <td>249</td>\n",
       "      <td>18-01-2012</td>\n",
       "      <td>(Madrid)</td>\n",
       "      <td>R. Madrid - Barcelona</td>\n",
       "      <td>1-2</td>\n",
       "      <td>Copa Rey 4ºf.ida</td>\n",
       "      <td>R. Madrid</td>\n",
       "      <td>Barcelona</td>\n",
       "      <td>1</td>\n",
       "      <td>2</td>\n",
       "    </tr>\n",
       "    <tr>\n",
       "      <td>249</td>\n",
       "      <td>250</td>\n",
       "      <td>25-01-2012</td>\n",
       "      <td>(Barcelona)</td>\n",
       "      <td>Barcelona - R. Madrid</td>\n",
       "      <td>2-2</td>\n",
       "      <td>Copa Rey 4ºf.Vue.</td>\n",
       "      <td>Barcelona</td>\n",
       "      <td>R. Madrid</td>\n",
       "      <td>2</td>\n",
       "      <td>2</td>\n",
       "    </tr>\n",
       "    <tr>\n",
       "      <td>250</td>\n",
       "      <td>251</td>\n",
       "      <td>21-04-2012</td>\n",
       "      <td>(Barcelona)</td>\n",
       "      <td>Barcelona - R. Madrid</td>\n",
       "      <td>1-2</td>\n",
       "      <td>Cto. de Liga 2ªv.</td>\n",
       "      <td>Barcelona</td>\n",
       "      <td>R. Madrid</td>\n",
       "      <td>1</td>\n",
       "      <td>2</td>\n",
       "    </tr>\n",
       "    <tr>\n",
       "      <td>251</td>\n",
       "      <td>252</td>\n",
       "      <td>23-08-2012</td>\n",
       "      <td>(Barcelona)</td>\n",
       "      <td>Barcelona - R.Madrid</td>\n",
       "      <td>3-2</td>\n",
       "      <td>S.Copa España Ida</td>\n",
       "      <td>Barcelona</td>\n",
       "      <td>R.Madrid</td>\n",
       "      <td>3</td>\n",
       "      <td>2</td>\n",
       "    </tr>\n",
       "    <tr>\n",
       "      <td>252</td>\n",
       "      <td>253</td>\n",
       "      <td>23-08-2012</td>\n",
       "      <td>(Madrid)</td>\n",
       "      <td>R.Madrid  - Barcelona</td>\n",
       "      <td>2-1</td>\n",
       "      <td>S.Copa España Vu.</td>\n",
       "      <td>R.Madrid</td>\n",
       "      <td>Barcelona</td>\n",
       "      <td>2</td>\n",
       "      <td>1</td>\n",
       "    </tr>\n",
       "    <tr>\n",
       "      <td>253</td>\n",
       "      <td>254</td>\n",
       "      <td>07-10-2012</td>\n",
       "      <td>(Barcelona)</td>\n",
       "      <td>Barcelona - R.Madrid</td>\n",
       "      <td>2-2</td>\n",
       "      <td>Cto. de Liga-1ªV.</td>\n",
       "      <td>Barcelona</td>\n",
       "      <td>R.Madrid</td>\n",
       "      <td>2</td>\n",
       "      <td>2</td>\n",
       "    </tr>\n",
       "    <tr>\n",
       "      <td>254</td>\n",
       "      <td>255</td>\n",
       "      <td>30-01-2013</td>\n",
       "      <td>(Madrid)</td>\n",
       "      <td>R.Madrid  - Barcelona</td>\n",
       "      <td>1-1</td>\n",
       "      <td>Copa Rey Semi.ida</td>\n",
       "      <td>R.Madrid</td>\n",
       "      <td>Barcelona</td>\n",
       "      <td>1</td>\n",
       "      <td>1</td>\n",
       "    </tr>\n",
       "    <tr>\n",
       "      <td>255</td>\n",
       "      <td>256</td>\n",
       "      <td>26-02-2013</td>\n",
       "      <td>(Barcelona)</td>\n",
       "      <td>Barcelona - R. Madrid</td>\n",
       "      <td>1-3</td>\n",
       "      <td>Copa Rey Semi.Vue.</td>\n",
       "      <td>Barcelona</td>\n",
       "      <td>R. Madrid</td>\n",
       "      <td>1</td>\n",
       "      <td>3</td>\n",
       "    </tr>\n",
       "    <tr>\n",
       "      <td>256</td>\n",
       "      <td>257</td>\n",
       "      <td>02-03-2013</td>\n",
       "      <td>(Madrid)</td>\n",
       "      <td>R.Madrid  - Barcelona</td>\n",
       "      <td>2-1</td>\n",
       "      <td>Cto. de Liga-2ªv.</td>\n",
       "      <td>R.Madrid</td>\n",
       "      <td>Barcelona</td>\n",
       "      <td>2</td>\n",
       "      <td>1</td>\n",
       "    </tr>\n",
       "    <tr>\n",
       "      <td>257</td>\n",
       "      <td>258</td>\n",
       "      <td>26-10-2013</td>\n",
       "      <td>(Barcelona)</td>\n",
       "      <td>Barcelona - R. Madrid</td>\n",
       "      <td>2-1</td>\n",
       "      <td>Cto. de Liga-1ªv.</td>\n",
       "      <td>Barcelona</td>\n",
       "      <td>R. Madrid</td>\n",
       "      <td>2</td>\n",
       "      <td>1</td>\n",
       "    </tr>\n",
       "    <tr>\n",
       "      <td>258</td>\n",
       "      <td>259</td>\n",
       "      <td>23-03-2014</td>\n",
       "      <td>(Madrid)</td>\n",
       "      <td>R.Madrid  - Barcelona</td>\n",
       "      <td>3-4</td>\n",
       "      <td>Cto. de Liga-2!v.</td>\n",
       "      <td>R.Madrid</td>\n",
       "      <td>Barcelona</td>\n",
       "      <td>3</td>\n",
       "      <td>4</td>\n",
       "    </tr>\n",
       "    <tr>\n",
       "      <td>259</td>\n",
       "      <td>260</td>\n",
       "      <td>16-04-2014</td>\n",
       "      <td>(Valencia )</td>\n",
       "      <td>Barcelona - R. Madrid</td>\n",
       "      <td>1-2</td>\n",
       "      <td>Final Copa del Rey</td>\n",
       "      <td>Barcelona</td>\n",
       "      <td>R. Madrid</td>\n",
       "      <td>1</td>\n",
       "      <td>2</td>\n",
       "    </tr>\n",
       "  </tbody>\n",
       "</table>\n",
       "</div>"
      ],
      "text/plain": [
       "       N°       Fecha        (Lugar)               Partidos       resultado  \\\n",
       "230   231  19-11-2005    (Madrid)     R. Madrid - Barcelona             0-3   \n",
       "231   232  01-04-2006    (Barcelona)  Barcelona - R. Madrid             1-1   \n",
       "232   233  22-10-2006    (Madrid)     R. Madrid - Barcelona             2-0   \n",
       "233   234  11-03-2007    (Barcelona)  Barcelona - R. Madrid             3-3   \n",
       "234   235  23-12-2007    (Barcelona)  Barcelona - R. Madrid             0-1   \n",
       "235   236  07-05-2008    (Madrid)     R. Madrid - Barcelona             4-1   \n",
       "236   237  13-12-2008    (Barcelona)  Barcelona - R. Madrid             2-0   \n",
       "237   238  02-05-2009    (Madrid)     R. Madrid - Barcelona             2-6   \n",
       "238   239  29-11-2009    (Barcelona)  Barcelona - R. Madrid             1-0   \n",
       "239   240  10-04-2010    (Madrid)     R. Madrid - Barcelona             0-2   \n",
       "240   241  29-11-2010    (Barcelona)  Barcelona - R. Madrid             5-0   \n",
       "241   242  16-04-2011    (Madrid)     R.Madrid  - Barcelona             1-1   \n",
       "242   243  20-04-2011    (Valencia)   R.Madrid  - Barcelona             1-0   \n",
       "243   244  27-04-2011    (Madrid)     R. Madrid - Barcelona             0-2   \n",
       "244   245  03-05-2011    (Barcelona)  Barcelona - R. Madrid             1-1   \n",
       "245   246  14-08-2011    (Madrid)     R. Madrid - Barcelona             2-2   \n",
       "246   247  17-08-2011    (Barcelona)  Barcelona - R. Madrid             3-2   \n",
       "247   248  10-12-2011    (Madrid)     R. Madrid - Barcelona             1-3   \n",
       "248   249  18-01-2012    (Madrid)     R. Madrid - Barcelona             1-2   \n",
       "249   250  25-01-2012    (Barcelona)  Barcelona - R. Madrid             2-2   \n",
       "250   251  21-04-2012    (Barcelona)  Barcelona - R. Madrid             1-2   \n",
       "251   252  23-08-2012    (Barcelona)  Barcelona - R.Madrid              3-2   \n",
       "252   253  23-08-2012    (Madrid)     R.Madrid  - Barcelona             2-1   \n",
       "253   254  07-10-2012    (Barcelona)  Barcelona - R.Madrid              2-2   \n",
       "254   255  30-01-2013    (Madrid)     R.Madrid  - Barcelona             1-1   \n",
       "255   256  26-02-2013    (Barcelona)  Barcelona - R. Madrid             1-3   \n",
       "256   257  02-03-2013    (Madrid)     R.Madrid  - Barcelona             2-1   \n",
       "257   258  26-10-2013    (Barcelona)  Barcelona - R. Madrid             2-1   \n",
       "258   259  23-03-2014    (Madrid)     R.Madrid  - Barcelona             3-4   \n",
       "259   260  16-04-2014    (Valencia )  Barcelona - R. Madrid             1-2   \n",
       "\n",
       "             Competición equip_local equip_visitant gols_local gols_visitant  \n",
       "230    Cto. de Liga-1ªv.  R. Madrid       Barcelona          0             3  \n",
       "231   Cto. de Liga-2ªv.   Barcelona       R. Madrid          1             1  \n",
       "232    Cto. de Liga-1ªv.  R. Madrid       Barcelona          2             0  \n",
       "233    Cto. de Liga-2ªv.  Barcelona       R. Madrid          3             3  \n",
       "234    Cto. de Liga-1ªv.  Barcelona       R. Madrid          0             1  \n",
       "235    Cto. de Liga-2ªv.  R. Madrid       Barcelona          4             1  \n",
       "236    Cto. de Liga-1ªv.  Barcelona       R. Madrid          2             0  \n",
       "237    Cto. de Liga-2ªv.  R. Madrid       Barcelona          2             6  \n",
       "238    Cto. de Liga-1ªv.  Barcelona       R. Madrid          1             0  \n",
       "239     Cto. de Liga-2ªv  R. Madrid       Barcelona          0             2  \n",
       "240    Cto. de Liga-1ªv.  Barcelona       R. Madrid          5             0  \n",
       "241   Cto. de Liga-2ªv.   R.Madrid        Barcelona          1             1  \n",
       "242   Final Copa del Rey  R.Madrid        Barcelona          1             0  \n",
       "243   Semifi.Champio.ida  R. Madrid       Barcelona          0             2  \n",
       "244  Semifi.Champio.Vue.  Barcelona       R. Madrid          1             1  \n",
       "245    S.Copa España.ida  R. Madrid       Barcelona          2             2  \n",
       "246   S.Copa España.Vue.  Barcelona       R. Madrid          3             2  \n",
       "247    Cto. de Liga(1ªv.  R. Madrid       Barcelona          1             3  \n",
       "248     Copa Rey 4ºf.ida  R. Madrid       Barcelona          1             2  \n",
       "249    Copa Rey 4ºf.Vue.  Barcelona       R. Madrid          2             2  \n",
       "250    Cto. de Liga 2ªv.  Barcelona       R. Madrid          1             2  \n",
       "251    S.Copa España Ida  Barcelona       R.Madrid           3             2  \n",
       "252    S.Copa España Vu.  R.Madrid        Barcelona          2             1  \n",
       "253    Cto. de Liga-1ªV.  Barcelona       R.Madrid           2             2  \n",
       "254    Copa Rey Semi.ida  R.Madrid        Barcelona          1             1  \n",
       "255   Copa Rey Semi.Vue.  Barcelona       R. Madrid          1             3  \n",
       "256    Cto. de Liga-2ªv.  R.Madrid        Barcelona          2             1  \n",
       "257    Cto. de Liga-1ªv.  Barcelona       R. Madrid          2             1  \n",
       "258    Cto. de Liga-2!v.  R.Madrid        Barcelona          3             4  \n",
       "259   Final Copa del Rey  Barcelona       R. Madrid          1             2  "
      ]
     },
     "execution_count": 69,
     "metadata": {},
     "output_type": "execute_result"
    }
   ],
   "source": [
    "classics=pd.read_csv('ma-ba.csv',encoding=\"latin-1\", engine='python')\n",
    "#fem servir funció split\n",
    "classics['equip_local'], classics['equip_visitant']=classics[classics.columns[3]].str.split('-').str\n",
    "classics['gols_local'], classics['gols_visitant']=classics[classics.columns[4]].str.split('-').str\n",
    "classics.tail(30)\n"
   ]
  },
  {
   "cell_type": "code",
   "execution_count": 70,
   "metadata": {},
   "outputs": [
    {
     "data": {
      "text/plain": [
       "array([' Barcelona', ' Madrid FC', ' R. Madrid', ' R.Madrid '],\n",
       "      dtype=object)"
      ]
     },
     "execution_count": 70,
     "metadata": {},
     "output_type": "execute_result"
    }
   ],
   "source": [
    "classics[\"equip_visitant\"].unique()"
   ]
  },
  {
   "cell_type": "code",
   "execution_count": 71,
   "metadata": {
    "scrolled": true
   },
   "outputs": [
    {
     "name": "stdout",
     "output_type": "stream",
     "text": [
      "R.Madrid   R. Madrid  Madrid FC \n"
     ]
    },
    {
     "data": {
      "text/plain": [
       "0      False\n",
       "1       True\n",
       "2       True\n",
       "3       True\n",
       "4      False\n",
       "       ...  \n",
       "255     True\n",
       "256    False\n",
       "257     True\n",
       "258    False\n",
       "259     True\n",
       "Name: equip_local, Length: 260, dtype: bool"
      ]
     },
     "execution_count": 71,
     "metadata": {},
     "output_type": "execute_result"
    }
   ],
   "source": [
    "#mirem els cops que s'ha jugat barça-madrid i madrid-barca\n",
    "MadridFC=classics['equip_local'][0]\n",
    "R_Madrid=classics['equip_local'][18]\n",
    "RMadrid=classics['equip_local'][241]\n",
    "print(RMadrid,R_Madrid,MadridFC)\n",
    "madrid_barca=(classics['equip_local']==MadridFC) | (classics['equip_local']==RMadrid) | (classics['equip_local']==R_Madrid)\n",
    "#madrid_barca, variable booleana amb els partits madrid-barca\n",
    "#barca_madrid variable booleana amb els partits barca-madrid\n",
    "barca_madrid=(classics['equip_local']!=MadridFC) & (classics['equip_local']!=RMadrid) & (classics['equip_local']!=R_Madrid)\n",
    "#confirmo que son antagonics\n",
    "barca_madrid"
   ]
  },
  {
   "cell_type": "code",
   "execution_count": 72,
   "metadata": {},
   "outputs": [
    {
     "data": {
      "text/html": [
       "<div>\n",
       "<style scoped>\n",
       "    .dataframe tbody tr th:only-of-type {\n",
       "        vertical-align: middle;\n",
       "    }\n",
       "\n",
       "    .dataframe tbody tr th {\n",
       "        vertical-align: top;\n",
       "    }\n",
       "\n",
       "    .dataframe thead th {\n",
       "        text-align: right;\n",
       "    }\n",
       "</style>\n",
       "<table border=\"1\" class=\"dataframe\">\n",
       "  <thead>\n",
       "    <tr style=\"text-align: right;\">\n",
       "      <th></th>\n",
       "      <th>N°</th>\n",
       "      <th>Fecha</th>\n",
       "      <th>(Lugar)</th>\n",
       "      <th>Partidos</th>\n",
       "      <th>resultado</th>\n",
       "      <th>Competición</th>\n",
       "      <th>equip_local</th>\n",
       "      <th>equip_visitant</th>\n",
       "      <th>gols_local</th>\n",
       "      <th>gols_visitant</th>\n",
       "    </tr>\n",
       "  </thead>\n",
       "  <tbody>\n",
       "    <tr>\n",
       "      <td>0</td>\n",
       "      <td>1</td>\n",
       "      <td>13-05-1902</td>\n",
       "      <td>(Madrid)</td>\n",
       "      <td>Madrid FC - Barcelona</td>\n",
       "      <td>1-3</td>\n",
       "      <td>Copa del Rey (1/2)</td>\n",
       "      <td>Madrid FC</td>\n",
       "      <td>Barcelona</td>\n",
       "      <td>1</td>\n",
       "      <td>3</td>\n",
       "    </tr>\n",
       "    <tr>\n",
       "      <td>4</td>\n",
       "      <td>5</td>\n",
       "      <td>06-01-1914</td>\n",
       "      <td>(Madrid)</td>\n",
       "      <td>Madrid FC - Barcelona</td>\n",
       "      <td>2-2</td>\n",
       "      <td>Partido amistoso</td>\n",
       "      <td>Madrid FC</td>\n",
       "      <td>Barcelona</td>\n",
       "      <td>2</td>\n",
       "      <td>2</td>\n",
       "    </tr>\n",
       "    <tr>\n",
       "      <td>5</td>\n",
       "      <td>6</td>\n",
       "      <td>10-01-1914</td>\n",
       "      <td>(Madrid)</td>\n",
       "      <td>Madrid FC - Barcelona</td>\n",
       "      <td>0-2</td>\n",
       "      <td>Partido amistoso</td>\n",
       "      <td>Madrid FC</td>\n",
       "      <td>Barcelona</td>\n",
       "      <td>0</td>\n",
       "      <td>2</td>\n",
       "    </tr>\n",
       "    <tr>\n",
       "      <td>8</td>\n",
       "      <td>9</td>\n",
       "      <td>02-04-1916</td>\n",
       "      <td>(Madrid)</td>\n",
       "      <td>Madrid FC - Barcelona</td>\n",
       "      <td>4-1</td>\n",
       "      <td>Copa del Rey (1/2)</td>\n",
       "      <td>Madrid FC</td>\n",
       "      <td>Barcelona</td>\n",
       "      <td>4</td>\n",
       "      <td>1</td>\n",
       "    </tr>\n",
       "    <tr>\n",
       "      <td>9</td>\n",
       "      <td>10</td>\n",
       "      <td>13-04-1916</td>\n",
       "      <td>(Madrid)</td>\n",
       "      <td>Madrid FC - Barcelona</td>\n",
       "      <td>6-6</td>\n",
       "      <td>Copa del Rey (1/2)</td>\n",
       "      <td>Madrid FC</td>\n",
       "      <td>Barcelona</td>\n",
       "      <td>6</td>\n",
       "      <td>6</td>\n",
       "    </tr>\n",
       "    <tr>\n",
       "      <td>...</td>\n",
       "      <td>...</td>\n",
       "      <td>...</td>\n",
       "      <td>...</td>\n",
       "      <td>...</td>\n",
       "      <td>...</td>\n",
       "      <td>...</td>\n",
       "      <td>...</td>\n",
       "      <td>...</td>\n",
       "      <td>...</td>\n",
       "      <td>...</td>\n",
       "    </tr>\n",
       "    <tr>\n",
       "      <td>248</td>\n",
       "      <td>249</td>\n",
       "      <td>18-01-2012</td>\n",
       "      <td>(Madrid)</td>\n",
       "      <td>R. Madrid - Barcelona</td>\n",
       "      <td>1-2</td>\n",
       "      <td>Copa Rey 4ºf.ida</td>\n",
       "      <td>R. Madrid</td>\n",
       "      <td>Barcelona</td>\n",
       "      <td>1</td>\n",
       "      <td>2</td>\n",
       "    </tr>\n",
       "    <tr>\n",
       "      <td>252</td>\n",
       "      <td>253</td>\n",
       "      <td>23-08-2012</td>\n",
       "      <td>(Madrid)</td>\n",
       "      <td>R.Madrid  - Barcelona</td>\n",
       "      <td>2-1</td>\n",
       "      <td>S.Copa España Vu.</td>\n",
       "      <td>R.Madrid</td>\n",
       "      <td>Barcelona</td>\n",
       "      <td>2</td>\n",
       "      <td>1</td>\n",
       "    </tr>\n",
       "    <tr>\n",
       "      <td>254</td>\n",
       "      <td>255</td>\n",
       "      <td>30-01-2013</td>\n",
       "      <td>(Madrid)</td>\n",
       "      <td>R.Madrid  - Barcelona</td>\n",
       "      <td>1-1</td>\n",
       "      <td>Copa Rey Semi.ida</td>\n",
       "      <td>R.Madrid</td>\n",
       "      <td>Barcelona</td>\n",
       "      <td>1</td>\n",
       "      <td>1</td>\n",
       "    </tr>\n",
       "    <tr>\n",
       "      <td>256</td>\n",
       "      <td>257</td>\n",
       "      <td>02-03-2013</td>\n",
       "      <td>(Madrid)</td>\n",
       "      <td>R.Madrid  - Barcelona</td>\n",
       "      <td>2-1</td>\n",
       "      <td>Cto. de Liga-2ªv.</td>\n",
       "      <td>R.Madrid</td>\n",
       "      <td>Barcelona</td>\n",
       "      <td>2</td>\n",
       "      <td>1</td>\n",
       "    </tr>\n",
       "    <tr>\n",
       "      <td>258</td>\n",
       "      <td>259</td>\n",
       "      <td>23-03-2014</td>\n",
       "      <td>(Madrid)</td>\n",
       "      <td>R.Madrid  - Barcelona</td>\n",
       "      <td>3-4</td>\n",
       "      <td>Cto. de Liga-2!v.</td>\n",
       "      <td>R.Madrid</td>\n",
       "      <td>Barcelona</td>\n",
       "      <td>3</td>\n",
       "      <td>4</td>\n",
       "    </tr>\n",
       "  </tbody>\n",
       "</table>\n",
       "<p>130 rows × 10 columns</p>\n",
       "</div>"
      ],
      "text/plain": [
       "       N°       Fecha        (Lugar)               Partidos       resultado  \\\n",
       "0       1  13-05-1902    (Madrid)     Madrid FC - Barcelona             1-3   \n",
       "4       5  06-01-1914    (Madrid)     Madrid FC - Barcelona             2-2   \n",
       "5       6  10-01-1914    (Madrid)     Madrid FC - Barcelona             0-2   \n",
       "8       9  02-04-1916    (Madrid)     Madrid FC - Barcelona             4-1   \n",
       "9      10  13-04-1916    (Madrid)     Madrid FC - Barcelona             6-6   \n",
       "..    ...         ...            ...                    ...             ...   \n",
       "248   249  18-01-2012    (Madrid)     R. Madrid - Barcelona             1-2   \n",
       "252   253  23-08-2012    (Madrid)     R.Madrid  - Barcelona             2-1   \n",
       "254   255  30-01-2013    (Madrid)     R.Madrid  - Barcelona             1-1   \n",
       "256   257  02-03-2013    (Madrid)     R.Madrid  - Barcelona             2-1   \n",
       "258   259  23-03-2014    (Madrid)     R.Madrid  - Barcelona             3-4   \n",
       "\n",
       "            Competición equip_local equip_visitant gols_local gols_visitant  \n",
       "0    Copa del Rey (1/2)  Madrid FC       Barcelona          1             3  \n",
       "4      Partido amistoso  Madrid FC       Barcelona          2             2  \n",
       "5      Partido amistoso  Madrid FC       Barcelona          0             2  \n",
       "8    Copa del Rey (1/2)  Madrid FC       Barcelona          4             1  \n",
       "9    Copa del Rey (1/2)  Madrid FC       Barcelona          6             6  \n",
       "..                  ...         ...            ...        ...           ...  \n",
       "248    Copa Rey 4ºf.ida  R. Madrid       Barcelona          1             2  \n",
       "252   S.Copa España Vu.  R.Madrid        Barcelona          2             1  \n",
       "254   Copa Rey Semi.ida  R.Madrid        Barcelona          1             1  \n",
       "256   Cto. de Liga-2ªv.  R.Madrid        Barcelona          2             1  \n",
       "258   Cto. de Liga-2!v.  R.Madrid        Barcelona          3             4  \n",
       "\n",
       "[130 rows x 10 columns]"
      ]
     },
     "execution_count": 72,
     "metadata": {},
     "output_type": "execute_result"
    }
   ],
   "source": [
    "#aqui filtro els partits barca-madrid, madrid_barca per saber el guanyador depenent de si el primer valor 'gols local'\n",
    "# es mes gran que l'indicador gols_visitant\n",
    "#type(classics['gols_local'][0]) amb aixó sé que es un string per tant he de transformar el string a float\n",
    "data_madrid_juga_a_casa=classics[madrid_barca]\n",
    "data_barca_juga_a_casa=classics[barca_madrid]\n",
    "contar_jocs=classics.count()\n",
    "#contar_jocs=contar_jocs[0]\n",
    "data_madrid_juga_a_casa"
   ]
  },
  {
   "cell_type": "code",
   "execution_count": 77,
   "metadata": {},
   "outputs": [
    {
     "name": "stdout",
     "output_type": "stream",
     "text": [
      "Number of matches Barca has won: 107\n",
      "Number of matches Madrid has won: 94\n",
      "Number of matches Draws: 59\n"
     ]
    }
   ],
   "source": [
    "\n",
    "print(\"Number of matches Barca has won:\",np.add(sum(data_madrid_juga_a_casa[\"gols_local\"]<data_madrid_juga_a_casa[\"gols_visitant\"]),\n",
    "                                             sum(data_barca_juga_a_casa[\"gols_local\"]>data_barca_juga_a_casa[\"gols_visitant\"])))\n",
    "print(\"Number of matches Madrid has won:\",np.add(sum(data_madrid_juga_a_casa[\"gols_local\"]>data_madrid_juga_a_casa[\"gols_visitant\"]),\n",
    "                                              sum(data_barca_juga_a_casa[\"gols_local\"]<data_barca_juga_a_casa[\"gols_visitant\"])))\n",
    "print(\"Number of matches Draws:\",np.add(sum(data_madrid_juga_a_casa[\"gols_local\"]==data_madrid_juga_a_casa[\"gols_visitant\"]),\n",
    "                                             sum(data_barca_juga_a_casa[\"gols_local\"]==data_barca_juga_a_casa[\"gols_visitant\"])))"
   ]
  }
 ],
 "metadata": {
  "kernelspec": {
   "display_name": "Python 3",
   "language": "python",
   "name": "python3"
  },
  "language_info": {
   "codemirror_mode": {
    "name": "ipython",
    "version": 3
   },
   "file_extension": ".py",
   "mimetype": "text/x-python",
   "name": "python",
   "nbconvert_exporter": "python",
   "pygments_lexer": "ipython3",
   "version": "3.7.4"
  }
 },
 "nbformat": 4,
 "nbformat_minor": 1
}
